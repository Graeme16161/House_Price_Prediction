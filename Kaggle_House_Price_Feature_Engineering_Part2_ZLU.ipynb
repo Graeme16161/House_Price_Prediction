{
 "cells": [
  {
   "cell_type": "markdown",
   "metadata": {},
   "source": [
    "# House Prices: Advanced Regression Techniques\n",
    "\n",
    "<p><a name=\"sections\"></a></p>\n",
    "\n",
    "\n",
    "## Sections\n",
    "\n",
    "- <a href=\"#description\">Description</a><br>\n",
    "- <a href=\"#executive_summary\">Executive Summary</a><br>\n",
    "- <a href=\"#data_import\">Data Import</a><br>\n",
    "- <a href=\"#Feature Engineering (Advanced)\">Feature Engineering (Advanced)</a><br>\n",
    "- <a href=\"#data_cleaning_and_eda\">Data Cleaning and EDA</a><br>\n",
    "- <a href=\"#models\">Models</a><br>\n",
    "    - <a href=\"#lasso\">Lasso</a><br>\n",
    "    - <a href=\"#decision_tree\">Decision Tree</a><br>\n",
    "    - <a href=\"#bagging\">Bagging</a><br>\n",
    "    - <a href=\"#random_forest\">Random Forest</a><br>\n",
    "    - <a href=\"#boosting\">Boosting</a><br>\n",
    "    - <a href=\"#xgboost\">XGBoost</a><br>\n",
    "- <a href=\"#submission\">Submission</a><br>"
   ]
  },
  {
   "cell_type": "markdown",
   "metadata": {},
   "source": [
    "<p><a name=\"description\"></a></p>"
   ]
  },
  {
   "cell_type": "markdown",
   "metadata": {},
   "source": [
    "## Description"
   ]
  },
  {
   "cell_type": "markdown",
   "metadata": {},
   "source": [
    "<p><a name=\"executive_summary\"></a></p>"
   ]
  },
  {
   "cell_type": "markdown",
   "metadata": {},
   "source": [
    "## Executive Summary"
   ]
  },
  {
   "cell_type": "markdown",
   "metadata": {},
   "source": [
    "<p><a name=\"data_import_and_cleaning\"></a></p>"
   ]
  },
  {
   "cell_type": "markdown",
   "metadata": {},
   "source": [
    "## Data Import and Cleaning"
   ]
  },
  {
   "cell_type": "markdown",
   "metadata": {},
   "source": [
    "**import libaries**"
   ]
  },
  {
   "cell_type": "code",
   "execution_count": 630,
   "metadata": {},
   "outputs": [],
   "source": [
    "import numpy as np\n",
    "import pandas as pd\n",
    "import matplotlib.pyplot as plt\n",
    "import seaborn as sns\n",
    "from sklearn.preprocessing import PolynomialFeatures\n",
    "from sklearn.linear_model import LinearRegression\n",
    "from sklearn.pipeline import make_pipeline\n",
    "from scipy.stats import skew\n",
    "from sklearn.model_selection import cross_val_score, train_test_split,GridSearchCV\n",
    "from sklearn.linear_model import LinearRegression, RidgeCV, LassoCV, ElasticNetCV,ElasticNet, Lasso\n",
    "from sklearn.preprocessing import StandardScaler\n",
    "from sklearn.metrics import mean_squared_error, make_scorer, mean_squared_log_error\n",
    "from sklearn.model_selection import RepeatedKFold\n",
    "from sklearn.neighbors import KNeighborsRegressor\n",
    "import xgboost as xgb\n",
    "# from sklearn.model_selection import RepeatedKFold #why it doesn't work???\n",
    "# from feature_selection import VarianceReduction"
   ]
  },
  {
   "cell_type": "code",
   "execution_count": 420,
   "metadata": {},
   "outputs": [
    {
     "name": "stdout",
     "output_type": "stream",
     "text": [
      "3.7.3 (default, Mar 27 2019, 16:54:48) \n",
      "[Clang 4.0.1 (tags/RELEASE_401/final)]\n"
     ]
    }
   ],
   "source": [
    "import sys\n",
    "print(sys.version)"
   ]
  },
  {
   "cell_type": "markdown",
   "metadata": {},
   "source": [
    "Note: ImportError: cannot import name 'RepeatedKFold'\n",
    "\n",
    "Solution (Windows):\n",
    "\n",
    "conda config --append channels conda-forge\n",
    "\n",
    "conda install scikit-learn=0.19.2"
   ]
  },
  {
   "cell_type": "markdown",
   "metadata": {},
   "source": [
    "**read training data**"
   ]
  },
  {
   "cell_type": "code",
   "execution_count": 574,
   "metadata": {
    "scrolled": true
   },
   "outputs": [
    {
     "name": "stdout",
     "output_type": "stream",
     "text": [
      "train : (1460, 81)\n"
     ]
    },
    {
     "data": {
      "text/html": [
       "<div>\n",
       "<style scoped>\n",
       "    .dataframe tbody tr th:only-of-type {\n",
       "        vertical-align: middle;\n",
       "    }\n",
       "\n",
       "    .dataframe tbody tr th {\n",
       "        vertical-align: top;\n",
       "    }\n",
       "\n",
       "    .dataframe thead th {\n",
       "        text-align: right;\n",
       "    }\n",
       "</style>\n",
       "<table border=\"1\" class=\"dataframe\">\n",
       "  <thead>\n",
       "    <tr style=\"text-align: right;\">\n",
       "      <th></th>\n",
       "      <th>1stFlrSF</th>\n",
       "      <th>2ndFlrSF</th>\n",
       "      <th>3SsnPorch</th>\n",
       "      <th>Alley</th>\n",
       "      <th>BedroomAbvGr</th>\n",
       "      <th>BldgType</th>\n",
       "      <th>BsmtCond</th>\n",
       "      <th>BsmtExposure</th>\n",
       "      <th>BsmtFinSF1</th>\n",
       "      <th>BsmtFinSF2</th>\n",
       "      <th>...</th>\n",
       "      <th>SaleType</th>\n",
       "      <th>ScreenPorch</th>\n",
       "      <th>Street</th>\n",
       "      <th>TotRmsAbvGrd</th>\n",
       "      <th>TotalBsmtSF</th>\n",
       "      <th>Utilities</th>\n",
       "      <th>WoodDeckSF</th>\n",
       "      <th>YearBuilt</th>\n",
       "      <th>YearRemodAdd</th>\n",
       "      <th>YrSold</th>\n",
       "    </tr>\n",
       "  </thead>\n",
       "  <tbody>\n",
       "    <tr>\n",
       "      <th>0</th>\n",
       "      <td>856</td>\n",
       "      <td>854</td>\n",
       "      <td>0</td>\n",
       "      <td>NaN</td>\n",
       "      <td>3</td>\n",
       "      <td>1Fam</td>\n",
       "      <td>TA</td>\n",
       "      <td>No</td>\n",
       "      <td>706</td>\n",
       "      <td>0</td>\n",
       "      <td>...</td>\n",
       "      <td>WD</td>\n",
       "      <td>0</td>\n",
       "      <td>Pave</td>\n",
       "      <td>8</td>\n",
       "      <td>856</td>\n",
       "      <td>AllPub</td>\n",
       "      <td>0</td>\n",
       "      <td>2003</td>\n",
       "      <td>2003</td>\n",
       "      <td>2008</td>\n",
       "    </tr>\n",
       "  </tbody>\n",
       "</table>\n",
       "<p>1 rows × 81 columns</p>\n",
       "</div>"
      ],
      "text/plain": [
       "   1stFlrSF  2ndFlrSF  3SsnPorch Alley  BedroomAbvGr BldgType BsmtCond  \\\n",
       "0       856       854          0   NaN             3     1Fam       TA   \n",
       "\n",
       "  BsmtExposure  BsmtFinSF1  BsmtFinSF2  ... SaleType ScreenPorch  Street  \\\n",
       "0           No         706           0  ...       WD           0    Pave   \n",
       "\n",
       "   TotRmsAbvGrd TotalBsmtSF  Utilities WoodDeckSF YearBuilt YearRemodAdd  \\\n",
       "0             8         856     AllPub          0      2003         2003   \n",
       "\n",
       "  YrSold  \n",
       "0   2008  \n",
       "\n",
       "[1 rows x 81 columns]"
      ]
     },
     "execution_count": 574,
     "metadata": {},
     "output_type": "execute_result"
    }
   ],
   "source": [
    "train = pd.read_csv('train.csv')\n",
    "print(\"train : \" + str(train.shape))\n",
    "train = train.reindex(columns=sorted(train.columns))\n",
    "train.head(1)"
   ]
  },
  {
   "cell_type": "code",
   "execution_count": 575,
   "metadata": {},
   "outputs": [
    {
     "name": "stdout",
     "output_type": "stream",
     "text": [
      "test : (1459, 80)\n"
     ]
    },
    {
     "data": {
      "text/html": [
       "<div>\n",
       "<style scoped>\n",
       "    .dataframe tbody tr th:only-of-type {\n",
       "        vertical-align: middle;\n",
       "    }\n",
       "\n",
       "    .dataframe tbody tr th {\n",
       "        vertical-align: top;\n",
       "    }\n",
       "\n",
       "    .dataframe thead th {\n",
       "        text-align: right;\n",
       "    }\n",
       "</style>\n",
       "<table border=\"1\" class=\"dataframe\">\n",
       "  <thead>\n",
       "    <tr style=\"text-align: right;\">\n",
       "      <th></th>\n",
       "      <th>1stFlrSF</th>\n",
       "      <th>2ndFlrSF</th>\n",
       "      <th>3SsnPorch</th>\n",
       "      <th>Alley</th>\n",
       "      <th>BedroomAbvGr</th>\n",
       "      <th>BldgType</th>\n",
       "      <th>BsmtCond</th>\n",
       "      <th>BsmtExposure</th>\n",
       "      <th>BsmtFinSF1</th>\n",
       "      <th>BsmtFinSF2</th>\n",
       "      <th>...</th>\n",
       "      <th>SaleType</th>\n",
       "      <th>ScreenPorch</th>\n",
       "      <th>Street</th>\n",
       "      <th>TotRmsAbvGrd</th>\n",
       "      <th>TotalBsmtSF</th>\n",
       "      <th>Utilities</th>\n",
       "      <th>WoodDeckSF</th>\n",
       "      <th>YearBuilt</th>\n",
       "      <th>YearRemodAdd</th>\n",
       "      <th>YrSold</th>\n",
       "    </tr>\n",
       "  </thead>\n",
       "  <tbody>\n",
       "    <tr>\n",
       "      <th>0</th>\n",
       "      <td>896</td>\n",
       "      <td>0</td>\n",
       "      <td>0</td>\n",
       "      <td>NaN</td>\n",
       "      <td>2</td>\n",
       "      <td>1Fam</td>\n",
       "      <td>TA</td>\n",
       "      <td>No</td>\n",
       "      <td>468.0</td>\n",
       "      <td>144.0</td>\n",
       "      <td>...</td>\n",
       "      <td>WD</td>\n",
       "      <td>120</td>\n",
       "      <td>Pave</td>\n",
       "      <td>5</td>\n",
       "      <td>882.0</td>\n",
       "      <td>AllPub</td>\n",
       "      <td>140</td>\n",
       "      <td>1961</td>\n",
       "      <td>1961</td>\n",
       "      <td>2010</td>\n",
       "    </tr>\n",
       "  </tbody>\n",
       "</table>\n",
       "<p>1 rows × 81 columns</p>\n",
       "</div>"
      ],
      "text/plain": [
       "   1stFlrSF  2ndFlrSF  3SsnPorch Alley  BedroomAbvGr BldgType BsmtCond  \\\n",
       "0       896         0          0   NaN             2     1Fam       TA   \n",
       "\n",
       "  BsmtExposure  BsmtFinSF1  BsmtFinSF2  ... SaleType ScreenPorch  Street  \\\n",
       "0           No       468.0       144.0  ...       WD         120    Pave   \n",
       "\n",
       "   TotRmsAbvGrd TotalBsmtSF  Utilities WoodDeckSF YearBuilt YearRemodAdd  \\\n",
       "0             5       882.0     AllPub        140      1961         1961   \n",
       "\n",
       "  YrSold  \n",
       "0   2010  \n",
       "\n",
       "[1 rows x 81 columns]"
      ]
     },
     "execution_count": 575,
     "metadata": {},
     "output_type": "execute_result"
    }
   ],
   "source": [
    "test = pd.read_csv('test.csv')\n",
    "print(\"test : \" + str(test.shape))\n",
    "test = test.reindex(columns=sorted(train.columns))\n",
    "test.head(1)"
   ]
  },
  {
   "cell_type": "code",
   "execution_count": 576,
   "metadata": {},
   "outputs": [
    {
     "name": "stdout",
     "output_type": "stream",
     "text": [
      "There are 0 duplicate IDs for 1460 total entries\n"
     ]
    }
   ],
   "source": [
    "# Check for duplicates \n",
    "idsUnique = len(set(train.Id))\n",
    "idsTotal = train.shape[0]\n",
    "idsDupli = idsTotal - idsUnique\n",
    "print(\"There are \" + str(idsDupli) + \" duplicate IDs for \" + str(idsTotal) + \" total entries\")\n",
    "target_var=train[['SalePrice']]"
   ]
  },
  {
   "cell_type": "code",
   "execution_count": 577,
   "metadata": {},
   "outputs": [
    {
     "name": "stdout",
     "output_type": "stream",
     "text": [
      "0          1\n",
      "2000    2001\n",
      "Name: Id, dtype: int64 (2919, 81)\n"
     ]
    }
   ],
   "source": [
    "# combine train and test sets\n",
    "data = pd.concat([train,test],axis=0)\n",
    "data.reset_index(inplace=True,drop=True)\n",
    "print(data.loc[[0,2000],'Id'], data.shape)"
   ]
  },
  {
   "cell_type": "code",
   "execution_count": 578,
   "metadata": {},
   "outputs": [],
   "source": [
    "train=data.drop(['SalePrice'],axis=1)"
   ]
  },
  {
   "cell_type": "code",
   "execution_count": null,
   "metadata": {},
   "outputs": [],
   "source": []
  },
  {
   "cell_type": "markdown",
   "metadata": {},
   "source": [
    "## Data Types"
   ]
  },
  {
   "cell_type": "code",
   "execution_count": 579,
   "metadata": {},
   "outputs": [
    {
     "name": "stdout",
     "output_type": "stream",
     "text": [
      "number of numeric columns: 37\n",
      "number categoric columns: 43\n"
     ]
    }
   ],
   "source": [
    "#data types\n",
    "# numeric data\n",
    "train_numeric = train._get_numeric_data()\n",
    "# all columns\n",
    "cols_all = train.columns.tolist()\n",
    "# numeric columns\n",
    "cols_numeric = train_numeric.columns.tolist()\n",
    "# categoric columns\n",
    "cols_categoric = list(set(cols_all)-set(cols_numeric))\n",
    "# categoric data\n",
    "train_categoric = train.loc[:,cols_categoric]\n",
    "print('number of numeric columns: {}'.format(len(cols_numeric)))\n",
    "print('number categoric columns: {}'.format(len(cols_categoric)))\n"
   ]
  },
  {
   "cell_type": "code",
   "execution_count": 580,
   "metadata": {},
   "outputs": [
    {
     "name": "stdout",
     "output_type": "stream",
     "text": [
      "Numerical features : 37\n",
      "Categorical features : 43\n"
     ]
    }
   ],
   "source": [
    "# Differentiate numerical features (minus the target) and categorical features\n",
    "categorical_features = train.select_dtypes(include = [\"object\"]).columns\n",
    "numerical_features = train.select_dtypes(exclude = [\"object\"]).columns\n",
    "print(\"Numerical features : \" + str(len(numerical_features)))\n",
    "print(\"Categorical features : \" + str(len(categorical_features)))\n",
    "train_num = train[numerical_features]\n",
    "train_cat = train[categorical_features]"
   ]
  },
  {
   "cell_type": "code",
   "execution_count": 581,
   "metadata": {},
   "outputs": [
    {
     "name": "stdout",
     "output_type": "stream",
     "text": [
      "Numerical features w/ NAs: ['BsmtFinSF1' 'BsmtFinSF2' 'BsmtFullBath' 'BsmtHalfBath' 'BsmtUnfSF'\n",
      " 'GarageArea' 'GarageCars' 'GarageYrBlt' 'LotFrontage' 'MasVnrArea'\n",
      " 'TotalBsmtSF']\n",
      "Categorical features w/ NAs: ['Alley' 'BsmtCond' 'BsmtExposure' 'BsmtFinType1' 'BsmtFinType2'\n",
      " 'BsmtQual' 'Electrical' 'Exterior1st' 'Exterior2nd' 'Fence' 'FireplaceQu'\n",
      " 'Functional' 'GarageCond' 'GarageFinish' 'GarageQual' 'GarageType'\n",
      " 'KitchenQual' 'MSZoning' 'MasVnrType' 'MiscFeature' 'PoolQC' 'SaleType'\n",
      " 'Utilities']\n"
     ]
    }
   ],
   "source": [
    "df=train_num\n",
    "print(\"Numerical features w/ NAs: \" +str(df.columns[df.isnull().any()].values))\n",
    "df=train_cat\n",
    "print(\"Categorical features w/ NAs: \" +str(df.columns[df.isnull().any()].values))"
   ]
  },
  {
   "cell_type": "markdown",
   "metadata": {},
   "source": [
    "## Missing value imputation"
   ]
  },
  {
   "cell_type": "code",
   "execution_count": 582,
   "metadata": {},
   "outputs": [
    {
     "data": {
      "text/plain": [
       "VinylSd    1025\n",
       "MetalSd     450\n",
       "HdBoard     442\n",
       "Wd Sdng     411\n",
       "Plywood     221\n",
       "CemntBd     126\n",
       "BrkFace      87\n",
       "WdShing      56\n",
       "AsbShng      44\n",
       "Stucco       43\n",
       "BrkComm       6\n",
       "Stone         2\n",
       "AsphShn       2\n",
       "CBlock        2\n",
       "ImStucc       1\n",
       "Name: Exterior1st, dtype: int64"
      ]
     },
     "execution_count": 582,
     "metadata": {},
     "output_type": "execute_result"
    }
   ],
   "source": [
    "train['Exterior1st'].value_counts()"
   ]
  },
  {
   "cell_type": "code",
   "execution_count": 583,
   "metadata": {},
   "outputs": [],
   "source": [
    "# Handle missing values for features where median/mean or most common value doesn't make sense\n",
    "# some of the following are redundant\n",
    "# Alley : data description says NA means \"no alley access\"\n",
    "train.loc[:, \"Alley\"] = train.loc[:, \"Alley\"].fillna(\"None\")\n",
    "\n",
    "# BsmtQual etc : data description says NA for basement features is \"no basement\"\n",
    "train.loc[:, \"BsmtCond\"] = train.loc[:, \"BsmtCond\"].fillna(\"No\")\n",
    "train.loc[:, \"BsmtExposure\"] = train.loc[:, \"BsmtExposure\"].fillna(\"No\")\n",
    "train.loc[:, \"BsmtFinType1\"] = train.loc[:, \"BsmtFinType1\"].fillna(\"No\")\n",
    "train.loc[:, \"BsmtFinType2\"] = train.loc[:, \"BsmtFinType2\"].fillna(\"No\")\n",
    "train.loc[:, \"BsmtQual\"] = train.loc[:, \"BsmtQual\"].fillna(\"No\")\n",
    "\n",
    "# NA Bsmt means 0\n",
    "for col in ['BsmtFinSF1','BsmtFinSF2','TotalBsmtSF','BsmtUnfSF','BsmtHalfBath','BsmtFullBath']:\n",
    "    train[col].fillna(0,inplace=True)   \n",
    "    \n",
    "# EnclosedPorch : NA most likely means no enclosed porch\n",
    "train.loc[:, \"EnclosedPorch\"] = train.loc[:, \"EnclosedPorch\"].fillna(0)\n",
    "# Fence : data description says NA means \"no fence\"\n",
    "train.loc[:, \"Fence\"] = train.loc[:, \"Fence\"].fillna(\"No\")\n",
    "# FireplaceQu : data description says NA means \"no fireplace\"\n",
    "train.loc[:, \"FireplaceQu\"] = train.loc[:, \"FireplaceQu\"].fillna(\"No\")\n",
    "train.loc[:, \"Fireplaces\"] = train.loc[:, \"Fireplaces\"].fillna(0)\n",
    "# Functional : data description says NA means typical\n",
    "train.loc[:, \"Functional\"] = train.loc[:, \"Functional\"].fillna(\"Typ\")\n",
    "# GarageType etc : data description says NA for garage features is \"no garage\"\n",
    "train.loc[:, \"GarageType\"] = train.loc[:, \"GarageType\"].fillna(\"No\")\n",
    "train.loc[:, \"GarageFinish\"] = train.loc[:, \"GarageFinish\"].fillna(\"No\")\n",
    "train.loc[:, \"GarageQual\"] = train.loc[:, \"GarageQual\"].fillna(\"No\")\n",
    "train.loc[:, \"GarageCond\"] = train.loc[:, \"GarageCond\"].fillna(\"No\")\n",
    "train.loc[:, \"GarageArea\"] = train.loc[:, \"GarageArea\"].fillna(0)\n",
    "train.loc[:, \"GarageCars\"] = train.loc[:, \"GarageCars\"].fillna(0)\n",
    "# HalfBath : NA most likely means no half baths above grade\n",
    "train.loc[:, \"HalfBath\"] = train.loc[:, \"HalfBath\"].fillna(0)\n",
    "# HeatingQC : NA most likely means typical\n",
    "train.loc[:, \"HeatingQC\"] = train.loc[:, \"HeatingQC\"].fillna(\"TA\")\n",
    "# KitchenAbvGr : NA most likely means 0\n",
    "train.loc[:, \"KitchenAbvGr\"] = train.loc[:, \"KitchenAbvGr\"].fillna(0)\n",
    "# KitchenQual : NA most likely means typical\n",
    "train.loc[:, \"KitchenQual\"] = train.loc[:, \"KitchenQual\"].fillna(\"TA\")\n",
    "# LotFrontage : NA most likely means no lot frontage\n",
    "train.loc[:, \"LotFrontage\"] = train.loc[:, \"LotFrontage\"].fillna(0)\n",
    "# LotShape : NA most likely means regular\n",
    "train.loc[:, \"LotShape\"] = train.loc[:, \"LotShape\"].fillna(\"Reg\")\n",
    "# MasVnrType : NA most likely means no veneer\n",
    "train.loc[:, \"MasVnrType\"] = train.loc[:, \"MasVnrType\"].fillna(\"None\")\n",
    "train.loc[:, \"MasVnrArea\"] = train.loc[:, \"MasVnrArea\"].fillna(0)\n",
    "# MiscFeature : data description says NA means \"no misc feature\"\n",
    "train.loc[:, \"MiscFeature\"] = train.loc[:, \"MiscFeature\"].fillna(\"No\")\n",
    "train.loc[:, \"MiscVal\"] = train.loc[:, \"MiscVal\"].fillna(0)\n",
    "# OpenPorchSF : NA most likely means no open porch\n",
    "train.loc[:, \"OpenPorchSF\"] = train.loc[:, \"OpenPorchSF\"].fillna(0)\n",
    "# PavedDrive : NA most likely means not paved\n",
    "train.loc[:, \"PavedDrive\"] = train.loc[:, \"PavedDrive\"].fillna(\"N\")\n",
    "# PoolQC : data description says NA means \"no pool\"\n",
    "train.loc[:, \"PoolQC\"] = train.loc[:, \"PoolQC\"].fillna(\"No\")\n",
    "train.loc[:, \"PoolArea\"] = train.loc[:, \"PoolArea\"].fillna(0)\n",
    "# SaleCondition : NA most likely means normal sale\n",
    "train.loc[:, \"SaleCondition\"] = train.loc[:, \"SaleCondition\"].fillna(\"Normal\")\n",
    "# ScreenPorch : NA most likely means no screen porch\n",
    "train.loc[:, \"ScreenPorch\"] = train.loc[:, \"ScreenPorch\"].fillna(0)\n",
    "# TotRmsAbvGrd : NA most likely means 0\n",
    "train.loc[:, \"TotRmsAbvGrd\"] = train.loc[:, \"TotRmsAbvGrd\"].fillna(0)\n",
    "# Utilities : NA most likely means all public utilities\n",
    "train.loc[:, \"Utilities\"] = train.loc[:, \"Utilities\"].fillna(\"AllPub\")\n",
    "# Electrical : NA most likely means SBrkr\n",
    "train.loc[:, \"Electrical\"] = train.loc[:, \"Electrical\"].fillna(\"SBrkr\")\n",
    "# GarageYrBlt: NA same as \n",
    "train.loc[train.GarageYrBlt.isnull(), \"GarageYrBlt\"] = train.loc[train.GarageYrBlt.isnull(), \"YearBuilt\"]\n",
    "\n",
    "# fill w/ mode\n",
    "for col in ['Exterior1st','Exterior2nd','SaleType']:\n",
    "    train[col].fillna(data[col].mode()[0],inplace=True)    \n",
    "train['MSZoning'] =  train.groupby('Neighborhood')['MSZoning'].transform(lambda x: x.fillna(x.mode()[0]))"
   ]
  },
  {
   "cell_type": "code",
   "execution_count": 584,
   "metadata": {},
   "outputs": [
    {
     "name": "stdout",
     "output_type": "stream",
     "text": [
      "Features w/ NAs: []\n"
     ]
    }
   ],
   "source": [
    "df=train\n",
    "print(\"Features w/ NAs: \" +str(df.columns[df.isnull().any()].values))"
   ]
  },
  {
   "cell_type": "code",
   "execution_count": 585,
   "metadata": {},
   "outputs": [],
   "source": [
    "# Some numerical features are actually really categories\n",
    "train = train.replace({\"MSSubClass\" : {20 : \"SC20\", 30 : \"SC30\", 40 : \"SC40\", 45 : \"SC45\", \n",
    "                                       50 : \"SC50\", 60 : \"SC60\", 70 : \"SC70\", 75 : \"SC75\", \n",
    "                                       80 : \"SC80\", 85 : \"SC85\", 90 : \"SC90\", 120 : \"SC120\", \n",
    "                                       150 : \"SC150\", 160 : \"SC160\", 180 : \"SC180\", 190 : \"SC190\"},\n",
    "                       \"MoSold\" : {1 : \"Jan\", 2 : \"Feb\", 3 : \"Mar\", 4 : \"Apr\", 5 : \"May\", 6 : \"Jun\",\n",
    "                                   7 : \"Jul\", 8 : \"Aug\", 9 : \"Sep\", 10 : \"Oct\", 11 : \"Nov\", 12 : \"Dec\"}\n",
    "                      })"
   ]
  },
  {
   "cell_type": "code",
   "execution_count": 586,
   "metadata": {},
   "outputs": [
    {
     "name": "stdout",
     "output_type": "stream",
     "text": [
      "Numerical features : 35\n",
      "Categorical features : 45\n",
      "NAs for numerical features in train : 0\n",
      "Remaining NAs for numerical features in train : 0\n"
     ]
    }
   ],
   "source": [
    "# non-missing dataset\n",
    "categorical_features = train.select_dtypes(include = [\"object\"]).columns\n",
    "numerical_features = train.select_dtypes(exclude = [\"object\"]).columns\n",
    "print(\"Numerical features : \" + str(len(numerical_features)))\n",
    "print(\"Categorical features : \" + str(len(categorical_features)))\n",
    "train_num = train[numerical_features]\n",
    "train_cat = train[categorical_features]\n",
    "print(\"NAs for numerical features in train : \" + str(train_num.isnull().values.sum()))\n",
    "train_num = train_num.fillna(train_num.median())\n",
    "print(\"Remaining NAs for numerical features in train : \" + str(train_num.isnull().values.sum()))"
   ]
  },
  {
   "cell_type": "markdown",
   "metadata": {},
   "source": [
    "## Basic final dataset output"
   ]
  },
  {
   "cell_type": "code",
   "execution_count": 587,
   "metadata": {},
   "outputs": [
    {
     "name": "stdout",
     "output_type": "stream",
     "text": [
      "Number of numerical variables: 35\n",
      "Number of categorical dummies: 293\n",
      "Number of dummies for 0s: 24\n"
     ]
    }
   ],
   "source": [
    "# generate dummy variables for categorical variables and numeric variables=0;\n",
    "train_cat_dum = pd.get_dummies(train_cat)\n",
    "cols=train_num.columns[train_num.apply(lambda x: x==0).sum()>0]\n",
    "train_num_absent = train_num.loc[:,cols].apply(lambda x: x==0).astype(int).add_suffix('_absent')\n",
    "print(\"Number of numerical variables: {}\".format(len(train_num.columns)))\n",
    "print(\"Number of categorical dummies: {}\".format(len(train_cat_dum.columns)))\n",
    "print(\"Number of dummies for 0s: {}\".format(len(train_num_absent.columns)))\n",
    "# Join categorical and numerical features\n",
    "pd.concat([target_var,train_num, train_cat_dum,train_num_absent], axis = 1).to_csv('final_dataset.csv',index=False)\n",
    "# data clean is done. Wrap the above into a .py file"
   ]
  },
  {
   "cell_type": "markdown",
   "metadata": {},
   "source": [
    "## Feature Engineering (Naive)\n",
    "#### see a separate file for initial exploration. The following transform is built on many trials and previous Kaggle blogs."
   ]
  },
  {
   "cell_type": "markdown",
   "metadata": {},
   "source": [
    "## Feature Engineering (Advanced)"
   ]
  },
  {
   "cell_type": "code",
   "execution_count": 588,
   "metadata": {},
   "outputs": [],
   "source": [
    "train = train.replace({\"Alley\" : {\"Grvl\" : 1, \"Pave\" : 2},\n",
    "                       \"BsmtCond\" : {\"No\" : 0, \"Po\" : 1, \"Fa\" : 2, \"TA\" : 3, \"Gd\" : 4, \"Ex\" : 5},\n",
    "                       \"BsmtExposure\" : {\"No\" : 0, \"Mn\" : 1, \"Av\": 2, \"Gd\" : 3},\n",
    "                       \"BsmtFinType1\" : {\"No\" : 0, \"Unf\" : 1, \"LwQ\": 2, \"Rec\" : 3, \"BLQ\" : 4, \n",
    "                                         \"ALQ\" : 5, \"GLQ\" : 6},\n",
    "                       \"BsmtFinType2\" : {\"No\" : 0, \"Unf\" : 1, \"LwQ\": 2, \"Rec\" : 3, \"BLQ\" : 4, \n",
    "                                         \"ALQ\" : 5, \"GLQ\" : 6},\n",
    "                       \"BsmtQual\" : {\"No\" : 0, \"Po\" : 1, \"Fa\" : 2, \"TA\": 3, \"Gd\" : 4, \"Ex\" : 5},\n",
    "                       \"ExterCond\" : {\"Po\" : 1, \"Fa\" : 2, \"TA\": 3, \"Gd\": 4, \"Ex\" : 5},\n",
    "                       \"ExterQual\" : {\"Po\" : 1, \"Fa\" : 2, \"TA\": 3, \"Gd\": 4, \"Ex\" : 5},\n",
    "                       \"FireplaceQu\" : {\"No\" : 0, \"Po\" : 1, \"Fa\" : 2, \"TA\" : 3, \"Gd\" : 4, \"Ex\" : 5},\n",
    "                       \"Functional\" : {\"Sal\" : 1, \"Sev\" : 2, \"Maj2\" : 3, \"Maj1\" : 4, \"Mod\": 5, \n",
    "                                       \"Min2\" : 6, \"Min1\" : 7, \"Typ\" : 8},\n",
    "                       \"GarageCond\" : {\"No\" : 0, \"Po\" : 1, \"Fa\" : 2, \"TA\" : 3, \"Gd\" : 4, \"Ex\" : 5},\n",
    "                       \"GarageQual\" : {\"No\" : 0, \"Po\" : 1, \"Fa\" : 2, \"TA\" : 3, \"Gd\" : 4, \"Ex\" : 5},\n",
    "                       \"HeatingQC\" : {\"Po\" : 1, \"Fa\" : 2, \"TA\" : 3, \"Gd\" : 4, \"Ex\" : 5},\n",
    "                       \"KitchenQual\" : {\"Po\" : 1, \"Fa\" : 2, \"TA\" : 3, \"Gd\" : 4, \"Ex\" : 5},\n",
    "                       \"LandSlope\" : {\"Sev\" : 1, \"Mod\" : 2, \"Gtl\" : 3},\n",
    "                       \"LotShape\" : {\"IR3\" : 1, \"IR2\" : 2, \"IR1\" : 3, \"Reg\" : 4},\n",
    "                       \"PavedDrive\" : {\"N\" : 0, \"P\" : 1, \"Y\" : 2},\n",
    "                       \"PoolQC\" : {\"No\" : 0, \"Fa\" : 1, \"TA\" : 2, \"Gd\" : 3, \"Ex\" : 4},\n",
    "                       \"Street\" : {\"Grvl\" : 1, \"Pave\" : 2},\n",
    "                       \"Utilities\" : {\"ELO\" : 1, \"NoSeWa\" : 2, \"NoSewr\" : 3, \"AllPub\" : 4}}\n",
    "                     )\n"
   ]
  },
  {
   "cell_type": "code",
   "execution_count": 589,
   "metadata": {},
   "outputs": [],
   "source": [
    "# Create new features\n",
    "# 1* Simplifications of existing features\n",
    "train.OverallQual.replace({1 : 1, 2 : 1, 3 : 1, # bad\n",
    "                   4 : 2, 5 : 2, 6 : 2, # average\n",
    "                   7 : 3, 8 : 3, 9 : 3, 10 : 3 # good\n",
    "                  }, inplace=True)\n",
    "train.OverallCond.replace({1 : 1, 2 : 1, 3 : 1, # bad\n",
    "                   4 : 2, 5 : 2, 6 : 2, # average\n",
    "                   7 : 3, 8 : 3, 9 : 3, 10 : 3 # good\n",
    "                  }, inplace=True)\n",
    "train.PoolQC.replace({1 : 1, 2 : 1, # average\n",
    "         3 : 2, 4 : 2 # good\n",
    "        }, inplace=True)\n",
    "train.GarageCond.replace({1 : 1, # bad\n",
    "                 2 : 1, 3 : 1, # average\n",
    "                 4 : 2, 5 : 2 # good\n",
    "                }, inplace=True)\n",
    "train.GarageQual.replace({1 : 1, # bad\n",
    "                 2 : 1, 3 : 1, # average\n",
    "                 4 : 2, 5 : 2 # good\n",
    "                }, inplace=True)\n",
    "train.FireplaceQu.replace({1 : 1, # bad\n",
    "                   2 : 1, 3 : 1, # average\n",
    "                   4 : 2, 5 : 2 # good\n",
    "                  }, inplace=True)\n",
    "train.FireplaceQu.replace({1 : 1, # bad\n",
    "                   2 : 1, 3 : 1, # average\n",
    "                   4 : 2, 5 : 2 # good\n",
    "                  }, inplace=True)\n",
    "train.Functional.replace({1 : 1, 2 : 1, # bad\n",
    "                 3 : 2, 4 : 2, # major\n",
    "                 5 : 3, 6 : 3, 7 : 3, # minor\n",
    "                 8 : 4 # typical\n",
    "                }, inplace=True)\n",
    "train.KitchenQual.replace({1 : 1, # bad\n",
    "                   2 : 1, 3 : 1, # average\n",
    "                   4 : 2, 5 : 2 # good\n",
    "                  }, inplace=True)\n",
    "train.HeatingQC.replace({1 : 1, # bad\n",
    "               2 : 1, 3 : 1, # average\n",
    "               4 : 2, 5 : 2 # good\n",
    "              }, inplace=True)\n",
    "train.BsmtFinType1.replace({1 : 1, # unfinished\n",
    "                     2 : 1, 3 : 1, # rec room\n",
    "                     4 : 2, 5 : 2, 6 : 2 # living quarters\n",
    "                    }, inplace=True)\n",
    "train.BsmtFinType2.replace({1 : 1, # unfinished\n",
    "                     2 : 1, 3 : 1, # rec room\n",
    "                     4 : 2, 5 : 2, 6 : 2 # living quarters\n",
    "                    }, inplace=True)\n",
    "train.BsmtCond.replace({1 : 1, # bad\n",
    "             2 : 1, 3 : 1, # average\n",
    "             4 : 2, 5 : 2 # good\n",
    "            }, inplace=True)\n",
    "train.BsmtQual.replace({1 : 1, # bad\n",
    "             2 : 1, 3 : 1, # average\n",
    "             4 : 2, 5 : 2 # good\n",
    "            }, inplace=True)\n",
    "train.ExterCond.replace({1 : 1, # bad\n",
    "               2 : 1, 3 : 1, # average\n",
    "               4 : 2, 5 : 2 # good\n",
    "              }, inplace=True)\n",
    "train.ExterQual.replace({1 : 1, # bad\n",
    "               2 : 1, 3 : 1, # average\n",
    "               4 : 2, 5 : 2 # good\n",
    "              }, inplace=True)\n",
    "\n",
    "# Has masonry veneer or not\n",
    "train.MasVnrType.replace({\"BrkCmn\" : 1, \"BrkFace\" : 1, \"CBlock\" : 1, \n",
    "                                               \"Stone\" : 1, \"None\" : 0}, inplace=True)\n",
    "\n",
    "\n",
    "# House completed before sale or not\n",
    "train.SaleCondition.replace({\"Abnorml\" : 0, \"Alloca\" : 0, \"AdjLand\" : 0, \n",
    "                                                      \"Family\" : 0, \"Normal\" : 0, \"Partial\" : 1}, inplace=True)"
   ]
  },
  {
   "cell_type": "code",
   "execution_count": 590,
   "metadata": {},
   "outputs": [
    {
     "data": {
      "text/plain": [
       "0    1420\n",
       "1    1268\n",
       "2     219\n",
       "3      11\n",
       "4       1\n",
       "Name: Fireplaces, dtype: int64"
      ]
     },
     "execution_count": 590,
     "metadata": {},
     "output_type": "execute_result"
    }
   ],
   "source": [
    "train[\"Fireplaces\"].value_counts()"
   ]
  },
  {
   "cell_type": "code",
   "execution_count": 591,
   "metadata": {},
   "outputs": [],
   "source": [
    "def comb_cols_add(col1,col2):\n",
    "    train[col1]=train[col1]/train[col1].max() + train[col2]/train[col2].max()\n",
    "    return (train.drop(col2,axis=1))\n",
    "def comb_cols_mul(col1,col2):\n",
    "    train[col2]=train[col1]*train[col2]\n",
    "    return (train)"
   ]
  },
  {
   "cell_type": "code",
   "execution_count": 592,
   "metadata": {},
   "outputs": [],
   "source": [
    "# 2* Combinations of existing features\n",
    "# Overall quality of the house\n",
    "train=comb_cols_add(\"OverallQual\",\"OverallCond\") #normalize ratings\n",
    "train=comb_cols_add(\"ExterQual\",\"ExterCond\")\n",
    "train=comb_cols_add(\"GarageQual\",\"GarageCond\")\n",
    "train.drop([\"FireplaceQu\"], inplace=True, axis=1) #litte difference from Fireplaces\n",
    "train['PoolQC']=train['PoolQC']*train[\"PoolArea\"]\n",
    "train.drop([\"PoolArea\"], inplace=True, axis=1) #litte difference from Pool Quality\n",
    "# Combine area variables\n",
    "train[\"BsmtTotalBath\"] = train[\"BsmtFullBath\"] + (0.5 * train[\"BsmtHalfBath\"]) \n",
    "train[\"TotalBath\"]=train[\"FullBath\"] + (0.5 * train[\"HalfBath\"])\n",
    "train['BsmtFinSF']=train.BsmtFinSF1+train.BsmtFinSF2\n",
    "train.drop(['BsmtFullBath',\"BsmtHalfBath\",\"FullBath\",\"HalfBath\",\"TotalBsmtSF\",\"1stFlrSF\",\"2ndFlrSF\",'BsmtFinSF2','BsmtFinSF1'], axis=1, inplace=True)\n",
    "\n",
    "# Total SF for porch\n",
    "train[\"AllPorchSF\"] = train[\"OpenPorchSF\"] + train[\"EnclosedPorch\"] + \\\n",
    "train[\"3SsnPorch\"] + train[\"ScreenPorch\"]\n",
    "train.drop(['OpenPorchSF',\"EnclosedPorch\",\"3SsnPorch\",\"ScreenPorch\"], axis=1, inplace=True)"
   ]
  },
  {
   "cell_type": "code",
   "execution_count": 593,
   "metadata": {},
   "outputs": [
    {
     "name": "stdout",
     "output_type": "stream",
     "text": [
      "['YearBuilt', 'YearRemodAdd']\n",
      "['GarageYrBlt', 'YrSold']\n"
     ]
    }
   ],
   "source": [
    "# Transform Time variables\n",
    "for s in ['Year','Yr']:\n",
    "    cols = [col for col in train_num.columns if s in col]\n",
    "    print(cols)\n",
    "    for col in cols:\n",
    "        train[col]=train.YrSold-train[col]\n",
    "train.drop(['YrSold'],axis=1, inplace=True)"
   ]
  },
  {
   "cell_type": "code",
   "execution_count": 594,
   "metadata": {},
   "outputs": [
    {
     "name": "stdout",
     "output_type": "stream",
     "text": [
      "Numerical features : 41\n",
      "Categorical features : 24\n",
      "NAs for numerical features in train : 0\n",
      "Remaining NAs for numerical features in train : 0\n"
     ]
    }
   ],
   "source": [
    "categorical_features = train.select_dtypes(include = [\"object\"]).columns\n",
    "numerical_features = train.select_dtypes(exclude = [\"object\"]).columns\n",
    "print(\"Numerical features : \" + str(len(numerical_features)))\n",
    "print(\"Categorical features : \" + str(len(categorical_features)))\n",
    "train_num = train[numerical_features]\n",
    "train_cat = train[categorical_features]\n",
    "print(\"NAs for numerical features in train : \" + str(train_num.isnull().values.sum()))\n",
    "train_num = train_num.fillna(train_num.median())\n",
    "print(\"Remaining NAs for numerical features in train : \" + str(train_num.isnull().values.sum()))"
   ]
  },
  {
   "cell_type": "code",
   "execution_count": 595,
   "metadata": {},
   "outputs": [
    {
     "data": {
      "text/plain": [
       "MSSubClass  BldgType\n",
       "SC120       1Fam           5\n",
       "            Twnhs         15\n",
       "            TwnhsE       162\n",
       "SC150       Twnhs          1\n",
       "SC160       1Fam           1\n",
       "            Twnhs         71\n",
       "            TwnhsE        56\n",
       "SC180       Twnhs          9\n",
       "            TwnhsE         8\n",
       "SC190       1Fam           1\n",
       "            2fmCon        60\n",
       "SC20        1Fam        1077\n",
       "            2fmCon         1\n",
       "            TwnhsE         1\n",
       "SC30        1Fam         139\n",
       "SC40        1Fam           6\n",
       "SC45        1Fam          18\n",
       "SC50        1Fam         287\n",
       "SC60        1Fam         574\n",
       "            2fmCon         1\n",
       "SC70        1Fam         128\n",
       "SC75        1Fam          23\n",
       "SC80        1Fam         118\n",
       "SC85        1Fam          48\n",
       "SC90        Duplex       109\n",
       "dtype: int64"
      ]
     },
     "execution_count": 595,
     "metadata": {},
     "output_type": "execute_result"
    }
   ],
   "source": [
    "train.groupby([\"MSSubClass\",\"BldgType\"]).size() #wait for peter to code up the hierachical grouping for MSSub"
   ]
  },
  {
   "cell_type": "markdown",
   "metadata": {},
   "source": [
    "## Dummy variables"
   ]
  },
  {
   "cell_type": "code",
   "execution_count": 596,
   "metadata": {},
   "outputs": [
    {
     "name": "stderr",
     "output_type": "stream",
     "text": [
      "/Users/zlu15/anaconda3/lib/python3.7/site-packages/pandas/core/frame.py:3940: SettingWithCopyWarning: \n",
      "A value is trying to be set on a copy of a slice from a DataFrame\n",
      "\n",
      "See the caveats in the documentation: http://pandas.pydata.org/pandas-docs/stable/indexing.html#indexing-view-versus-copy\n",
      "  errors=errors)\n"
     ]
    }
   ],
   "source": [
    "# generate dummy variables for categorical variables and numeric variables=0;\n",
    "train_cat.drop(['Exterior2nd','MSSubClass'],axis=1,inplace=True) #Exterior2nd and Exterior1st highly correlated\n",
    "train_cat_dum = pd.get_dummies(train_cat)"
   ]
  },
  {
   "cell_type": "code",
   "execution_count": 597,
   "metadata": {},
   "outputs": [
    {
     "name": "stdout",
     "output_type": "stream",
     "text": [
      "num vars ['BsmtCond', 'BsmtExposure', 'BsmtFinType1', 'BsmtFinType2', 'BsmtQual', 'BsmtUnfSF', 'BsmtTotalBath', 'BsmtFinSF']\n",
      "cat vars []\n",
      "cat var dummies, []\n",
      "num vars ['MasVnrArea', 'MasVnrType']\n",
      "cat vars []\n",
      "cat var dummies, []\n",
      "num vars ['LotArea', 'LotFrontage', 'LotShape']\n",
      "cat vars ['LotConfig']\n",
      "cat var dummies, ['LotConfig_Corner', 'LotConfig_CulDSac', 'LotConfig_FR2', 'LotConfig_FR3', 'LotConfig_Inside']\n",
      "num vars ['PoolQC']\n",
      "cat vars []\n",
      "cat var dummies, []\n",
      "num vars ['GarageArea', 'GarageCars', 'GarageQual', 'GarageYrBlt']\n",
      "cat vars ['GarageFinish', 'GarageType']\n",
      "cat var dummies, ['GarageFinish_Fin', 'GarageFinish_No', 'GarageFinish_RFn', 'GarageFinish_Unf', 'GarageType_2Types', 'GarageType_Attchd', 'GarageType_Basment', 'GarageType_BuiltIn', 'GarageType_CarPort', 'GarageType_Detchd', 'GarageType_No']\n",
      "num vars ['AllPorchSF']\n",
      "cat vars []\n",
      "cat var dummies, []\n",
      "num vars ['WoodDeckSF']\n",
      "cat vars []\n",
      "cat var dummies, []\n",
      "num vars ['KitchenAbvGr', 'KitchenQual']\n",
      "cat vars []\n",
      "cat var dummies, []\n"
     ]
    }
   ],
   "source": [
    "# NA dummies analysis\n",
    "def zero_means_no(s):\n",
    "    cols = [col for col in train_num.columns if s in col]\n",
    "    df=train_num[cols]==0 #akward\n",
    "    if any(df.any())>0:\n",
    "        print('num vars',cols)\n",
    "        cols = [col for col in train_cat.columns if s in col]\n",
    "        print('cat vars',cols)\n",
    "        cols = [col for col in train_cat_dum.columns if s in col]\n",
    "        print('cat var dummies,',cols)\n",
    "for s in ['Bsmt','Mas','Lot','Pool','Garage','Porch','Deck','Kitchen','Exter']:\n",
    "    zero_means_no(s)"
   ]
  },
  {
   "cell_type": "code",
   "execution_count": 598,
   "metadata": {},
   "outputs": [
    {
     "data": {
      "text/plain": [
       "1    1563\n",
       "2    1356\n",
       "Name: KitchenQual, dtype: int64"
      ]
     },
     "execution_count": 598,
     "metadata": {},
     "output_type": "execute_result"
    }
   ],
   "source": [
    "train_clean.KitchenQual.value_counts()"
   ]
  },
  {
   "cell_type": "code",
   "execution_count": 599,
   "metadata": {},
   "outputs": [],
   "source": [
    "for s in ['Bsmt','LotFrontage','Porch','Deck']:\n",
    "    cols = [col for col in train_num.columns if s in col]\n",
    "    train_num[s+'_absent']=0\n",
    "    train_num.loc[train_num[cols].sum(axis=1)==0,s+'_absent']=1"
   ]
  },
  {
   "cell_type": "code",
   "execution_count": 600,
   "metadata": {},
   "outputs": [
    {
     "name": "stdout",
     "output_type": "stream",
     "text": [
      "Number of numerical variables: 45\n",
      "Number of categorical dummies: 162\n",
      "Number of dummies for 0s: 4\n"
     ]
    }
   ],
   "source": [
    "print(\"Number of numerical variables: {}\".format(len(train_num.columns)))\n",
    "print(\"Number of categorical dummies: {}\".format(len(train_cat_dum.columns)))\n",
    "print(\"Number of dummies for 0s: {}\".format(len([col for col in train_num.columns if 'absent' in col])))\n",
    "# Join categorical and numerical features\n",
    "train_small=pd.concat([target_var,train_num, train_cat_dum], axis = 1)\n",
    "# data clean is done. Wrap the above into a .py file"
   ]
  },
  {
   "cell_type": "code",
   "execution_count": 601,
   "metadata": {},
   "outputs": [],
   "source": [
    "# check pair-wise high correlations\n",
    "import copy \n",
    "train_clean=copy.deepcopy(train_num)\n",
    "corr_mat=train_clean.corr()\n",
    "np.fill_diagonal(corr_mat.values, 0)\n",
    "for i, col in enumerate(train_clean.columns.values):\n",
    "    if corr_mat[[col]].abs().sort_values(col,ascending=False).iloc[0,0]>0.9:\n",
    "        print(corr_mat[[col]].abs().sort_values(col,ascending=False).iloc[:2,:])\n",
    "        print(train_clean[col].value_counts()[:5])"
   ]
  },
  {
   "cell_type": "code",
   "execution_count": 602,
   "metadata": {},
   "outputs": [],
   "source": [
    "# explore 0 value for numerical variables\n",
    "# cols=train_num.columns[train_num.apply(lambda x: x==0).sum()>len(target_var)*0.1]\n",
    "# fig, axes = plt.subplots(len(cols),1, figsize=(5,25))\n",
    "# for i in range(len(cols)):\n",
    "#     print(cols[i])\n",
    "#     train_clean[[cols[i]]].hist(ax=axes[i])"
   ]
  },
  {
   "cell_type": "code",
   "execution_count": 603,
   "metadata": {},
   "outputs": [
    {
     "data": {
      "text/html": [
       "<div>\n",
       "<style scoped>\n",
       "    .dataframe tbody tr th:only-of-type {\n",
       "        vertical-align: middle;\n",
       "    }\n",
       "\n",
       "    .dataframe tbody tr th {\n",
       "        vertical-align: top;\n",
       "    }\n",
       "\n",
       "    .dataframe thead th {\n",
       "        text-align: right;\n",
       "    }\n",
       "</style>\n",
       "<table border=\"1\" class=\"dataframe\">\n",
       "  <thead>\n",
       "    <tr style=\"text-align: right;\">\n",
       "      <th></th>\n",
       "      <th>BedroomAbvGr</th>\n",
       "      <th>BsmtCond</th>\n",
       "      <th>BsmtExposure</th>\n",
       "      <th>BsmtFinType1</th>\n",
       "      <th>BsmtFinType2</th>\n",
       "      <th>BsmtQual</th>\n",
       "      <th>BsmtUnfSF</th>\n",
       "      <th>ExterQual</th>\n",
       "      <th>Fireplaces</th>\n",
       "      <th>Functional</th>\n",
       "      <th>...</th>\n",
       "      <th>YearBuilt</th>\n",
       "      <th>YearRemodAdd</th>\n",
       "      <th>BsmtTotalBath</th>\n",
       "      <th>TotalBath</th>\n",
       "      <th>BsmtFinSF</th>\n",
       "      <th>AllPorchSF</th>\n",
       "      <th>Bsmt_absent</th>\n",
       "      <th>LotFrontage_absent</th>\n",
       "      <th>Porch_absent</th>\n",
       "      <th>Deck_absent</th>\n",
       "    </tr>\n",
       "  </thead>\n",
       "  <tbody>\n",
       "    <tr>\n",
       "      <th>count</th>\n",
       "      <td>2919.000000</td>\n",
       "      <td>2919.000000</td>\n",
       "      <td>2919.000000</td>\n",
       "      <td>2919.000000</td>\n",
       "      <td>2919.000000</td>\n",
       "      <td>2919.00000</td>\n",
       "      <td>2919.000000</td>\n",
       "      <td>2919.000000</td>\n",
       "      <td>2919.000000</td>\n",
       "      <td>2919.000000</td>\n",
       "      <td>...</td>\n",
       "      <td>2919.000000</td>\n",
       "      <td>2919.000000</td>\n",
       "      <td>2919.000000</td>\n",
       "      <td>2919.000000</td>\n",
       "      <td>2919.000000</td>\n",
       "      <td>2919.000000</td>\n",
       "      <td>2919.000000</td>\n",
       "      <td>2919.000000</td>\n",
       "      <td>2919.000000</td>\n",
       "      <td>2919.000000</td>\n",
       "    </tr>\n",
       "    <tr>\n",
       "      <th>mean</th>\n",
       "      <td>2.860226</td>\n",
       "      <td>1.013703</td>\n",
       "      <td>0.651936</td>\n",
       "      <td>1.502912</td>\n",
       "      <td>1.025351</td>\n",
       "      <td>1.47482</td>\n",
       "      <td>560.579993</td>\n",
       "      <td>1.239294</td>\n",
       "      <td>0.597122</td>\n",
       "      <td>3.920521</td>\n",
       "      <td>...</td>\n",
       "      <td>36.479959</td>\n",
       "      <td>23.528263</td>\n",
       "      <td>0.460260</td>\n",
       "      <td>1.758136</td>\n",
       "      <td>490.837273</td>\n",
       "      <td>89.249743</td>\n",
       "      <td>0.027064</td>\n",
       "      <td>0.166495</td>\n",
       "      <td>0.299075</td>\n",
       "      <td>0.521754</td>\n",
       "    </tr>\n",
       "    <tr>\n",
       "      <th>std</th>\n",
       "      <td>0.822693</td>\n",
       "      <td>0.264051</td>\n",
       "      <td>1.039713</td>\n",
       "      <td>0.551565</td>\n",
       "      <td>0.282044</td>\n",
       "      <td>0.55224</td>\n",
       "      <td>439.590889</td>\n",
       "      <td>0.277128</td>\n",
       "      <td>0.646129</td>\n",
       "      <td>0.310630</td>\n",
       "      <td>...</td>\n",
       "      <td>30.336182</td>\n",
       "      <td>20.892061</td>\n",
       "      <td>0.520778</td>\n",
       "      <td>0.642680</td>\n",
       "      <td>477.209821</td>\n",
       "      <td>107.902805</td>\n",
       "      <td>0.162298</td>\n",
       "      <td>0.372589</td>\n",
       "      <td>0.457931</td>\n",
       "      <td>0.499612</td>\n",
       "    </tr>\n",
       "    <tr>\n",
       "      <th>min</th>\n",
       "      <td>0.000000</td>\n",
       "      <td>0.000000</td>\n",
       "      <td>0.000000</td>\n",
       "      <td>0.000000</td>\n",
       "      <td>0.000000</td>\n",
       "      <td>0.00000</td>\n",
       "      <td>0.000000</td>\n",
       "      <td>1.000000</td>\n",
       "      <td>0.000000</td>\n",
       "      <td>1.000000</td>\n",
       "      <td>...</td>\n",
       "      <td>-1.000000</td>\n",
       "      <td>-2.000000</td>\n",
       "      <td>0.000000</td>\n",
       "      <td>0.000000</td>\n",
       "      <td>0.000000</td>\n",
       "      <td>0.000000</td>\n",
       "      <td>0.000000</td>\n",
       "      <td>0.000000</td>\n",
       "      <td>0.000000</td>\n",
       "      <td>0.000000</td>\n",
       "    </tr>\n",
       "    <tr>\n",
       "      <th>25%</th>\n",
       "      <td>2.000000</td>\n",
       "      <td>1.000000</td>\n",
       "      <td>0.000000</td>\n",
       "      <td>1.000000</td>\n",
       "      <td>1.000000</td>\n",
       "      <td>1.00000</td>\n",
       "      <td>220.000000</td>\n",
       "      <td>1.000000</td>\n",
       "      <td>0.000000</td>\n",
       "      <td>4.000000</td>\n",
       "      <td>...</td>\n",
       "      <td>7.000000</td>\n",
       "      <td>4.000000</td>\n",
       "      <td>0.000000</td>\n",
       "      <td>1.000000</td>\n",
       "      <td>0.000000</td>\n",
       "      <td>0.000000</td>\n",
       "      <td>0.000000</td>\n",
       "      <td>0.000000</td>\n",
       "      <td>0.000000</td>\n",
       "      <td>0.000000</td>\n",
       "    </tr>\n",
       "    <tr>\n",
       "      <th>50%</th>\n",
       "      <td>3.000000</td>\n",
       "      <td>1.000000</td>\n",
       "      <td>0.000000</td>\n",
       "      <td>2.000000</td>\n",
       "      <td>1.000000</td>\n",
       "      <td>2.00000</td>\n",
       "      <td>467.000000</td>\n",
       "      <td>1.000000</td>\n",
       "      <td>1.000000</td>\n",
       "      <td>4.000000</td>\n",
       "      <td>...</td>\n",
       "      <td>35.000000</td>\n",
       "      <td>15.000000</td>\n",
       "      <td>0.000000</td>\n",
       "      <td>2.000000</td>\n",
       "      <td>457.000000</td>\n",
       "      <td>50.000000</td>\n",
       "      <td>0.000000</td>\n",
       "      <td>0.000000</td>\n",
       "      <td>0.000000</td>\n",
       "      <td>1.000000</td>\n",
       "    </tr>\n",
       "    <tr>\n",
       "      <th>75%</th>\n",
       "      <td>3.000000</td>\n",
       "      <td>1.000000</td>\n",
       "      <td>1.000000</td>\n",
       "      <td>2.000000</td>\n",
       "      <td>1.000000</td>\n",
       "      <td>2.00000</td>\n",
       "      <td>805.000000</td>\n",
       "      <td>1.500000</td>\n",
       "      <td>1.000000</td>\n",
       "      <td>4.000000</td>\n",
       "      <td>...</td>\n",
       "      <td>54.500000</td>\n",
       "      <td>43.000000</td>\n",
       "      <td>1.000000</td>\n",
       "      <td>2.500000</td>\n",
       "      <td>805.500000</td>\n",
       "      <td>136.000000</td>\n",
       "      <td>0.000000</td>\n",
       "      <td>0.000000</td>\n",
       "      <td>1.000000</td>\n",
       "      <td>1.000000</td>\n",
       "    </tr>\n",
       "    <tr>\n",
       "      <th>max</th>\n",
       "      <td>8.000000</td>\n",
       "      <td>2.000000</td>\n",
       "      <td>3.000000</td>\n",
       "      <td>2.000000</td>\n",
       "      <td>2.000000</td>\n",
       "      <td>2.00000</td>\n",
       "      <td>2336.000000</td>\n",
       "      <td>2.000000</td>\n",
       "      <td>4.000000</td>\n",
       "      <td>4.000000</td>\n",
       "      <td>...</td>\n",
       "      <td>136.000000</td>\n",
       "      <td>60.000000</td>\n",
       "      <td>3.000000</td>\n",
       "      <td>5.000000</td>\n",
       "      <td>5644.000000</td>\n",
       "      <td>1207.000000</td>\n",
       "      <td>1.000000</td>\n",
       "      <td>1.000000</td>\n",
       "      <td>1.000000</td>\n",
       "      <td>1.000000</td>\n",
       "    </tr>\n",
       "  </tbody>\n",
       "</table>\n",
       "<p>8 rows × 45 columns</p>\n",
       "</div>"
      ],
      "text/plain": [
       "       BedroomAbvGr     BsmtCond  BsmtExposure  BsmtFinType1  BsmtFinType2  \\\n",
       "count   2919.000000  2919.000000   2919.000000   2919.000000   2919.000000   \n",
       "mean       2.860226     1.013703      0.651936      1.502912      1.025351   \n",
       "std        0.822693     0.264051      1.039713      0.551565      0.282044   \n",
       "min        0.000000     0.000000      0.000000      0.000000      0.000000   \n",
       "25%        2.000000     1.000000      0.000000      1.000000      1.000000   \n",
       "50%        3.000000     1.000000      0.000000      2.000000      1.000000   \n",
       "75%        3.000000     1.000000      1.000000      2.000000      1.000000   \n",
       "max        8.000000     2.000000      3.000000      2.000000      2.000000   \n",
       "\n",
       "         BsmtQual    BsmtUnfSF    ExterQual   Fireplaces   Functional  ...  \\\n",
       "count  2919.00000  2919.000000  2919.000000  2919.000000  2919.000000  ...   \n",
       "mean      1.47482   560.579993     1.239294     0.597122     3.920521  ...   \n",
       "std       0.55224   439.590889     0.277128     0.646129     0.310630  ...   \n",
       "min       0.00000     0.000000     1.000000     0.000000     1.000000  ...   \n",
       "25%       1.00000   220.000000     1.000000     0.000000     4.000000  ...   \n",
       "50%       2.00000   467.000000     1.000000     1.000000     4.000000  ...   \n",
       "75%       2.00000   805.000000     1.500000     1.000000     4.000000  ...   \n",
       "max       2.00000  2336.000000     2.000000     4.000000     4.000000  ...   \n",
       "\n",
       "         YearBuilt  YearRemodAdd  BsmtTotalBath    TotalBath    BsmtFinSF  \\\n",
       "count  2919.000000   2919.000000    2919.000000  2919.000000  2919.000000   \n",
       "mean     36.479959     23.528263       0.460260     1.758136   490.837273   \n",
       "std      30.336182     20.892061       0.520778     0.642680   477.209821   \n",
       "min      -1.000000     -2.000000       0.000000     0.000000     0.000000   \n",
       "25%       7.000000      4.000000       0.000000     1.000000     0.000000   \n",
       "50%      35.000000     15.000000       0.000000     2.000000   457.000000   \n",
       "75%      54.500000     43.000000       1.000000     2.500000   805.500000   \n",
       "max     136.000000     60.000000       3.000000     5.000000  5644.000000   \n",
       "\n",
       "        AllPorchSF  Bsmt_absent  LotFrontage_absent  Porch_absent  Deck_absent  \n",
       "count  2919.000000  2919.000000         2919.000000   2919.000000  2919.000000  \n",
       "mean     89.249743     0.027064            0.166495      0.299075     0.521754  \n",
       "std     107.902805     0.162298            0.372589      0.457931     0.499612  \n",
       "min       0.000000     0.000000            0.000000      0.000000     0.000000  \n",
       "25%       0.000000     0.000000            0.000000      0.000000     0.000000  \n",
       "50%      50.000000     0.000000            0.000000      0.000000     1.000000  \n",
       "75%     136.000000     0.000000            0.000000      1.000000     1.000000  \n",
       "max    1207.000000     1.000000            1.000000      1.000000     1.000000  \n",
       "\n",
       "[8 rows x 45 columns]"
      ]
     },
     "execution_count": 603,
     "metadata": {},
     "output_type": "execute_result"
    }
   ],
   "source": [
    "train_clean.describe()"
   ]
  },
  {
   "cell_type": "code",
   "execution_count": 604,
   "metadata": {},
   "outputs": [
    {
     "name": "stdout",
     "output_type": "stream",
     "text": [
      "['Alley_2', 'BldgType_2fmCon', 'CentralAir_N', 'Condition1_Norm', 'Condition2_Norm', 'Electrical_SBrkr', 'Exterior1st_Wd Sdng', 'Fence_No', 'Foundation_BrkTil', 'GarageFinish_Unf', 'GarageType_Detchd', 'Heating_GasA', 'HouseStyle_1.5Fin', 'LandContour_Lvl', 'LotConfig_Inside', 'MSZoning_RM', 'MiscFeature_No', 'MoSold_Apr', 'Neighborhood_OldTown', 'RoofMatl_CompShg', 'RoofStyle_Gable', 'SaleType_WD']\n"
     ]
    }
   ],
   "source": [
    "# set the dummy associated with  duplicated dummies;\n",
    "df_agg = pd.concat([target_var, train_cat.loc[train.Id<=idsTotal,:]], axis = 1).sort_values('SalePrice')\n",
    "drop_list=[]\n",
    "for i, col in enumerate(df_agg.columns[1:]):\n",
    "    s=df_agg.iloc[round(len(df_agg.SalePrice)/2),i+1]\n",
    "    drop_list.append(col+'_'+str(s))\n",
    "print(drop_list)"
   ]
  },
  {
   "cell_type": "code",
   "execution_count": 605,
   "metadata": {},
   "outputs": [],
   "source": [
    "train_clean=train_small.drop(drop_list,axis=1)"
   ]
  },
  {
   "cell_type": "code",
   "execution_count": 606,
   "metadata": {},
   "outputs": [
    {
     "name": "stdout",
     "output_type": "stream",
     "text": [
      "                 GarageQual\n",
      "GarageFinish_No    0.952651\n",
      "GarageType_No      0.946298\n",
      "              SaleCondition\n",
      "SaleType_New       0.986573\n",
      "SalePrice          0.352060\n",
      "               GarageFinish_No\n",
      "GarageType_No         0.993331\n",
      "GarageQual            0.952651\n",
      "                 GarageType_No\n",
      "GarageFinish_No       0.993331\n",
      "GarageQual            0.946298\n",
      "               SaleType_New\n",
      "SaleCondition      0.986573\n",
      "SalePrice          0.357509\n"
     ]
    }
   ],
   "source": [
    "# check pair-wise high correlations\n",
    "import copy \n",
    "corr_mat=train_clean.corr()\n",
    "np.fill_diagonal(corr_mat.values, 0)\n",
    "for i, col in enumerate(train_clean.columns.values):\n",
    "    if corr_mat[[col]].abs().sort_values(col,ascending=False).iloc[0,0]>0.9:\n",
    "        print(corr_mat[[col]].abs().sort_values(col,ascending=False).iloc[:2,:])"
   ]
  },
  {
   "cell_type": "code",
   "execution_count": 608,
   "metadata": {},
   "outputs": [],
   "source": [
    "train_clean.drop(['GarageFinish_No','SaleType_New'],axis=1,inplace=True) # highly similar to SaleCondition"
   ]
  },
  {
   "cell_type": "code",
   "execution_count": 609,
   "metadata": {},
   "outputs": [],
   "source": [
    "# check high R2 variables; all have been addressed by the feature engineering above\n",
    "from sklearn import linear_model\n",
    "ols = linear_model.LinearRegression()\n",
    "df=train_clean.drop(['SalePrice'],axis=1)\n",
    "for i, col in enumerate(df.columns.values):\n",
    "    x=df.iloc[:,df.columns!=col]\n",
    "    y=df.iloc[:,i]\n",
    "    ols.fit(x, y)   #### X needs to be 2-D array; X.reshape(-1,1) to shape 1-D array; x = df[[\"col1\"]]\n",
    "    if ols.score(x, y)>0.95:\n",
    "        print(col+' R^2: %.2f' % ols.score(x, y)) ## score: the R^2 of the fitted model"
   ]
  },
  {
   "cell_type": "code",
   "execution_count": 531,
   "metadata": {},
   "outputs": [],
   "source": [
    "# # check high R2 variables\n",
    "# import statsmodels.api as sm\n",
    "# col='MiscFeature_Gar2'\n",
    "# X=train_clean.iloc[:,train_clean.columns!=col]\n",
    "# Y=train_clean[col]\n",
    "# X_add_const = sm.add_constant(X) #now you need to add a constant to X\n",
    "# ols = sm.OLS(Y, X_add_const)\n",
    "# ans = ols.fit()\n",
    "# print(ans.summary())\n",
    "\n",
    "# # check pair-wise high correlations\n",
    "# train_clean=copy.deepcopy(train_test)\n",
    "# corr_mat=train_clean.corr()\n",
    "# np.fill_diagonal(corr_mat.values, 0)\n",
    "# for i, col in enumerate(train_clean.columns.values):\n",
    "#     if corr_mat[[col]].abs().sort_values(col,ascending=False).iloc[0,0]>0.9:\n",
    "#         print(col,corr_mat[[col]].abs().sort_values(col,ascending=False).iloc[:2,:])"
   ]
  },
  {
   "cell_type": "markdown",
   "metadata": {},
   "source": [
    "## Cleaner output dataset"
   ]
  },
  {
   "cell_type": "code",
   "execution_count": 610,
   "metadata": {},
   "outputs": [
    {
     "name": "stdout",
     "output_type": "stream",
     "text": [
      "Number of variables: 184\n"
     ]
    }
   ],
   "source": [
    "# generate dummy variables for categorical variables and numeric variables=0;\n",
    "print(\"Number of variables: {}\".format(len(train_clean.columns)))\n",
    "# Join categorical and numerical features\n",
    "train_clean.to_csv('clean_dataset.csv',index=False)"
   ]
  },
  {
   "cell_type": "code",
   "execution_count": null,
   "metadata": {},
   "outputs": [],
   "source": []
  },
  {
   "cell_type": "code",
   "execution_count": 612,
   "metadata": {},
   "outputs": [
    {
     "data": {
      "text/plain": [
       "(2919, 184)"
      ]
     },
     "execution_count": 612,
     "metadata": {},
     "output_type": "execute_result"
    }
   ],
   "source": [
    "np.shape(train_clean.T.drop_duplicates().T) #verify no duplicated columns"
   ]
  },
  {
   "cell_type": "markdown",
   "metadata": {},
   "source": [
    "## Model\n",
    "### Q1. More or fewer features?\n",
    "### Q2. Lasso vs. Boosted Regression Trees\n",
    "### Q3. Outlier matters?\n",
    "### Q4. Even simpler models?\n",
    "### Q5. Refleciton on the specification for the target variable, log or not"
   ]
  },
  {
   "cell_type": "code",
   "execution_count": 759,
   "metadata": {},
   "outputs": [],
   "source": [
    "# full variable version\n",
    "train = pd.read_csv('final_dataset.csv')"
   ]
  },
  {
   "cell_type": "code",
   "execution_count": 845,
   "metadata": {},
   "outputs": [],
   "source": [
    "# small set version\n",
    "train = pd.read_csv('clean_dataset.csv')"
   ]
  },
  {
   "cell_type": "code",
   "execution_count": 846,
   "metadata": {},
   "outputs": [],
   "source": [
    "# test_final set\n",
    "test_final=train.loc[train.Id>idsTotal,:].drop(['SalePrice','Id'],axis=1)\n",
    "train=train.loc[train.Id<=idsTotal,:]\n",
    "y=train.SalePrice #log or not log; choice 1\n",
    "train=train.drop(['SalePrice','Id'],axis=1)"
   ]
  }
 ],
 "metadata": {
  "kernelspec": {
   "display_name": "Python 3",
   "language": "python",
   "name": "python3"
  },
  "language_info": {
   "codemirror_mode": {
    "name": "ipython",
    "version": 3
   },
   "file_extension": ".py",
   "mimetype": "text/x-python",
   "name": "python",
   "nbconvert_exporter": "python",
   "pygments_lexer": "ipython3",
   "version": "3.7.3"
  }
 },
 "nbformat": 4,
 "nbformat_minor": 2
}
