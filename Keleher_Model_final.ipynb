{
 "cells": [
  {
   "cell_type": "markdown",
   "metadata": {},
   "source": [
    "## Load Packages"
   ]
  },
  {
   "cell_type": "code",
   "execution_count": 1,
   "metadata": {},
   "outputs": [],
   "source": [
    "import numpy as np\n",
    "import pandas as pd\n",
    "import matplotlib.pyplot as plt\n",
    "import seaborn as sns\n",
    "from sklearn.preprocessing import PolynomialFeatures\n",
    "from sklearn.linear_model import LinearRegression\n",
    "from sklearn.pipeline import make_pipeline\n",
    "from scipy.stats import skew\n",
    "from sklearn.model_selection import cross_val_score, train_test_split,GridSearchCV\n",
    "from sklearn.linear_model import LinearRegression, RidgeCV, LassoCV, ElasticNetCV,ElasticNet, Lasso\n",
    "from sklearn.preprocessing import StandardScaler\n",
    "from sklearn.metrics import mean_squared_error, make_scorer, mean_squared_log_error"
   ]
  },
  {
   "cell_type": "markdown",
   "metadata": {},
   "source": [
    "## Read in Data Function"
   ]
  },
  {
   "cell_type": "code",
   "execution_count": 2,
   "metadata": {},
   "outputs": [],
   "source": [
    "def read_process_data(filename):\n",
    "    \n",
    "    #read data from csv\n",
    "    train = pd.read_csv(filename, index_col = 'Id')\n",
    "    \n",
    "    #get dummies\n",
    "    train = pd.get_dummies(train)\n",
    "    \n",
    "    #the first 1460 data points are training data\n",
    "    end_test_data = 1460\n",
    "    \n",
    "    # all zeros in which messes with standardization\n",
    "    if 'MSSubClass_SC150' in train.columns:\n",
    "        train = train.drop('MSSubClass_SC150',axis=1)\n",
    "    \n",
    "    #get test dataset and drop (test) target feature\n",
    "    test = train.loc[train.index>end_test_data,:].drop(['SalePrice'],axis=1)\n",
    "    \n",
    "    #split training data into predictor and target variable\n",
    "    train = train.loc[train.index<=end_test_data,:]\n",
    "    \n",
    "    #do log transform on target variable\n",
    "    y=np.log1p(train.SalePrice)\n",
    "    X=train.drop(['SalePrice'],axis=1)\n",
    "    \n",
    "    #standardize\n",
    "    X = (X - X.mean())/X.std()\n",
    "    \n",
    "    return(X,y, test)\n",
    "\n",
    "\n"
   ]
  },
  {
   "cell_type": "markdown",
   "metadata": {},
   "source": [
    "## Find best Model Fuction"
   ]
  },
  {
   "cell_type": "code",
   "execution_count": 3,
   "metadata": {},
   "outputs": [],
   "source": [
    "def return_best_model(model,param_grid,  X, y):\n",
    "    \n",
    "    CV_object = GridSearchCV(estimator = model,\n",
    "                        param_grid = param_grid,\n",
    "                        n_jobs=-1,\n",
    "                        cv = 10,\n",
    "                        iid=False,\n",
    "                        verbose=False,\n",
    "                        scoring='neg_mean_squared_error')\n",
    "    CV_object.fit(X,y)\n",
    "    \n",
    "    best_model = CV_object.best_estimator_\n",
    "    best_pars = CV_object.best_params_\n",
    "    \n",
    "    print('RMSE',np.sqrt(-CV_object.best_score_))\n",
    "        \n",
    "    return(best_model,best_pars)\n",
    "    \n",
    " \n",
    "    \n",
    "    "
   ]
  },
  {
   "cell_type": "markdown",
   "metadata": {},
   "source": [
    "## List of Datasets to Build Models"
   ]
  },
  {
   "cell_type": "code",
   "execution_count": null,
   "metadata": {},
   "outputs": [],
   "source": [
    "# list of dataset names\n",
    "\n",
    "data_set_names = [\"dataset_1_0\",\n",
    "                  \"dataset1_1_delete_outliers\",\n",
    "                  \"dataset2_log\", \n",
    "                  \"dataset2_numeric_dummy\",\n",
    "                  \"dataset2_addfeatures\",\n",
    "                  \"dataset3_1\",\n",
    "                  \"dataset3_2\",\n",
    "                  \"dataset4_nodup\",\n",
    "                  \"dataset4_nodup_nomulcol\"]"
   ]
  },
  {
   "cell_type": "markdown",
   "metadata": {},
   "source": [
    "## Lasso"
   ]
  },
  {
   "cell_type": "code",
   "execution_count": null,
   "metadata": {},
   "outputs": [],
   "source": [
    "data_set_names = [\"dataset2_addfeatures\"]"
   ]
  },
  {
   "cell_type": "code",
   "execution_count": null,
   "metadata": {},
   "outputs": [
    {
     "name": "stdout",
     "output_type": "stream",
     "text": [
      "dataset_1_0\n",
      "(1460, 326)\n",
      "RMSE 0.14172604668323158\n",
      "dataset1_1_delete_outliers\n",
      "(1458, 325)\n"
     ]
    }
   ],
   "source": [
    "model_dct={}\n",
    "for name in data_set_names:\n",
    "    X,y,test = read_process_data(name+'.csv')\n",
    "    print(name)\n",
    "    print(np.shape(X))\n",
    "    \n",
    "    #Define model\n",
    "    lasso_model=Lasso(max_iter=10000)\n",
    "\n",
    "    #Define hyperparameter tune grid\n",
    "    #coarser grid\n",
    "    lassocv = LassoCV(n_alphas=100,cv=5,max_iter=10000)\n",
    "    lassocv.fit(X,y)\n",
    "    best_lambda=lassocv.alpha_\n",
    "    #finer grid\n",
    "    param_grid = {\n",
    "    'alpha': best_lambda*np.append(np.logspace(-2,2,30),1)\n",
    "    }\n",
    "    model_dct[name]=return_best_model(lasso_model,param_grid,X,y)"
   ]
  },
  {
   "cell_type": "markdown",
   "metadata": {},
   "source": [
    "## XGBoost"
   ]
  },
  {
   "cell_type": "code",
   "execution_count": null,
   "metadata": {},
   "outputs": [],
   "source": [
    "#Define model\n",
    "xgb_model = XGB.XGBRegressor()\n",
    "\n",
    "#Define hyperparameter tune grid\n",
    "param_grid = {\n",
    "        'min_child_weight': [1, 3, 5],\n",
    "        'gamma':[0,0.03,0.1],\n",
    "        'subsample': [0.6, 0.8],\n",
    "        'colsample_bytree': [0.6, 0.8, 1.0],\n",
    "        'learning_rate':[0.1,0.07],\n",
    "        'max_depth': [1, 3, 5]\n",
    "        }\n"
   ]
  },
  {
   "cell_type": "code",
   "execution_count": null,
   "metadata": {},
   "outputs": [],
   "source": [
    "for name in data_set_names:\n",
    "    X,y,test = read_process_data(name+'.csv')\n",
    "    print(name)\n",
    "    print(np.shape(X))\n",
    "    return_best_model(xgb_model,param_grid,X,y) "
   ]
  }
 ],
 "metadata": {
  "kernelspec": {
   "display_name": "Python 3",
   "language": "python",
   "name": "python3"
  },
  "language_info": {
   "codemirror_mode": {
    "name": "ipython",
    "version": 3
   },
   "file_extension": ".py",
   "mimetype": "text/x-python",
   "name": "python",
   "nbconvert_exporter": "python",
   "pygments_lexer": "ipython3",
   "version": "3.7.3"
  }
 },
 "nbformat": 4,
 "nbformat_minor": 2
}
