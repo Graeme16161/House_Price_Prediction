{
 "cells": [
  {
   "cell_type": "markdown",
   "metadata": {},
   "source": [
    "# House Prices: Advanced Regression Techniques\n",
    "\n",
    "<p><a name=\"sections\"></a></p>\n",
    "\n",
    "\n",
    "## Sections\n",
    "\n",
    "- <a href=\"#description\">Description</a><br>\n",
    "- <a href=\"#executive_summary\">Executive Summary</a><br>\n",
    "- <a href=\"#data_import\">Data Import</a><br>\n",
    "- <a href=\"#Feature Engineering (Advanced)\">Feature Engineering (Advanced)</a><br>\n",
    "- <a href=\"#data_cleaning_and_eda\">Data Cleaning and EDA</a><br>\n",
    "- <a href=\"#models\">Models</a><br>\n",
    "    - <a href=\"#lasso\">Lasso</a><br>\n",
    "    - <a href=\"#decision_tree\">Decision Tree</a><br>\n",
    "    - <a href=\"#bagging\">Bagging</a><br>\n",
    "    - <a href=\"#random_forest\">Random Forest</a><br>\n",
    "    - <a href=\"#boosting\">Boosting</a><br>\n",
    "    - <a href=\"#xgboost\">XGBoost</a><br>\n",
    "- <a href=\"#submission\">Submission</a><br>"
   ]
  },
  {
   "cell_type": "markdown",
   "metadata": {},
   "source": [
    "<p><a name=\"description\"></a></p>"
   ]
  },
  {
   "cell_type": "markdown",
   "metadata": {},
   "source": [
    "## Description"
   ]
  },
  {
   "cell_type": "markdown",
   "metadata": {},
   "source": [
    "<p><a name=\"executive_summary\"></a></p>"
   ]
  },
  {
   "cell_type": "markdown",
   "metadata": {},
   "source": [
    "## Executive Summary"
   ]
  },
  {
   "cell_type": "markdown",
   "metadata": {},
   "source": [
    "<p><a name=\"data_import_and_cleaning\"></a></p>"
   ]
  },
  {
   "cell_type": "markdown",
   "metadata": {},
   "source": [
    "## Data Import and Cleaning"
   ]
  },
  {
   "cell_type": "markdown",
   "metadata": {},
   "source": [
    "**import libaries**"
   ]
  },
  {
   "cell_type": "code",
   "execution_count": 2,
   "metadata": {},
   "outputs": [],
   "source": [
    "import numpy as np\n",
    "import pandas as pd\n",
    "import matplotlib.pyplot as plt\n",
    "import seaborn as sns\n",
    "from sklearn.preprocessing import PolynomialFeatures\n",
    "from sklearn.linear_model import LinearRegression\n",
    "from sklearn.pipeline import make_pipeline\n",
    "from scipy.stats import skew\n",
    "from sklearn.model_selection import cross_val_score, train_test_split,GridSearchCV\n",
    "from sklearn.linear_model import LinearRegression, RidgeCV, LassoCV, ElasticNetCV,ElasticNet, Lasso\n",
    "from sklearn.preprocessing import StandardScaler\n",
    "from sklearn.metrics import mean_squared_error, make_scorer, mean_squared_log_error\n",
    "# from sklearn.model_selection import RepeatedKFold\n",
    "# from sklearn.neighbors import KNeighborsRegressor\n",
    "# import xgboost as XGB\n",
    "# from sklearn.model_selection import RepeatedKFold #why it doesn't work???\n",
    "# from feature_selection import VarianceReduction"
   ]
  },
  {
   "cell_type": "code",
   "execution_count": 3,
   "metadata": {},
   "outputs": [
    {
     "name": "stdout",
     "output_type": "stream",
     "text": [
      "3.7.3 (default, Apr 24 2019, 15:29:51) [MSC v.1915 64 bit (AMD64)]\n"
     ]
    }
   ],
   "source": [
    "import sys\n",
    "print(sys.version)"
   ]
  },
  {
   "cell_type": "markdown",
   "metadata": {},
   "source": [
    "Note: ImportError: cannot import name 'RepeatedKFold'\n",
    "\n",
    "Solution (Windows):\n",
    "\n",
    "conda config --append channels conda-forge\n",
    "\n",
    "conda install scikit-learn=0.19.2"
   ]
  },
  {
   "cell_type": "markdown",
   "metadata": {},
   "source": [
    "**read training data**"
   ]
  },
  {
   "cell_type": "code",
   "execution_count": 4,
   "metadata": {
    "scrolled": true
   },
   "outputs": [
    {
     "name": "stdout",
     "output_type": "stream",
     "text": [
      "train : (1460, 81)\n"
     ]
    },
    {
     "data": {
      "text/html": [
       "<div>\n",
       "<style scoped>\n",
       "    .dataframe tbody tr th:only-of-type {\n",
       "        vertical-align: middle;\n",
       "    }\n",
       "\n",
       "    .dataframe tbody tr th {\n",
       "        vertical-align: top;\n",
       "    }\n",
       "\n",
       "    .dataframe thead th {\n",
       "        text-align: right;\n",
       "    }\n",
       "</style>\n",
       "<table border=\"1\" class=\"dataframe\">\n",
       "  <thead>\n",
       "    <tr style=\"text-align: right;\">\n",
       "      <th></th>\n",
       "      <th>1stFlrSF</th>\n",
       "      <th>2ndFlrSF</th>\n",
       "      <th>3SsnPorch</th>\n",
       "      <th>Alley</th>\n",
       "      <th>BedroomAbvGr</th>\n",
       "      <th>BldgType</th>\n",
       "      <th>BsmtCond</th>\n",
       "      <th>BsmtExposure</th>\n",
       "      <th>BsmtFinSF1</th>\n",
       "      <th>BsmtFinSF2</th>\n",
       "      <th>...</th>\n",
       "      <th>SaleType</th>\n",
       "      <th>ScreenPorch</th>\n",
       "      <th>Street</th>\n",
       "      <th>TotRmsAbvGrd</th>\n",
       "      <th>TotalBsmtSF</th>\n",
       "      <th>Utilities</th>\n",
       "      <th>WoodDeckSF</th>\n",
       "      <th>YearBuilt</th>\n",
       "      <th>YearRemodAdd</th>\n",
       "      <th>YrSold</th>\n",
       "    </tr>\n",
       "  </thead>\n",
       "  <tbody>\n",
       "    <tr>\n",
       "      <th>0</th>\n",
       "      <td>856</td>\n",
       "      <td>854</td>\n",
       "      <td>0</td>\n",
       "      <td>NaN</td>\n",
       "      <td>3</td>\n",
       "      <td>1Fam</td>\n",
       "      <td>TA</td>\n",
       "      <td>No</td>\n",
       "      <td>706</td>\n",
       "      <td>0</td>\n",
       "      <td>...</td>\n",
       "      <td>WD</td>\n",
       "      <td>0</td>\n",
       "      <td>Pave</td>\n",
       "      <td>8</td>\n",
       "      <td>856</td>\n",
       "      <td>AllPub</td>\n",
       "      <td>0</td>\n",
       "      <td>2003</td>\n",
       "      <td>2003</td>\n",
       "      <td>2008</td>\n",
       "    </tr>\n",
       "  </tbody>\n",
       "</table>\n",
       "<p>1 rows × 81 columns</p>\n",
       "</div>"
      ],
      "text/plain": [
       "   1stFlrSF  2ndFlrSF  3SsnPorch Alley  BedroomAbvGr BldgType BsmtCond  \\\n",
       "0       856       854          0   NaN             3     1Fam       TA   \n",
       "\n",
       "  BsmtExposure  BsmtFinSF1  BsmtFinSF2  ... SaleType ScreenPorch  Street  \\\n",
       "0           No         706           0  ...       WD           0    Pave   \n",
       "\n",
       "   TotRmsAbvGrd TotalBsmtSF  Utilities WoodDeckSF YearBuilt YearRemodAdd  \\\n",
       "0             8         856     AllPub          0      2003         2003   \n",
       "\n",
       "  YrSold  \n",
       "0   2008  \n",
       "\n",
       "[1 rows x 81 columns]"
      ]
     },
     "execution_count": 4,
     "metadata": {},
     "output_type": "execute_result"
    }
   ],
   "source": [
    "train = pd.read_csv('train.csv')\n",
    "print(\"train : \" + str(train.shape))\n",
    "train = train.reindex(columns=sorted(train.columns))\n",
    "train.head(1)"
   ]
  },
  {
   "cell_type": "code",
   "execution_count": 5,
   "metadata": {},
   "outputs": [
    {
     "name": "stdout",
     "output_type": "stream",
     "text": [
      "test : (1459, 80)\n"
     ]
    },
    {
     "data": {
      "text/html": [
       "<div>\n",
       "<style scoped>\n",
       "    .dataframe tbody tr th:only-of-type {\n",
       "        vertical-align: middle;\n",
       "    }\n",
       "\n",
       "    .dataframe tbody tr th {\n",
       "        vertical-align: top;\n",
       "    }\n",
       "\n",
       "    .dataframe thead th {\n",
       "        text-align: right;\n",
       "    }\n",
       "</style>\n",
       "<table border=\"1\" class=\"dataframe\">\n",
       "  <thead>\n",
       "    <tr style=\"text-align: right;\">\n",
       "      <th></th>\n",
       "      <th>1stFlrSF</th>\n",
       "      <th>2ndFlrSF</th>\n",
       "      <th>3SsnPorch</th>\n",
       "      <th>Alley</th>\n",
       "      <th>BedroomAbvGr</th>\n",
       "      <th>BldgType</th>\n",
       "      <th>BsmtCond</th>\n",
       "      <th>BsmtExposure</th>\n",
       "      <th>BsmtFinSF1</th>\n",
       "      <th>BsmtFinSF2</th>\n",
       "      <th>...</th>\n",
       "      <th>SaleType</th>\n",
       "      <th>ScreenPorch</th>\n",
       "      <th>Street</th>\n",
       "      <th>TotRmsAbvGrd</th>\n",
       "      <th>TotalBsmtSF</th>\n",
       "      <th>Utilities</th>\n",
       "      <th>WoodDeckSF</th>\n",
       "      <th>YearBuilt</th>\n",
       "      <th>YearRemodAdd</th>\n",
       "      <th>YrSold</th>\n",
       "    </tr>\n",
       "  </thead>\n",
       "  <tbody>\n",
       "    <tr>\n",
       "      <th>0</th>\n",
       "      <td>896</td>\n",
       "      <td>0</td>\n",
       "      <td>0</td>\n",
       "      <td>NaN</td>\n",
       "      <td>2</td>\n",
       "      <td>1Fam</td>\n",
       "      <td>TA</td>\n",
       "      <td>No</td>\n",
       "      <td>468.0</td>\n",
       "      <td>144.0</td>\n",
       "      <td>...</td>\n",
       "      <td>WD</td>\n",
       "      <td>120</td>\n",
       "      <td>Pave</td>\n",
       "      <td>5</td>\n",
       "      <td>882.0</td>\n",
       "      <td>AllPub</td>\n",
       "      <td>140</td>\n",
       "      <td>1961</td>\n",
       "      <td>1961</td>\n",
       "      <td>2010</td>\n",
       "    </tr>\n",
       "  </tbody>\n",
       "</table>\n",
       "<p>1 rows × 81 columns</p>\n",
       "</div>"
      ],
      "text/plain": [
       "   1stFlrSF  2ndFlrSF  3SsnPorch Alley  BedroomAbvGr BldgType BsmtCond  \\\n",
       "0       896         0          0   NaN             2     1Fam       TA   \n",
       "\n",
       "  BsmtExposure  BsmtFinSF1  BsmtFinSF2  ... SaleType ScreenPorch  Street  \\\n",
       "0           No       468.0       144.0  ...       WD         120    Pave   \n",
       "\n",
       "   TotRmsAbvGrd TotalBsmtSF  Utilities WoodDeckSF YearBuilt YearRemodAdd  \\\n",
       "0             5       882.0     AllPub        140      1961         1961   \n",
       "\n",
       "  YrSold  \n",
       "0   2010  \n",
       "\n",
       "[1 rows x 81 columns]"
      ]
     },
     "execution_count": 5,
     "metadata": {},
     "output_type": "execute_result"
    }
   ],
   "source": [
    "test = pd.read_csv('test.csv')\n",
    "print(\"test : \" + str(test.shape))\n",
    "test = test.reindex(columns=sorted(train.columns))\n",
    "test.head(1)"
   ]
  },
  {
   "cell_type": "code",
   "execution_count": 6,
   "metadata": {},
   "outputs": [
    {
     "name": "stdout",
     "output_type": "stream",
     "text": [
      "There are 0 duplicate IDs for 1460 total entries\n"
     ]
    }
   ],
   "source": [
    "# Check for duplicates \n",
    "idsUnique = len(set(train.Id))\n",
    "idsTotal = train.shape[0]\n",
    "idsDupli = idsTotal - idsUnique\n",
    "print(\"There are \" + str(idsDupli) + \" duplicate IDs for \" + str(idsTotal) + \" total entries\")\n",
    "target_var=train[['SalePrice']]"
   ]
  },
  {
   "cell_type": "code",
   "execution_count": 7,
   "metadata": {},
   "outputs": [
    {
     "name": "stdout",
     "output_type": "stream",
     "text": [
      "0          1\n",
      "2000    2001\n",
      "Name: Id, dtype: int64 (2919, 81)\n"
     ]
    }
   ],
   "source": [
    "# combine train and test sets\n",
    "data = pd.concat([train,test],axis=0)\n",
    "data.reset_index(inplace=True,drop=True)\n",
    "print(data.loc[[0,2000],'Id'], data.shape)"
   ]
  },
  {
   "cell_type": "code",
   "execution_count": 8,
   "metadata": {},
   "outputs": [],
   "source": [
    "train=data.drop(['SalePrice'],axis=1)"
   ]
  },
  {
   "cell_type": "markdown",
   "metadata": {},
   "source": [
    "## Data Types"
   ]
  },
  {
   "cell_type": "code",
   "execution_count": 9,
   "metadata": {},
   "outputs": [
    {
     "name": "stdout",
     "output_type": "stream",
     "text": [
      "number of numeric columns: 37\n",
      "number categoric columns: 43\n"
     ]
    }
   ],
   "source": [
    "#data types\n",
    "# numeric data\n",
    "train_numeric = train._get_numeric_data()\n",
    "# all columns\n",
    "cols_all = train.columns.tolist()\n",
    "# numeric columns\n",
    "cols_numeric = train_numeric.columns.tolist()\n",
    "# categoric columns\n",
    "cols_categoric = list(set(cols_all)-set(cols_numeric))\n",
    "# categoric data\n",
    "train_categoric = train.loc[:,cols_categoric]\n",
    "print('number of numeric columns: {}'.format(len(cols_numeric)))\n",
    "print('number categoric columns: {}'.format(len(cols_categoric)))"
   ]
  },
  {
   "cell_type": "code",
   "execution_count": 10,
   "metadata": {},
   "outputs": [
    {
     "name": "stdout",
     "output_type": "stream",
     "text": [
      "Numerical features : 37\n",
      "Categorical features : 43\n"
     ]
    }
   ],
   "source": [
    "# Differentiate numerical features (minus the target) and categorical features\n",
    "categorical_features = train.select_dtypes(include = [\"object\"]).columns\n",
    "numerical_features = train.select_dtypes(exclude = [\"object\"]).columns\n",
    "print(\"Numerical features : \" + str(len(numerical_features)))\n",
    "print(\"Categorical features : \" + str(len(categorical_features)))\n",
    "train_num = train[numerical_features]\n",
    "train_cat = train[categorical_features]"
   ]
  },
  {
   "cell_type": "code",
   "execution_count": 11,
   "metadata": {},
   "outputs": [
    {
     "name": "stdout",
     "output_type": "stream",
     "text": [
      "Numerical features w/ NAs: ['BsmtFinSF1' 'BsmtFinSF2' 'BsmtFullBath' 'BsmtHalfBath' 'BsmtUnfSF'\n",
      " 'GarageArea' 'GarageCars' 'GarageYrBlt' 'LotFrontage' 'MasVnrArea'\n",
      " 'TotalBsmtSF']\n",
      "Categorical features w/ NAs: ['Alley' 'BsmtCond' 'BsmtExposure' 'BsmtFinType1' 'BsmtFinType2'\n",
      " 'BsmtQual' 'Electrical' 'Exterior1st' 'Exterior2nd' 'Fence' 'FireplaceQu'\n",
      " 'Functional' 'GarageCond' 'GarageFinish' 'GarageQual' 'GarageType'\n",
      " 'KitchenQual' 'MSZoning' 'MasVnrType' 'MiscFeature' 'PoolQC' 'SaleType'\n",
      " 'Utilities']\n"
     ]
    }
   ],
   "source": [
    "df=train_num\n",
    "print(\"Numerical features w/ NAs: \" +str(df.columns[df.isnull().any()].values))\n",
    "df=train_cat\n",
    "print(\"Categorical features w/ NAs: \" +str(df.columns[df.isnull().any()].values))"
   ]
  },
  {
   "cell_type": "markdown",
   "metadata": {},
   "source": [
    "## Missing value imputation"
   ]
  },
  {
   "cell_type": "code",
   "execution_count": 12,
   "metadata": {},
   "outputs": [],
   "source": [
    "# Handle missing values for features where median/mean or most common value doesn't make sense\n",
    "# some of the following are redundant\n",
    "# Alley : data description says NA means \"no alley access\"\n",
    "train.loc[:, \"Alley\"] = train.loc[:, \"Alley\"].fillna(\"None\")\n",
    "\n",
    "# BsmtQual etc : data description says NA for basement features is \"no basement\"\n",
    "for col in [\"BsmtCond\",\"BsmtExposure\",\"BsmtFinType1\",\"BsmtFinType2\",'BsmtQual']:\n",
    "    train.loc[:, col] = train.loc[:, col].fillna(\"No\")\n",
    "\n",
    "# NA Bsmt means 0\n",
    "for col in ['BsmtFinSF1','BsmtFinSF2','TotalBsmtSF','BsmtUnfSF','BsmtHalfBath','BsmtFullBath']:\n",
    "    train[col].fillna(0,inplace=True)   \n",
    "    \n",
    "# EnclosedPorch : NA most likely means no enclosed porch\n",
    "train.loc[:, \"EnclosedPorch\"] = train.loc[:, \"EnclosedPorch\"].fillna(0)\n",
    "# Fence : data description says NA means \"no fence\"\n",
    "train.loc[:, \"Fence\"] = train.loc[:, \"Fence\"].fillna(\"No\")\n",
    "# FireplaceQu : data description says NA means \"no fireplace\"\n",
    "train.loc[:, \"FireplaceQu\"] = train.loc[:, \"FireplaceQu\"].fillna(\"No\")\n",
    "train.loc[:, \"Fireplaces\"] = train.loc[:, \"Fireplaces\"].fillna(0)\n",
    "# Functional : data description says NA means typical\n",
    "train.loc[:, \"Functional\"] = train.loc[:, \"Functional\"].fillna(\"Typ\")\n",
    "# GarageType etc : data description says NA for garage features is \"no garage\"\n",
    "train.loc[:, \"GarageType\"] = train.loc[:, \"GarageType\"].fillna(\"No\")\n",
    "train.loc[:, \"GarageFinish\"] = train.loc[:, \"GarageFinish\"].fillna(\"No\")\n",
    "train.loc[:, \"GarageQual\"] = train.loc[:, \"GarageQual\"].fillna(\"No\")\n",
    "train.loc[:, \"GarageCond\"] = train.loc[:, \"GarageCond\"].fillna(\"No\")\n",
    "train.loc[:, \"GarageArea\"] = train.loc[:, \"GarageArea\"].fillna(0)\n",
    "train.loc[:, \"GarageCars\"] = train.loc[:, \"GarageCars\"].fillna(0)\n",
    "# HalfBath : NA most likely means no half baths above grade\n",
    "train.loc[:, \"HalfBath\"] = train.loc[:, \"HalfBath\"].fillna(0)\n",
    "# HeatingQC : NA most likely means typical\n",
    "train.loc[:, \"HeatingQC\"] = train.loc[:, \"HeatingQC\"].fillna(\"TA\")\n",
    "# KitchenAbvGr : NA most likely means 0\n",
    "train.loc[:, \"KitchenAbvGr\"] = train.loc[:, \"KitchenAbvGr\"].fillna(0)\n",
    "# KitchenQual : NA most likely means typical\n",
    "train.loc[:, \"KitchenQual\"] = train.loc[:, \"KitchenQual\"].fillna(\"TA\")\n",
    "# LotFrontage : NA most likely means no lot frontage\n",
    "train.loc[:, \"LotFrontage\"] = train.loc[:, \"LotFrontage\"].fillna(0)\n",
    "# LotShape : NA most likely means regular\n",
    "train.loc[:, \"LotShape\"] = train.loc[:, \"LotShape\"].fillna(\"Reg\")\n",
    "# MasVnrType : NA most likely means no veneer\n",
    "train.loc[:, \"MasVnrType\"] = train.loc[:, \"MasVnrType\"].fillna(\"None\")\n",
    "train.loc[:, \"MasVnrArea\"] = train.loc[:, \"MasVnrArea\"].fillna(0)\n",
    "# MiscFeature : data description says NA means \"no misc feature\"\n",
    "train.loc[:, \"MiscFeature\"] = train.loc[:, \"MiscFeature\"].fillna(\"No\")\n",
    "train.loc[:, \"MiscVal\"] = train.loc[:, \"MiscVal\"].fillna(0)\n",
    "# OpenPorchSF : NA most likely means no open porch\n",
    "train.loc[:, \"OpenPorchSF\"] = train.loc[:, \"OpenPorchSF\"].fillna(0)\n",
    "# PavedDrive : NA most likely means not paved\n",
    "train.loc[:, \"PavedDrive\"] = train.loc[:, \"PavedDrive\"].fillna(\"N\")\n",
    "# PoolQC : data description says NA means \"no pool\"\n",
    "train.loc[:, \"PoolQC\"] = train.loc[:, \"PoolQC\"].fillna(\"No\")\n",
    "train.loc[:, \"PoolArea\"] = train.loc[:, \"PoolArea\"].fillna(0)\n",
    "# SaleCondition : NA most likely means normal sale\n",
    "train.loc[:, \"SaleCondition\"] = train.loc[:, \"SaleCondition\"].fillna(\"Normal\")\n",
    "# ScreenPorch : NA most likely means no screen porch\n",
    "train.loc[:, \"ScreenPorch\"] = train.loc[:, \"ScreenPorch\"].fillna(0)\n",
    "# TotRmsAbvGrd : NA most likely means 0\n",
    "train.loc[:, \"TotRmsAbvGrd\"] = train.loc[:, \"TotRmsAbvGrd\"].fillna(0)\n",
    "# Utilities : NA most likely means all public utilities\n",
    "train.loc[:, \"Utilities\"] = train.loc[:, \"Utilities\"].fillna(\"AllPub\")\n",
    "# Electrical : NA most likely means SBrkr\n",
    "train.loc[:, \"Electrical\"] = train.loc[:, \"Electrical\"].fillna(\"SBrkr\")\n",
    "# GarageYrBlt: NA same as \n",
    "train.loc[train.GarageYrBlt.isnull(), \"GarageYrBlt\"] = train.loc[train.GarageYrBlt.isnull(), \"YearBuilt\"]\n",
    "train.loc[train.GarageYrBlt>2020,'GarageYrBlt']=train.loc[train.GarageYrBlt>2020,'YearBuilt']\n",
    "# fill w/ mode\n",
    "for col in ['Exterior1st','Exterior2nd','SaleType']:\n",
    "    train[col].fillna(data[col].mode()[0],inplace=True)    \n",
    "train['MSZoning'] =  train.groupby('Neighborhood')['MSZoning'].transform(lambda x: x.fillna(x.mode()[0]))"
   ]
  },
  {
   "cell_type": "code",
   "execution_count": 13,
   "metadata": {},
   "outputs": [],
   "source": [
    "# Some numerical features are actually really categories\n",
    "train = train.replace({\"MSSubClass\" : {20 : \"SC20\", 30 : \"SC30\", 40 : \"SC40\", 45 : \"SC45\", \n",
    "                                       50 : \"SC50\", 60 : \"SC60\", 70 : \"SC70\", 75 : \"SC75\", \n",
    "                                       80 : \"SC80\", 85 : \"SC85\", 90 : \"SC90\", 120 : \"SC120\", \n",
    "                                       150 : \"SC150\", 160 : \"SC160\", 180 : \"SC180\", 190 : \"SC190\"},\n",
    "                       \"MoSold\" : {1 : \"Jan\", 2 : \"Feb\", 3 : \"Mar\", 4 : \"Apr\", 5 : \"May\", 6 : \"Jun\",\n",
    "                                   7 : \"Jul\", 8 : \"Aug\", 9 : \"Sep\", 10 : \"Oct\", 11 : \"Nov\", 12 : \"Dec\"}\n",
    "                      })\n"
   ]
  },
  {
   "cell_type": "code",
   "execution_count": 14,
   "metadata": {},
   "outputs": [
    {
     "name": "stdout",
     "output_type": "stream",
     "text": [
      "Numerical features : 35\n",
      "Categorical features : 45\n",
      "NAs for numerical features in train : 0\n",
      "Remaining NAs for numerical features in train : 0\n"
     ]
    }
   ],
   "source": [
    "# non-missing dataset\n",
    "categorical_features = train.select_dtypes(include = [\"object\"]).columns\n",
    "numerical_features = train.select_dtypes(exclude = [\"object\"]).columns\n",
    "print(\"Numerical features : \" + str(len(numerical_features)))\n",
    "print(\"Categorical features : \" + str(len(categorical_features)))\n",
    "train_num = train[numerical_features]\n",
    "train_cat = train[categorical_features]\n",
    "print(\"NAs for numerical features in train : \" + str(train_num.isnull().values.sum()))\n",
    "print(\"Remaining NAs for numerical features in train : \" + str(train_num.isnull().values.sum()))"
   ]
  },
  {
   "cell_type": "code",
   "execution_count": 15,
   "metadata": {},
   "outputs": [],
   "source": [
    "pd.concat([target_var,train_num, train_cat], axis = 1).to_csv('dataset_1_0.csv',index=False)"
   ]
  },
  {
   "cell_type": "code",
   "execution_count": 16,
   "metadata": {},
   "outputs": [
    {
     "name": "stdout",
     "output_type": "stream",
     "text": [
      "['YearBuilt', 'YearRemodAdd']\n",
      "['GarageYrBlt']\n"
     ]
    }
   ],
   "source": [
    "#2\n",
    "\n",
    "#Add features\n",
    "# Transform Time variables\n",
    "for s in ['Year','Yr']:\n",
    "    cols = [col for col in train_num.columns if s in col and 'YrSold' not in col]\n",
    "    print(cols)\n",
    "    for col in cols:\n",
    "        train[col+'Age']=train.YrSold-train[col]\n",
    "train['YrSold'] = train['YrSold'].astype(str)"
   ]
  },
  {
   "cell_type": "code",
   "execution_count": 17,
   "metadata": {},
   "outputs": [],
   "source": [
    "#add total; not redundant when taking log\n",
    "#From Peter\n",
    "train['TotalBsmtSF'] = train['BsmtFinSF1'] + train['BsmtFinSF2'] + train['BsmtUnfSF']\n",
    "train['TotalSF'] = train['TotalBsmtSF'] + train['1stFlrSF'] + train['2ndFlrSF']\n",
    "\n",
    "#From Zhongjin (Gene)\n",
    "train[\"BsmtTotalBath\"] = train[\"BsmtFullBath\"] + (0.5 * train[\"BsmtHalfBath\"]) \n",
    "train[\"TotalBath\"]=train[\"FullBath\"] + (0.5 * train[\"HalfBath\"])\n",
    "train['BsmtFinSF']=train.BsmtFinSF1+train.BsmtFinSF2\n",
    "# Total SF for porch\n",
    "train[\"AllPorchSF\"] = train[\"OpenPorchSF\"] + train[\"EnclosedPorch\"] + \\\n",
    "train[\"3SsnPorch\"] + train[\"ScreenPorch\"]"
   ]
  },
  {
   "cell_type": "code",
   "execution_count": 21,
   "metadata": {},
   "outputs": [
    {
     "data": {
      "text/plain": [
       "0    1\n",
       "1    2\n",
       "2    3\n",
       "3    4\n",
       "4    5\n",
       "Name: Id, dtype: object"
      ]
     },
     "execution_count": 21,
     "metadata": {},
     "output_type": "execute_result"
    }
   ],
   "source": [
    "df_dummy=train['Id']\n",
    "df_dummy.head()"
   ]
  },
  {
   "cell_type": "code",
   "execution_count": 24,
   "metadata": {},
   "outputs": [
    {
     "data": {
      "text/html": [
       "<div>\n",
       "<style scoped>\n",
       "    .dataframe tbody tr th:only-of-type {\n",
       "        vertical-align: middle;\n",
       "    }\n",
       "\n",
       "    .dataframe tbody tr th {\n",
       "        vertical-align: top;\n",
       "    }\n",
       "\n",
       "    .dataframe thead th {\n",
       "        text-align: right;\n",
       "    }\n",
       "</style>\n",
       "<table border=\"1\" class=\"dataframe\">\n",
       "  <thead>\n",
       "    <tr style=\"text-align: right;\">\n",
       "      <th></th>\n",
       "      <th>12_rooms_plus_dummy</th>\n",
       "      <th>2_kitchens_plus_dummy</th>\n",
       "      <th>5_bedroom_plus_dummy</th>\n",
       "      <th>1_bedroom_less_dummy</th>\n",
       "    </tr>\n",
       "  </thead>\n",
       "  <tbody>\n",
       "    <tr>\n",
       "      <th>0</th>\n",
       "      <td>0</td>\n",
       "      <td>0</td>\n",
       "      <td>0</td>\n",
       "      <td>0</td>\n",
       "    </tr>\n",
       "    <tr>\n",
       "      <th>1</th>\n",
       "      <td>0</td>\n",
       "      <td>0</td>\n",
       "      <td>0</td>\n",
       "      <td>0</td>\n",
       "    </tr>\n",
       "    <tr>\n",
       "      <th>2</th>\n",
       "      <td>0</td>\n",
       "      <td>0</td>\n",
       "      <td>0</td>\n",
       "      <td>0</td>\n",
       "    </tr>\n",
       "    <tr>\n",
       "      <th>3</th>\n",
       "      <td>0</td>\n",
       "      <td>0</td>\n",
       "      <td>0</td>\n",
       "      <td>0</td>\n",
       "    </tr>\n",
       "    <tr>\n",
       "      <th>4</th>\n",
       "      <td>0</td>\n",
       "      <td>0</td>\n",
       "      <td>0</td>\n",
       "      <td>0</td>\n",
       "    </tr>\n",
       "    <tr>\n",
       "      <th>5</th>\n",
       "      <td>0</td>\n",
       "      <td>0</td>\n",
       "      <td>0</td>\n",
       "      <td>1</td>\n",
       "    </tr>\n",
       "    <tr>\n",
       "      <th>6</th>\n",
       "      <td>0</td>\n",
       "      <td>0</td>\n",
       "      <td>0</td>\n",
       "      <td>0</td>\n",
       "    </tr>\n",
       "    <tr>\n",
       "      <th>7</th>\n",
       "      <td>0</td>\n",
       "      <td>0</td>\n",
       "      <td>0</td>\n",
       "      <td>0</td>\n",
       "    </tr>\n",
       "    <tr>\n",
       "      <th>8</th>\n",
       "      <td>0</td>\n",
       "      <td>1</td>\n",
       "      <td>0</td>\n",
       "      <td>0</td>\n",
       "    </tr>\n",
       "    <tr>\n",
       "      <th>9</th>\n",
       "      <td>0</td>\n",
       "      <td>1</td>\n",
       "      <td>0</td>\n",
       "      <td>0</td>\n",
       "    </tr>\n",
       "  </tbody>\n",
       "</table>\n",
       "</div>"
      ],
      "text/plain": [
       "   12_rooms_plus_dummy  2_kitchens_plus_dummy  5_bedroom_plus_dummy  \\\n",
       "0                    0                      0                     0   \n",
       "1                    0                      0                     0   \n",
       "2                    0                      0                     0   \n",
       "3                    0                      0                     0   \n",
       "4                    0                      0                     0   \n",
       "5                    0                      0                     0   \n",
       "6                    0                      0                     0   \n",
       "7                    0                      0                     0   \n",
       "8                    0                      1                     0   \n",
       "9                    0                      1                     0   \n",
       "\n",
       "   1_bedroom_less_dummy  \n",
       "0                     0  \n",
       "1                     0  \n",
       "2                     0  \n",
       "3                     0  \n",
       "4                     0  \n",
       "5                     1  \n",
       "6                     0  \n",
       "7                     0  \n",
       "8                     0  \n",
       "9                     0  "
      ]
     },
     "execution_count": 24,
     "metadata": {},
     "output_type": "execute_result"
    }
   ],
   "source": [
    "# add dummies for numerical catagories in train_num, make dummy variable data frame and add in concat below\n",
    "\n",
    "#initialize empty data frame with same dimensions and ID as train\n",
    "df_dummy=pd.DataFrame(index=train.index)\n",
    "\n",
    "#create dummy for rooms 12 or above\n",
    "def More_Than_12_Rooms(q):\n",
    "    if(q >=12):\n",
    "        return(1)\n",
    "    else:\n",
    "        return(0)\n",
    "    \n",
    "df_dummy[\"12_rooms_plus_dummy\"] = train[\"TotRmsAbvGrd\"].apply(More_Than_12_Rooms)\n",
    "\n",
    "#create dummy for 2 or more kitchens above ground\n",
    "def More_Than_2_kitchen(q):\n",
    "    if(q >=2):\n",
    "        return(1)\n",
    "    else:\n",
    "        return(0)\n",
    "    \n",
    "df_dummy[\"2_kitchens_plus_dummy\"] = train[\"KitchenAbvGr\"].apply(More_Than_2_kitchen)\n",
    "\n",
    "#create dummy for 5 or more bedrooms above ground\n",
    "def More_Than_5_bedroom(q):\n",
    "    if(q >=5):\n",
    "        return(1)\n",
    "    else:\n",
    "        return(0)\n",
    "    \n",
    "df_dummy[\"5_bedroom_plus_dummy\"] = train[\"BedroomAbvGr\"].apply(More_Than_5_bedroom)\n",
    "\n",
    "#create dummy for 2 or fewwer bedrooms above ground\n",
    "def Less_Than_1_bedroom(q):\n",
    "    if(q <=1):\n",
    "        return(1)\n",
    "    else:\n",
    "        return(0)\n",
    "    \n",
    "df_dummy[\"1_bedroom_less_dummy\"] = train[\"BedroomAbvGr\"].apply(Less_Than_1_bedroom)\n",
    "\n",
    "#create dummy for 4 or more car garage\n",
    "def More_Than_4_car(q):\n",
    "    if(q >=4):\n",
    "        return(1)\n",
    "    else:\n",
    "        return(0)\n",
    "    \n",
    "df_dummy[\"4_garage_more_dummy\"] = train[\"GarageCars\"].apply(More_Than_4_car)\n",
    "\n",
    "\n",
    "\n",
    "df_dummy.head(10)"
   ]
  },
  {
   "cell_type": "code",
   "execution_count": 1496,
   "metadata": {},
   "outputs": [
    {
     "data": {
      "text/html": [
       "<div>\n",
       "<style scoped>\n",
       "    .dataframe tbody tr th:only-of-type {\n",
       "        vertical-align: middle;\n",
       "    }\n",
       "\n",
       "    .dataframe tbody tr th {\n",
       "        vertical-align: top;\n",
       "    }\n",
       "\n",
       "    .dataframe thead th {\n",
       "        text-align: right;\n",
       "    }\n",
       "</style>\n",
       "<table border=\"1\" class=\"dataframe\">\n",
       "  <thead>\n",
       "    <tr style=\"text-align: right;\">\n",
       "      <th></th>\n",
       "      <th>YrSold</th>\n",
       "      <th>GarageYrBlt</th>\n",
       "    </tr>\n",
       "  </thead>\n",
       "  <tbody>\n",
       "  </tbody>\n",
       "</table>\n",
       "</div>"
      ],
      "text/plain": [
       "Empty DataFrame\n",
       "Columns: [YrSold, GarageYrBlt]\n",
       "Index: []"
      ]
     },
     "execution_count": 1496,
     "metadata": {},
     "output_type": "execute_result"
    }
   ],
   "source": [
    "pd.concat([target_var,train_num,train_cat,df_dummy], axis = 1).to_csv('dataset2_addfeatures.csv',index=False)\n"
   ]
  },
  {
   "cell_type": "code",
   "execution_count": 27,
   "metadata": {},
   "outputs": [
    {
     "data": {
      "text/plain": [
       "['BsmtCond',\n",
       " 'BsmtExposure',\n",
       " 'BsmtFinType1',\n",
       " 'BsmtFinType2',\n",
       " 'BsmtQual',\n",
       " 'ExterCond',\n",
       " 'ExterQual',\n",
       " 'FireplaceQu',\n",
       " 'GarageCond',\n",
       " 'GarageQual',\n",
       " 'HeatingQC',\n",
       " 'KitchenQual',\n",
       " 'PoolQC']"
      ]
     },
     "execution_count": 27,
     "metadata": {},
     "output_type": "execute_result"
    }
   ],
   "source": [
    "dct1={\n",
    "                       \"BsmtCond\" : {\"No\" : 0, \"Po\" : 1, \"Fa\" : 2, \"TA\" : 3, \"Gd\" : 4, \"Ex\" : 5},\n",
    "                       \"BsmtExposure\" : {\"No\" : 0, \"Mn\" : 1, \"Av\": 2, \"Gd\" : 3},\n",
    "                       \"BsmtFinType1\" : {\"No\" : 0, \"Unf\" : 1, \"LwQ\": 2, \"Rec\" : 3, \"BLQ\" : 4, \n",
    "                                         \"ALQ\" : 5, \"GLQ\" : 6},\n",
    "                       \"BsmtFinType2\" : {\"No\" : 0, \"Unf\" : 1, \"LwQ\": 2, \"Rec\" : 3, \"BLQ\" : 4, \n",
    "                                         \"ALQ\" : 5, \"GLQ\" : 6},\n",
    "                       \"BsmtQual\" : {\"No\" : 0, \"Po\" : 1, \"Fa\" : 2, \"TA\": 3, \"Gd\" : 4, \"Ex\" : 5},\n",
    "                       \"ExterCond\" : {\"Po\" : 1, \"Fa\" : 2, \"TA\": 3, \"Gd\": 4, \"Ex\" : 5},\n",
    "                       \"ExterQual\" : {\"Po\" : 1, \"Fa\" : 2, \"TA\": 3, \"Gd\": 4, \"Ex\" : 5},\n",
    "                       \"FireplaceQu\" : {\"No\" : 0, \"Po\" : 1, \"Fa\" : 2, \"TA\" : 3, \"Gd\" : 4, \"Ex\" : 5},\n",
    "   \n",
    "                       \"GarageCond\" : {\"No\" : 0, \"Po\" : 1, \"Fa\" : 2, \"TA\" : 3, \"Gd\" : 4, \"Ex\" : 5},\n",
    "                       \"GarageQual\" : {\"No\" : 0, \"Po\" : 1, \"Fa\" : 2, \"TA\" : 3, \"Gd\" : 4, \"Ex\" : 5},\n",
    "                       \"HeatingQC\" : {\"Po\" : 1, \"Fa\" : 2, \"TA\" : 3, \"Gd\" : 4, \"Ex\" : 5},\n",
    "                       \"KitchenQual\" : {\"Po\" : 1, \"Fa\" : 2, \"TA\" : 3, \"Gd\" : 4, \"Ex\" : 5},\n",
    "                        \"PoolQC\" : {\"No\" : 0, \"Fa\" : 1, \"TA\" : 2, \"Gd\" : 3, \"Ex\" : 4}}\n",
    "dct2={\n",
    "                       \"Functional\" : {\"Sal\" : 1, \"Sev\" : 2, \"Maj2\" : 3, \"Maj1\" : 4, \"Mod\": 5, \n",
    "                                       \"Min2\" : 6, \"Min1\" : 7, \"Typ\" : 8},\n",
    "                       \"LandSlope\" : {\"Sev\" : 1, \"Mod\" : 2, \"Gtl\" : 3},\n",
    "                       \"LotShape\" : {\"IR3\" : 1, \"IR2\" : 2, \"IR1\" : 3, \"Reg\" : 4},\n",
    "                       \"PavedDrive\" : {\"N\" : 0, \"P\" : 1, \"Y\" : 2},\n",
    "                       \"Utilities\" : {\"ELO\" : 1, \"NoSeWa\" : 2, \"NoSewr\" : 3, \"AllPub\" : 4}}\n",
    "list(dct1.keys())"
   ]
  },
  {
   "cell_type": "code",
   "execution_count": null,
   "metadata": {},
   "outputs": [],
   "source": [
    "#encode \n",
    "dct1={\n",
    "                       \"BsmtCond\" : {\"No\" : 0, \"Po\" : 1, \"Fa\" : 2, \"TA\" : 3, \"Gd\" : 4, \"Ex\" : 5},\n",
    "                       \"BsmtExposure\" : {\"No\" : 0, \"Mn\" : 1, \"Av\": 2, \"Gd\" : 3},\n",
    "                       \"BsmtFinType1\" : {\"No\" : 0, \"Unf\" : 1, \"LwQ\": 2, \"Rec\" : 3, \"BLQ\" : 4, \n",
    "                                         \"ALQ\" : 5, \"GLQ\" : 6},\n",
    "                       \"BsmtFinType2\" : {\"No\" : 0, \"Unf\" : 1, \"LwQ\": 2, \"Rec\" : 3, \"BLQ\" : 4, \n",
    "                                         \"ALQ\" : 5, \"GLQ\" : 6},\n",
    "                       \"BsmtQual\" : {\"No\" : 0, \"Po\" : 1, \"Fa\" : 2, \"TA\": 3, \"Gd\" : 4, \"Ex\" : 5},\n",
    "                       \"ExterCond\" : {\"Po\" : 1, \"Fa\" : 2, \"TA\": 3, \"Gd\": 4, \"Ex\" : 5},\n",
    "                       \"ExterQual\" : {\"Po\" : 1, \"Fa\" : 2, \"TA\": 3, \"Gd\": 4, \"Ex\" : 5},\n",
    "                       \"FireplaceQu\" : {\"No\" : 0, \"Po\" : 1, \"Fa\" : 2, \"TA\" : 3, \"Gd\" : 4, \"Ex\" : 5},\n",
    "   \n",
    "                       \"GarageCond\" : {\"No\" : 0, \"Po\" : 1, \"Fa\" : 2, \"TA\" : 3, \"Gd\" : 4, \"Ex\" : 5},\n",
    "                       \"GarageQual\" : {\"No\" : 0, \"Po\" : 1, \"Fa\" : 2, \"TA\" : 3, \"Gd\" : 4, \"Ex\" : 5},\n",
    "                       \"HeatingQC\" : {\"Po\" : 1, \"Fa\" : 2, \"TA\" : 3, \"Gd\" : 4, \"Ex\" : 5},\n",
    "                       \"KitchenQual\" : {\"Po\" : 1, \"Fa\" : 2, \"TA\" : 3, \"Gd\" : 4, \"Ex\" : 5},\n",
    "                        \"PoolQC\" : {\"No\" : 0, \"Fa\" : 1, \"TA\" : 2, \"Gd\" : 3, \"Ex\" : 4}}\n",
    "dct2={\n",
    "                       \"Functional\" : {\"Sal\" : 1, \"Sev\" : 2, \"Maj2\" : 3, \"Maj1\" : 4, \"Mod\": 5, \n",
    "                                       \"Min2\" : 6, \"Min1\" : 7, \"Typ\" : 8},\n",
    "                       \"LandSlope\" : {\"Sev\" : 1, \"Mod\" : 2, \"Gtl\" : 3},\n",
    "                       \"LotShape\" : {\"IR3\" : 1, \"IR2\" : 2, \"IR1\" : 3, \"Reg\" : 4},\n",
    "                       \"PavedDrive\" : {\"N\" : 0, \"P\" : 1, \"Y\" : 2},\n",
    "                       \"Utilities\" : {\"ELO\" : 1, \"NoSeWa\" : 2, \"NoSewr\" : 3, \"AllPub\" : 4}}\n",
    "\n",
    "train = train.replace({\n",
    "                       \"BsmtCond\" : {\"No\" : 0, \"Po\" : 1, \"Fa\" : 2, \"TA\" : 3, \"Gd\" : 4, \"Ex\" : 5},\n",
    "                       \"BsmtExposure\" : {\"No\" : 0, \"Mn\" : 1, \"Av\": 2, \"Gd\" : 3},\n",
    "                       \"BsmtFinType1\" : {\"No\" : 0, \"Unf\" : 1, \"LwQ\": 2, \"Rec\" : 3, \"BLQ\" : 4, \n",
    "                                         \"ALQ\" : 5, \"GLQ\" : 6},\n",
    "                       \"BsmtFinType2\" : {\"No\" : 0, \"Unf\" : 1, \"LwQ\": 2, \"Rec\" : 3, \"BLQ\" : 4, \n",
    "                                         \"ALQ\" : 5, \"GLQ\" : 6},\n",
    "                       \"BsmtQual\" : {\"No\" : 0, \"Po\" : 1, \"Fa\" : 2, \"TA\": 3, \"Gd\" : 4, \"Ex\" : 5},\n",
    "                       \"ExterCond\" : {\"Po\" : 1, \"Fa\" : 2, \"TA\": 3, \"Gd\": 4, \"Ex\" : 5},\n",
    "                       \"ExterQual\" : {\"Po\" : 1, \"Fa\" : 2, \"TA\": 3, \"Gd\": 4, \"Ex\" : 5},\n",
    "                       \"FireplaceQu\" : {\"No\" : 0, \"Po\" : 1, \"Fa\" : 2, \"TA\" : 3, \"Gd\" : 4, \"Ex\" : 5},\n",
    "                       \"Functional\" : {\"Sal\" : 1, \"Sev\" : 2, \"Maj2\" : 3, \"Maj1\" : 4, \"Mod\": 5, \n",
    "                                       \"Min2\" : 6, \"Min1\" : 7, \"Typ\" : 8},\n",
    "                       \"GarageCond\" : {\"No\" : 0, \"Po\" : 1, \"Fa\" : 2, \"TA\" : 3, \"Gd\" : 4, \"Ex\" : 5},\n",
    "                       \"GarageQual\" : {\"No\" : 0, \"Po\" : 1, \"Fa\" : 2, \"TA\" : 3, \"Gd\" : 4, \"Ex\" : 5},\n",
    "                       \"HeatingQC\" : {\"Po\" : 1, \"Fa\" : 2, \"TA\" : 3, \"Gd\" : 4, \"Ex\" : 5},\n",
    "                       \"KitchenQual\" : {\"Po\" : 1, \"Fa\" : 2, \"TA\" : 3, \"Gd\" : 4, \"Ex\" : 5},\n",
    "                       \"LandSlope\" : {\"Sev\" : 1, \"Mod\" : 2, \"Gtl\" : 3},\n",
    "                       \"LotShape\" : {\"IR3\" : 1, \"IR2\" : 2, \"IR1\" : 3, \"Reg\" : 4},\n",
    "                       \"PavedDrive\" : {\"N\" : 0, \"P\" : 1, \"Y\" : 2},\n",
    "                       \"PoolQC\" : {\"No\" : 0, \"Fa\" : 1, \"TA\" : 2, \"Gd\" : 3, \"Ex\" : 4},\n",
    "                       \"Utilities\" : {\"ELO\" : 1, \"NoSeWa\" : 2, \"NoSewr\" : 3, \"AllPub\" : 4}}\n",
    "                     )"
   ]
  },
  {
   "cell_type": "code",
   "execution_count": null,
   "metadata": {},
   "outputs": [],
   "source": [
    "pd.concat([target_var,train_num, train_cat], axis = 1).to_csv('dataset3_1.csv',index=False)\n"
   ]
  },
  {
   "cell_type": "code",
   "execution_count": null,
   "metadata": {},
   "outputs": [],
   "source": [
    "# 3.2 Peter's code for clustering of categories\n",
    "pd.concat([target_var,train_num, train_cat], axis = 1).to_csv('dataset3_2.csv',index=False)\n"
   ]
  },
  {
   "cell_type": "code",
   "execution_count": null,
   "metadata": {},
   "outputs": [],
   "source": [
    "# 4. dummify\n",
    "pd.concat([target_var,train_num, train_cat], axis = 1).to_csv('dataset4.csv',index=False)\n"
   ]
  },
  {
   "cell_type": "code",
   "execution_count": null,
   "metadata": {},
   "outputs": [],
   "source": [
    "# 4.1 Remove duplicates\n",
    "pd.concat([target_var,train_num, train_cat], axis = 1).to_csv('dataset4_1.csv',index=False)\n"
   ]
  },
  {
   "cell_type": "code",
   "execution_count": 42,
   "metadata": {},
   "outputs": [
    {
     "ename": "AttributeError",
     "evalue": "'DataFrame' object has no attribute 'MisVal'",
     "output_type": "error",
     "traceback": [
      "\u001b[1;31m---------------------------------------------------------------------------\u001b[0m",
      "\u001b[1;31mAttributeError\u001b[0m                            Traceback (most recent call last)",
      "\u001b[1;32m<ipython-input-42-591d00d42f38>\u001b[0m in \u001b[0;36m<module>\u001b[1;34m\u001b[0m\n\u001b[0;32m      1\u001b[0m \u001b[1;31m# 4.2 Remove perfect multiplcolinearity\u001b[0m\u001b[1;33m\u001b[0m\u001b[1;33m\u001b[0m\u001b[1;33m\u001b[0m\u001b[0m\n\u001b[0;32m      2\u001b[0m \u001b[1;33m\u001b[0m\u001b[0m\n\u001b[1;32m----> 3\u001b[1;33m \u001b[0msns\u001b[0m\u001b[1;33m.\u001b[0m\u001b[0mdistplot\u001b[0m\u001b[1;33m(\u001b[0m\u001b[0mtrain\u001b[0m\u001b[1;33m.\u001b[0m\u001b[0mMisVal\u001b[0m\u001b[1;33m)\u001b[0m\u001b[1;33m\u001b[0m\u001b[1;33m\u001b[0m\u001b[0m\n\u001b[0m",
      "\u001b[1;32mC:\\Anaconda3\\lib\\site-packages\\pandas\\core\\generic.py\u001b[0m in \u001b[0;36m__getattr__\u001b[1;34m(self, name)\u001b[0m\n\u001b[0;32m   5065\u001b[0m             \u001b[1;32mif\u001b[0m \u001b[0mself\u001b[0m\u001b[1;33m.\u001b[0m\u001b[0m_info_axis\u001b[0m\u001b[1;33m.\u001b[0m\u001b[0m_can_hold_identifiers_and_holds_name\u001b[0m\u001b[1;33m(\u001b[0m\u001b[0mname\u001b[0m\u001b[1;33m)\u001b[0m\u001b[1;33m:\u001b[0m\u001b[1;33m\u001b[0m\u001b[1;33m\u001b[0m\u001b[0m\n\u001b[0;32m   5066\u001b[0m                 \u001b[1;32mreturn\u001b[0m \u001b[0mself\u001b[0m\u001b[1;33m[\u001b[0m\u001b[0mname\u001b[0m\u001b[1;33m]\u001b[0m\u001b[1;33m\u001b[0m\u001b[1;33m\u001b[0m\u001b[0m\n\u001b[1;32m-> 5067\u001b[1;33m             \u001b[1;32mreturn\u001b[0m \u001b[0mobject\u001b[0m\u001b[1;33m.\u001b[0m\u001b[0m__getattribute__\u001b[0m\u001b[1;33m(\u001b[0m\u001b[0mself\u001b[0m\u001b[1;33m,\u001b[0m \u001b[0mname\u001b[0m\u001b[1;33m)\u001b[0m\u001b[1;33m\u001b[0m\u001b[1;33m\u001b[0m\u001b[0m\n\u001b[0m\u001b[0;32m   5068\u001b[0m \u001b[1;33m\u001b[0m\u001b[0m\n\u001b[0;32m   5069\u001b[0m     \u001b[1;32mdef\u001b[0m \u001b[0m__setattr__\u001b[0m\u001b[1;33m(\u001b[0m\u001b[0mself\u001b[0m\u001b[1;33m,\u001b[0m \u001b[0mname\u001b[0m\u001b[1;33m,\u001b[0m \u001b[0mvalue\u001b[0m\u001b[1;33m)\u001b[0m\u001b[1;33m:\u001b[0m\u001b[1;33m\u001b[0m\u001b[1;33m\u001b[0m\u001b[0m\n",
      "\u001b[1;31mAttributeError\u001b[0m: 'DataFrame' object has no attribute 'MisVal'"
     ]
    }
   ],
   "source": [
    "# 4.2 Remove perfect multiplcolinearity\n",
    "\n",
    "sns.distplot(train.MisVal)"
   ]
  },
  {
   "cell_type": "code",
   "execution_count": null,
   "metadata": {},
   "outputs": [],
   "source": [
    "#5 variable transformation (log area; and then log all numerica variables)\n",
    "#From Peter\n",
    "train['TotalBsmtSF_log'] = np.log1p(train['BsmtFinSF1'] + train['BsmtFinSF2'] + train['BsmtUnfSF'])\n",
    "train['TotalSF_log'] = np.log1p(train['TotalSF'])\n",
    "train['OverallQual_log'] = np.log1p(train['OverallQual'])\n",
    "train['YearBuilt_log'] = np.log1p(train['YearBuilt'])\n",
    "train['OverallCond_log'] = np.log1p(train['OverallCond'])\n",
    "#From Zhongjin(Gene)\n",
    "logvar_list=[]\n",
    "for s in ['SF','Area','Price', 'Val','3SsnPorch', 'EnclosedPorch', 'ScreenPorch','LotFrontage']:\n",
    "    cols=[col for col in train.columns if s in col and 'SFoyer' not in col and '_absent' not in col]\n",
    "    print(cols)\n",
    "    logvar_list=logvar_list+cols\n",
    "    for col in cols:\n",
    "        train[col]=np.log1p(train[col])\n",
    "        test_final[col]=np.log1p(test_final[col])\n",
    "y=np.log1p(y)\n"
   ]
  },
  {
   "cell_type": "markdown",
   "metadata": {},
   "source": [
    "## Basic final dataset output\n"
   ]
  },
  {
   "cell_type": "code",
   "execution_count": 1497,
   "metadata": {},
   "outputs": [
    {
     "name": "stdout",
     "output_type": "stream",
     "text": [
      "Number of numerical variables: 38\n",
      "Number of categorical dummies: 298\n",
      "Number of dummies for 0s: 31\n"
     ]
    }
   ],
   "source": [
    "# generate dummy variables for categorical variables and numeric variables=0;\n",
    "train_cat_dum = pd.get_dummies(train_cat)\n",
    "cols=train_num.columns[train_num.apply(lambda x: x==0).sum()>0]\n",
    "train_num_absent = train_num.loc[:,cols].apply(lambda x: x==0).astype(int).add_suffix('_absent')\n",
    "print(\"Number of numerical variables: {}\".format(len(train_num.columns)))\n",
    "print(\"Number of categorical dummies: {}\".format(len(train_cat_dum.columns)))\n",
    "print(\"Number of dummies for 0s: {}\".format(len(train_num_absent.columns)))\n",
    "# Join categorical and numerical features\n",
    "pd.concat([target_var,train_num, train_cat_dum,train_num_absent], axis = 1).to_csv('final_dataset.csv',index=False)\n",
    "# data clean is done. Wrap the above into a .py file"
   ]
  },
  {
   "cell_type": "code",
   "execution_count": 1498,
   "metadata": {},
   "outputs": [],
   "source": []
  },
  {
   "cell_type": "code",
   "execution_count": 1515,
   "metadata": {},
   "outputs": [
    {
     "name": "stdout",
     "output_type": "stream",
     "text": [
      "No of comp categories: 39\n",
      "0\n"
     ]
    },
    {
     "ename": "KeyboardInterrupt",
     "evalue": "",
     "output_type": "error",
     "traceback": [
      "\u001b[0;31m---------------------------------------------------------------------------\u001b[0m",
      "\u001b[0;31mKeyboardInterrupt\u001b[0m                         Traceback (most recent call last)",
      "\u001b[0;32m<ipython-input-1515-65a8e3da9862>\u001b[0m in \u001b[0;36m<module>\u001b[0;34m\u001b[0m\n\u001b[1;32m     18\u001b[0m     \u001b[0mtrain\u001b[0m\u001b[0;34m.\u001b[0m\u001b[0miloc\u001b[0m\u001b[0;34m[\u001b[0m\u001b[0mi\u001b[0m\u001b[0;34m,\u001b[0m\u001b[0;34m-\u001b[0m\u001b[0;36m1\u001b[0m\u001b[0;34m]\u001b[0m\u001b[0;34m=\u001b[0m\u001b[0mcompsT5\u001b[0m\u001b[0;34m.\u001b[0m\u001b[0mmean\u001b[0m\u001b[0;34m(\u001b[0m\u001b[0;34m)\u001b[0m\u001b[0;34m\u001b[0m\u001b[0;34m\u001b[0m\u001b[0m\n\u001b[1;32m     19\u001b[0m     \u001b[0;32mif\u001b[0m \u001b[0mi\u001b[0m\u001b[0;34m%\u001b[0m\u001b[0;36m200\u001b[0m\u001b[0;34m==\u001b[0m\u001b[0;36m0\u001b[0m\u001b[0;34m:\u001b[0m \u001b[0mprint\u001b[0m\u001b[0;34m(\u001b[0m\u001b[0mi\u001b[0m\u001b[0;34m)\u001b[0m\u001b[0;34m\u001b[0m\u001b[0;34m\u001b[0m\u001b[0m\n\u001b[0;32m---> 20\u001b[0;31m \u001b[0;34m[\u001b[0m\u001b[0mfunc\u001b[0m\u001b[0;34m(\u001b[0m\u001b[0mi\u001b[0m\u001b[0;34m)\u001b[0m \u001b[0;32mfor\u001b[0m \u001b[0mi\u001b[0m \u001b[0;32min\u001b[0m \u001b[0mrange\u001b[0m\u001b[0;34m(\u001b[0m\u001b[0mnp\u001b[0m\u001b[0;34m.\u001b[0m\u001b[0mshape\u001b[0m\u001b[0;34m(\u001b[0m\u001b[0mtarget\u001b[0m\u001b[0;34m)\u001b[0m\u001b[0;34m[\u001b[0m\u001b[0;36m0\u001b[0m\u001b[0;34m]\u001b[0m\u001b[0;34m)\u001b[0m\u001b[0;34m]\u001b[0m\u001b[0;34m\u001b[0m\u001b[0;34m\u001b[0m\u001b[0m\n\u001b[0m\u001b[1;32m     21\u001b[0m \u001b[0;34m\u001b[0m\u001b[0m\n",
      "\u001b[0;32m<ipython-input-1515-65a8e3da9862>\u001b[0m in \u001b[0;36m<listcomp>\u001b[0;34m(.0)\u001b[0m\n\u001b[1;32m     18\u001b[0m     \u001b[0mtrain\u001b[0m\u001b[0;34m.\u001b[0m\u001b[0miloc\u001b[0m\u001b[0;34m[\u001b[0m\u001b[0mi\u001b[0m\u001b[0;34m,\u001b[0m\u001b[0;34m-\u001b[0m\u001b[0;36m1\u001b[0m\u001b[0;34m]\u001b[0m\u001b[0;34m=\u001b[0m\u001b[0mcompsT5\u001b[0m\u001b[0;34m.\u001b[0m\u001b[0mmean\u001b[0m\u001b[0;34m(\u001b[0m\u001b[0;34m)\u001b[0m\u001b[0;34m\u001b[0m\u001b[0;34m\u001b[0m\u001b[0m\n\u001b[1;32m     19\u001b[0m     \u001b[0;32mif\u001b[0m \u001b[0mi\u001b[0m\u001b[0;34m%\u001b[0m\u001b[0;36m200\u001b[0m\u001b[0;34m==\u001b[0m\u001b[0;36m0\u001b[0m\u001b[0;34m:\u001b[0m \u001b[0mprint\u001b[0m\u001b[0;34m(\u001b[0m\u001b[0mi\u001b[0m\u001b[0;34m)\u001b[0m\u001b[0;34m\u001b[0m\u001b[0;34m\u001b[0m\u001b[0m\n\u001b[0;32m---> 20\u001b[0;31m \u001b[0;34m[\u001b[0m\u001b[0mfunc\u001b[0m\u001b[0;34m(\u001b[0m\u001b[0mi\u001b[0m\u001b[0;34m)\u001b[0m \u001b[0;32mfor\u001b[0m \u001b[0mi\u001b[0m \u001b[0;32min\u001b[0m \u001b[0mrange\u001b[0m\u001b[0;34m(\u001b[0m\u001b[0mnp\u001b[0m\u001b[0;34m.\u001b[0m\u001b[0mshape\u001b[0m\u001b[0;34m(\u001b[0m\u001b[0mtarget\u001b[0m\u001b[0;34m)\u001b[0m\u001b[0;34m[\u001b[0m\u001b[0;36m0\u001b[0m\u001b[0;34m]\u001b[0m\u001b[0;34m)\u001b[0m\u001b[0;34m]\u001b[0m\u001b[0;34m\u001b[0m\u001b[0;34m\u001b[0m\u001b[0m\n\u001b[0m\u001b[1;32m     21\u001b[0m \u001b[0;34m\u001b[0m\u001b[0m\n",
      "\u001b[0;32m<ipython-input-1515-65a8e3da9862>\u001b[0m in \u001b[0;36mfunc\u001b[0;34m(i)\u001b[0m\n\u001b[1;32m     13\u001b[0m     \u001b[0;32melse\u001b[0m\u001b[0;34m:\u001b[0m\u001b[0;34m\u001b[0m\u001b[0;34m\u001b[0m\u001b[0m\n\u001b[1;32m     14\u001b[0m         \u001b[0mdf\u001b[0m\u001b[0;34m=\u001b[0m\u001b[0mcomp\u001b[0m\u001b[0;34m\u001b[0m\u001b[0;34m\u001b[0m\u001b[0m\n\u001b[0;32m---> 15\u001b[0;31m     \u001b[0mrows\u001b[0m\u001b[0;34m=\u001b[0m\u001b[0mdf\u001b[0m\u001b[0;34m.\u001b[0m\u001b[0mapply\u001b[0m\u001b[0;34m(\u001b[0m\u001b[0;32mlambda\u001b[0m \u001b[0mx\u001b[0m\u001b[0;34m:\u001b[0m \u001b[0mx\u001b[0m \u001b[0;34m==\u001b[0m \u001b[0mstd_row\u001b[0m\u001b[0;34m,\u001b[0m \u001b[0maxis\u001b[0m\u001b[0;34m=\u001b[0m\u001b[0;36m1\u001b[0m\u001b[0;34m)\u001b[0m\u001b[0;34m.\u001b[0m\u001b[0msum\u001b[0m\u001b[0;34m(\u001b[0m\u001b[0maxis\u001b[0m\u001b[0;34m=\u001b[0m\u001b[0;36m1\u001b[0m\u001b[0;34m)\u001b[0m\u001b[0;34m\u001b[0m\u001b[0;34m\u001b[0m\u001b[0m\n\u001b[0m\u001b[1;32m     16\u001b[0m     \u001b[0mcompsT5\u001b[0m\u001b[0;34m=\u001b[0m\u001b[0mrows\u001b[0m\u001b[0;34m.\u001b[0m\u001b[0msort_values\u001b[0m\u001b[0;34m(\u001b[0m\u001b[0mascending\u001b[0m\u001b[0;34m=\u001b[0m\u001b[0;32mFalse\u001b[0m\u001b[0;34m)\u001b[0m\u001b[0;34m[\u001b[0m\u001b[0;34m:\u001b[0m\u001b[0;36m5\u001b[0m\u001b[0;34m]\u001b[0m\u001b[0;34m\u001b[0m\u001b[0;34m\u001b[0m\u001b[0m\n\u001b[1;32m     17\u001b[0m     \u001b[0mtrain\u001b[0m\u001b[0;34m.\u001b[0m\u001b[0miloc\u001b[0m\u001b[0;34m[\u001b[0m\u001b[0mi\u001b[0m\u001b[0;34m,\u001b[0m\u001b[0;34m-\u001b[0m\u001b[0;36m2\u001b[0m\u001b[0;34m]\u001b[0m\u001b[0;34m=\u001b[0m\u001b[0mtarget_var\u001b[0m\u001b[0;34m[\u001b[0m\u001b[0mtarget_var\u001b[0m\u001b[0;34m.\u001b[0m\u001b[0mindex\u001b[0m\u001b[0;34m.\u001b[0m\u001b[0misin\u001b[0m\u001b[0;34m(\u001b[0m\u001b[0mcompsT5\u001b[0m\u001b[0;34m.\u001b[0m\u001b[0mindex\u001b[0m\u001b[0;34m)\u001b[0m\u001b[0;34m]\u001b[0m\u001b[0;34m.\u001b[0m\u001b[0mmean\u001b[0m\u001b[0;34m(\u001b[0m\u001b[0;34m)\u001b[0m\u001b[0;34m[\u001b[0m\u001b[0;36m0\u001b[0m\u001b[0;34m]\u001b[0m\u001b[0;34m\u001b[0m\u001b[0;34m\u001b[0m\u001b[0m\n",
      "\u001b[0;32m~/anaconda3/lib/python3.7/site-packages/pandas/core/frame.py\u001b[0m in \u001b[0;36mapply\u001b[0;34m(self, func, axis, broadcast, raw, reduce, result_type, args, **kwds)\u001b[0m\n\u001b[1;32m   6485\u001b[0m                          \u001b[0margs\u001b[0m\u001b[0;34m=\u001b[0m\u001b[0margs\u001b[0m\u001b[0;34m,\u001b[0m\u001b[0;34m\u001b[0m\u001b[0;34m\u001b[0m\u001b[0m\n\u001b[1;32m   6486\u001b[0m                          kwds=kwds)\n\u001b[0;32m-> 6487\u001b[0;31m         \u001b[0;32mreturn\u001b[0m \u001b[0mop\u001b[0m\u001b[0;34m.\u001b[0m\u001b[0mget_result\u001b[0m\u001b[0;34m(\u001b[0m\u001b[0;34m)\u001b[0m\u001b[0;34m\u001b[0m\u001b[0;34m\u001b[0m\u001b[0m\n\u001b[0m\u001b[1;32m   6488\u001b[0m \u001b[0;34m\u001b[0m\u001b[0m\n\u001b[1;32m   6489\u001b[0m     \u001b[0;32mdef\u001b[0m \u001b[0mapplymap\u001b[0m\u001b[0;34m(\u001b[0m\u001b[0mself\u001b[0m\u001b[0;34m,\u001b[0m \u001b[0mfunc\u001b[0m\u001b[0;34m)\u001b[0m\u001b[0;34m:\u001b[0m\u001b[0;34m\u001b[0m\u001b[0;34m\u001b[0m\u001b[0m\n",
      "\u001b[0;32m~/anaconda3/lib/python3.7/site-packages/pandas/core/apply.py\u001b[0m in \u001b[0;36mget_result\u001b[0;34m(self)\u001b[0m\n\u001b[1;32m    149\u001b[0m             \u001b[0;32mreturn\u001b[0m \u001b[0mself\u001b[0m\u001b[0;34m.\u001b[0m\u001b[0mapply_raw\u001b[0m\u001b[0;34m(\u001b[0m\u001b[0;34m)\u001b[0m\u001b[0;34m\u001b[0m\u001b[0;34m\u001b[0m\u001b[0m\n\u001b[1;32m    150\u001b[0m \u001b[0;34m\u001b[0m\u001b[0m\n\u001b[0;32m--> 151\u001b[0;31m         \u001b[0;32mreturn\u001b[0m \u001b[0mself\u001b[0m\u001b[0;34m.\u001b[0m\u001b[0mapply_standard\u001b[0m\u001b[0;34m(\u001b[0m\u001b[0;34m)\u001b[0m\u001b[0;34m\u001b[0m\u001b[0;34m\u001b[0m\u001b[0m\n\u001b[0m\u001b[1;32m    152\u001b[0m \u001b[0;34m\u001b[0m\u001b[0m\n\u001b[1;32m    153\u001b[0m     \u001b[0;32mdef\u001b[0m \u001b[0mapply_empty_result\u001b[0m\u001b[0;34m(\u001b[0m\u001b[0mself\u001b[0m\u001b[0;34m)\u001b[0m\u001b[0;34m:\u001b[0m\u001b[0;34m\u001b[0m\u001b[0;34m\u001b[0m\u001b[0m\n",
      "\u001b[0;32m~/anaconda3/lib/python3.7/site-packages/pandas/core/apply.py\u001b[0m in \u001b[0;36mapply_standard\u001b[0;34m(self)\u001b[0m\n\u001b[1;32m    255\u001b[0m \u001b[0;34m\u001b[0m\u001b[0m\n\u001b[1;32m    256\u001b[0m         \u001b[0;31m# compute the result using the series generator\u001b[0m\u001b[0;34m\u001b[0m\u001b[0;34m\u001b[0m\u001b[0;34m\u001b[0m\u001b[0m\n\u001b[0;32m--> 257\u001b[0;31m         \u001b[0mself\u001b[0m\u001b[0;34m.\u001b[0m\u001b[0mapply_series_generator\u001b[0m\u001b[0;34m(\u001b[0m\u001b[0;34m)\u001b[0m\u001b[0;34m\u001b[0m\u001b[0;34m\u001b[0m\u001b[0m\n\u001b[0m\u001b[1;32m    258\u001b[0m \u001b[0;34m\u001b[0m\u001b[0m\n\u001b[1;32m    259\u001b[0m         \u001b[0;31m# wrap results\u001b[0m\u001b[0;34m\u001b[0m\u001b[0;34m\u001b[0m\u001b[0;34m\u001b[0m\u001b[0m\n",
      "\u001b[0;32m~/anaconda3/lib/python3.7/site-packages/pandas/core/apply.py\u001b[0m in \u001b[0;36mapply_series_generator\u001b[0;34m(self)\u001b[0m\n\u001b[1;32m    283\u001b[0m         \u001b[0;32melse\u001b[0m\u001b[0;34m:\u001b[0m\u001b[0;34m\u001b[0m\u001b[0;34m\u001b[0m\u001b[0m\n\u001b[1;32m    284\u001b[0m             \u001b[0;32mtry\u001b[0m\u001b[0;34m:\u001b[0m\u001b[0;34m\u001b[0m\u001b[0;34m\u001b[0m\u001b[0m\n\u001b[0;32m--> 285\u001b[0;31m                 \u001b[0;32mfor\u001b[0m \u001b[0mi\u001b[0m\u001b[0;34m,\u001b[0m \u001b[0mv\u001b[0m \u001b[0;32min\u001b[0m \u001b[0menumerate\u001b[0m\u001b[0;34m(\u001b[0m\u001b[0mseries_gen\u001b[0m\u001b[0;34m)\u001b[0m\u001b[0;34m:\u001b[0m\u001b[0;34m\u001b[0m\u001b[0;34m\u001b[0m\u001b[0m\n\u001b[0m\u001b[1;32m    286\u001b[0m                     \u001b[0mresults\u001b[0m\u001b[0;34m[\u001b[0m\u001b[0mi\u001b[0m\u001b[0;34m]\u001b[0m \u001b[0;34m=\u001b[0m \u001b[0mself\u001b[0m\u001b[0;34m.\u001b[0m\u001b[0mf\u001b[0m\u001b[0;34m(\u001b[0m\u001b[0mv\u001b[0m\u001b[0;34m)\u001b[0m\u001b[0;34m\u001b[0m\u001b[0;34m\u001b[0m\u001b[0m\n\u001b[1;32m    287\u001b[0m                     \u001b[0mkeys\u001b[0m\u001b[0;34m.\u001b[0m\u001b[0mappend\u001b[0m\u001b[0;34m(\u001b[0m\u001b[0mv\u001b[0m\u001b[0;34m.\u001b[0m\u001b[0mname\u001b[0m\u001b[0;34m)\u001b[0m\u001b[0;34m\u001b[0m\u001b[0;34m\u001b[0m\u001b[0m\n",
      "\u001b[0;32m~/anaconda3/lib/python3.7/site-packages/pandas/core/apply.py\u001b[0m in \u001b[0;36m<genexpr>\u001b[0;34m(.0)\u001b[0m\n\u001b[1;32m    365\u001b[0m         \u001b[0mconstructor\u001b[0m \u001b[0;34m=\u001b[0m \u001b[0mself\u001b[0m\u001b[0;34m.\u001b[0m\u001b[0mobj\u001b[0m\u001b[0;34m.\u001b[0m\u001b[0m_constructor_sliced\u001b[0m\u001b[0;34m\u001b[0m\u001b[0;34m\u001b[0m\u001b[0m\n\u001b[1;32m    366\u001b[0m         return (constructor(arr, index=self.columns, name=name)\n\u001b[0;32m--> 367\u001b[0;31m                 for i, (arr, name) in enumerate(zip(self.values,\n\u001b[0m\u001b[1;32m    368\u001b[0m                                                     self.index)))\n\u001b[1;32m    369\u001b[0m \u001b[0;34m\u001b[0m\u001b[0m\n",
      "\u001b[0;32m~/anaconda3/lib/python3.7/site-packages/pandas/core/series.py\u001b[0m in \u001b[0;36m__init__\u001b[0;34m(self, data, index, dtype, name, copy, fastpath)\u001b[0m\n\u001b[1;32m    238\u001b[0m                     \u001b[0mdata\u001b[0m \u001b[0;34m=\u001b[0m \u001b[0;34m[\u001b[0m\u001b[0mdata\u001b[0m\u001b[0;34m]\u001b[0m\u001b[0;34m\u001b[0m\u001b[0;34m\u001b[0m\u001b[0m\n\u001b[1;32m    239\u001b[0m                 \u001b[0mindex\u001b[0m \u001b[0;34m=\u001b[0m \u001b[0mibase\u001b[0m\u001b[0;34m.\u001b[0m\u001b[0mdefault_index\u001b[0m\u001b[0;34m(\u001b[0m\u001b[0mlen\u001b[0m\u001b[0;34m(\u001b[0m\u001b[0mdata\u001b[0m\u001b[0;34m)\u001b[0m\u001b[0;34m)\u001b[0m\u001b[0;34m\u001b[0m\u001b[0;34m\u001b[0m\u001b[0m\n\u001b[0;32m--> 240\u001b[0;31m             \u001b[0;32melif\u001b[0m \u001b[0mis_list_like\u001b[0m\u001b[0;34m(\u001b[0m\u001b[0mdata\u001b[0m\u001b[0;34m)\u001b[0m\u001b[0;34m:\u001b[0m\u001b[0;34m\u001b[0m\u001b[0;34m\u001b[0m\u001b[0m\n\u001b[0m\u001b[1;32m    241\u001b[0m \u001b[0;34m\u001b[0m\u001b[0m\n\u001b[1;32m    242\u001b[0m                 \u001b[0;31m# a scalar numpy array is list-like but doesn't\u001b[0m\u001b[0;34m\u001b[0m\u001b[0;34m\u001b[0m\u001b[0;34m\u001b[0m\u001b[0m\n",
      "\u001b[0;32m~/anaconda3/lib/python3.7/site-packages/pandas/core/dtypes/inference.py\u001b[0m in \u001b[0;36mis_list_like\u001b[0;34m(obj, allow_sets)\u001b[0m\n\u001b[1;32m    296\u001b[0m \u001b[0;34m\u001b[0m\u001b[0m\n\u001b[1;32m    297\u001b[0m             \u001b[0;31m# exclude zero-dimensional numpy arrays, effectively scalars\u001b[0m\u001b[0;34m\u001b[0m\u001b[0;34m\u001b[0m\u001b[0;34m\u001b[0m\u001b[0m\n\u001b[0;32m--> 298\u001b[0;31m             \u001b[0;32mand\u001b[0m \u001b[0;32mnot\u001b[0m \u001b[0;34m(\u001b[0m\u001b[0misinstance\u001b[0m\u001b[0;34m(\u001b[0m\u001b[0mobj\u001b[0m\u001b[0;34m,\u001b[0m \u001b[0mnp\u001b[0m\u001b[0;34m.\u001b[0m\u001b[0mndarray\u001b[0m\u001b[0;34m)\u001b[0m \u001b[0;32mand\u001b[0m \u001b[0mobj\u001b[0m\u001b[0;34m.\u001b[0m\u001b[0mndim\u001b[0m \u001b[0;34m==\u001b[0m \u001b[0;36m0\u001b[0m\u001b[0;34m)\u001b[0m\u001b[0;34m\u001b[0m\u001b[0;34m\u001b[0m\u001b[0m\n\u001b[0m\u001b[1;32m    299\u001b[0m \u001b[0;34m\u001b[0m\u001b[0m\n\u001b[1;32m    300\u001b[0m             \u001b[0;31m# exclude sets if allow_sets is False\u001b[0m\u001b[0;34m\u001b[0m\u001b[0;34m\u001b[0m\u001b[0;34m\u001b[0m\u001b[0m\n",
      "\u001b[0;31mKeyboardInterrupt\u001b[0m: "
     ]
    }
   ],
   "source": []
  },
  {
   "cell_type": "code",
   "execution_count": 1500,
   "metadata": {},
   "outputs": [],
   "source": [
    "# comparable prices and compIndex how close are comparables\n",
    "\n"
   ]
  },
  {
   "cell_type": "code",
   "execution_count": 1501,
   "metadata": {},
   "outputs": [],
   "source": [
    "# comparable prices and compIndex how close are comparables\n",
    "pd.concat([target_var,train_num, train_cat_dum,train_num_absent,train[['compPrice','compIndex']]], axis = 1).to_csv('final_dataset1.csv',index=False)\n"
   ]
  },
  {
   "cell_type": "code",
   "execution_count": 1502,
   "metadata": {},
   "outputs": [],
   "source": [
    "\n",
    "train_num=pd.concat([train_num,train[['compPrice','compIndex']]],axis=1)\n"
   ]
  },
  {
   "cell_type": "code",
   "execution_count": 1503,
   "metadata": {},
   "outputs": [],
   "source": [
    "import pickle\n",
    "pickle_out=open('final_dataset.pickle','wb')\n",
    "pickle.dump([target_var, train_num,train_cat_dum,train_num_absent],pickle_out)\n",
    "pickle_out.close()"
   ]
  },
  {
   "cell_type": "code",
   "execution_count": 1504,
   "metadata": {},
   "outputs": [
    {
     "data": {
      "text/plain": [
       "Index(['1stFlrSF', '2ndFlrSF', '3SsnPorch', 'BedroomAbvGr', 'BsmtFinSF1',\n",
       "       'BsmtFinSF2', 'BsmtFullBath', 'BsmtHalfBath', 'BsmtUnfSF',\n",
       "       'EnclosedPorch', 'Fireplaces', 'FullBath', 'GarageArea', 'GarageCars',\n",
       "       'GarageYrBlt', 'GrLivArea', 'HalfBath', 'Id', 'KitchenAbvGr', 'LotArea',\n",
       "       'LotFrontage', 'LowQualFinSF', 'MasVnrArea', 'MiscVal', 'OpenPorchSF',\n",
       "       'OverallCond', 'OverallQual', 'PoolArea', 'ScreenPorch', 'TotRmsAbvGrd',\n",
       "       'TotalBsmtSF', 'WoodDeckSF', 'YearBuilt', 'YearRemodAdd',\n",
       "       'BsmtTotalBath', 'TotalBath', 'BsmtFinSF', 'AllPorchSF', 'compPrice',\n",
       "       'compIndex'],\n",
       "      dtype='object')"
      ]
     },
     "execution_count": 1504,
     "metadata": {},
     "output_type": "execute_result"
    }
   ],
   "source": [
    "train_num.columns"
   ]
  },
  {
   "cell_type": "code",
   "execution_count": 1389,
   "metadata": {},
   "outputs": [],
   "source": [
    "# 2 Feature reduction"
   ]
  },
  {
   "cell_type": "code",
   "execution_count": 1505,
   "metadata": {},
   "outputs": [],
   "source": [
    "\n",
    "pickle_in=open('final_dataset.pickle','rb')\n",
    "[target_var,train_num, train_cat_dum,train_num_absent]=pickle.load(pickle_in)"
   ]
  },
  {
   "cell_type": "code",
   "execution_count": 1506,
   "metadata": {},
   "outputs": [
    {
     "data": {
      "text/plain": [
       "Index(['Alley_Grvl', 'Alley_None', 'Alley_Pave', 'BldgType_1Fam',\n",
       "       'BldgType_2fmCon', 'BldgType_Duplex', 'BldgType_Twnhs',\n",
       "       'BldgType_TwnhsE', 'BsmtCond_Fa', 'BsmtCond_Gd',\n",
       "       ...\n",
       "       'SaleType_WD', 'Street_Grvl', 'Street_Pave', 'Utilities_AllPub',\n",
       "       'Utilities_NoSeWa', 'YrSold_2006', 'YrSold_2007', 'YrSold_2008',\n",
       "       'YrSold_2009', 'YrSold_2010'],\n",
       "      dtype='object', length=298)"
      ]
     },
     "execution_count": 1506,
     "metadata": {},
     "output_type": "execute_result"
    }
   ],
   "source": [
    "# drop columns with exaclty the same value; doesn't affect predictive accuracy\n",
    "train_cat_dum.columns"
   ]
  },
  {
   "cell_type": "code",
   "execution_count": 1507,
   "metadata": {},
   "outputs": [],
   "source": [
    "train_num_absent['Bsmt_absent']=train_num_absent[['BsmtFinSF1_absent', 'BsmtFinSF2_absent',\n",
    "                                                  'BsmtUnfSF_absent']].sum(axis=1)==3\n",
    "train_num_absent['Bsmt_absent']=train_num_absent['Bsmt_absent'].astype(int)"
   ]
  },
  {
   "cell_type": "code",
   "execution_count": 1508,
   "metadata": {},
   "outputs": [],
   "source": [
    "train_num_absent['Garage_absent'] =train_num_absent[['GarageArea_absent','GarageCars_absent']].sum(axis=1)==2\n",
    "train_num_absent['Garage_absent']=train_num_absent['Garage_absent'].astype(int)"
   ]
  },
  {
   "cell_type": "code",
   "execution_count": 1509,
   "metadata": {},
   "outputs": [
    {
     "data": {
      "text/plain": [
       "Index(['2ndFlrSF_absent', '3SsnPorch_absent', 'BedroomAbvGr_absent',\n",
       "       'EnclosedPorch_absent', 'Fireplaces_absent', 'FullBath_absent',\n",
       "       'GarageYrBlt_absent', 'HalfBath_absent', 'KitchenAbvGr_absent',\n",
       "       'LotFrontage_absent', 'LowQualFinSF_absent', 'MasVnrArea_absent',\n",
       "       'MiscVal_absent', 'OpenPorchSF_absent', 'PoolArea_absent',\n",
       "       'ScreenPorch_absent', 'WoodDeckSF_absent', 'YearBuilt_absent',\n",
       "       'YearRemodAdd_absent', 'BsmtTotalBath_absent', 'TotalBath_absent',\n",
       "       'BsmtFinSF_absent', 'AllPorchSF_absent', 'Bsmt_absent',\n",
       "       'Garage_absent'],\n",
       "      dtype='object')"
      ]
     },
     "execution_count": 1509,
     "metadata": {},
     "output_type": "execute_result"
    }
   ],
   "source": [
    "train_num_absent.drop(['BsmtFinSF1_absent', 'BsmtFinSF2_absent',\n",
    "                        'TotalBsmtSF_absent','BsmtUnfSF_absent']+\n",
    "                      ['GarageArea_absent','GarageCars_absent']+['BsmtFullBath_absent', 'BsmtHalfBath_absent'],axis=1,inplace=True)\n",
    "train_num_absent.columns"
   ]
  },
  {
   "cell_type": "code",
   "execution_count": 1510,
   "metadata": {},
   "outputs": [],
   "source": [
    "#  train_num.drop(['GrLivArea','TotalBsmtSF'],axis=1,inplace=True)"
   ]
  },
  {
   "cell_type": "code",
   "execution_count": 1511,
   "metadata": {},
   "outputs": [
    {
     "name": "stdout",
     "output_type": "stream",
     "text": [
      "1stFlrSF R^2: 1.00\n",
      "2ndFlrSF R^2: 1.00\n",
      "3SsnPorch R^2: 1.00\n",
      "BsmtFinSF1 R^2: 1.00\n",
      "BsmtFinSF2 R^2: 1.00\n",
      "BsmtFullBath R^2: 1.00\n",
      "BsmtHalfBath R^2: 1.00\n",
      "BsmtUnfSF R^2: 1.00\n",
      "EnclosedPorch R^2: 1.00\n",
      "FullBath R^2: 1.00\n",
      "GrLivArea R^2: 1.00\n",
      "HalfBath R^2: 1.00\n",
      "LowQualFinSF R^2: 1.00\n",
      "OpenPorchSF R^2: 1.00\n",
      "PoolArea R^2: 0.96\n",
      "ScreenPorch R^2: 1.00\n",
      "TotalBsmtSF R^2: 1.00\n",
      "BsmtTotalBath R^2: 1.00\n",
      "TotalBath R^2: 1.00\n",
      "BsmtFinSF R^2: 1.00\n",
      "AllPorchSF R^2: 1.00\n",
      "2ndFlrSF_absent R^2: 0.97\n",
      "Fireplaces_absent R^2: 1.00\n",
      "HalfBath_absent R^2: 0.98\n",
      "MasVnrArea_absent R^2: 0.99\n",
      "MiscVal_absent R^2: 0.98\n",
      "PoolArea_absent R^2: 0.96\n",
      "BsmtTotalBath_absent R^2: 0.96\n",
      "BsmtFinSF_absent R^2: 1.00\n",
      "Bsmt_absent R^2: 1.00\n",
      "Garage_absent R^2: 1.00\n"
     ]
    }
   ],
   "source": [
    "# check high R2 variables; all have been addressed by the feature engineering above\n",
    "from sklearn import linear_model\n",
    "ols = linear_model.LinearRegression()\n",
    "df=pd.concat([train_num, train_cat_dum,train_num_absent], axis = 1)\n",
    "for i, col in enumerate(df.columns.values):\n",
    "    if '_' not in col or 'absent' in col:\n",
    "        x=df.iloc[:,df.columns!=col]\n",
    "        y=df.iloc[:,i]\n",
    "        ols.fit(x, y)   #### X needs to be 2-D array; X.reshape(-1,1) to shape 1-D array; x = df[[\"col1\"]]\n",
    "        if ols.score(x, y)>0.95:\n",
    "            print(col+' R^2: %.2f' % ols.score(x, y)) ## score: the R^2 of the fitted model"
   ]
  },
  {
   "cell_type": "code",
   "execution_count": 1512,
   "metadata": {},
   "outputs": [
    {
     "name": "stdout",
     "output_type": "stream",
     "text": [
      "                 Bsmt_absent\n",
      "BsmtFinType1_No     1.000000\n",
      "BsmtFinType2_No     0.993555\n",
      "                 Garage_absent\n",
      "GarageCond_No          0.99667\n",
      "GarageFinish_No        0.99667\n",
      "                Fireplaces_absent\n",
      "FireplaceQu_No           1.000000\n",
      "Fireplaces               0.899625\n"
     ]
    }
   ],
   "source": [
    "# check pair-wise high correlations\n",
    "import copy \n",
    "corr_mat=df.corr()\n",
    "np.fill_diagonal(corr_mat.values, 0)\n",
    "for i, col in enumerate(['Bsmt_absent','Garage_absent','Fireplaces_absent']):\n",
    "    if corr_mat[[col]].abs().sort_values(col,ascending=False).iloc[0,0]>0.8:\n",
    "        print(corr_mat[[col]].abs().sort_values(col,ascending=False).iloc[:2,:])"
   ]
  },
  {
   "cell_type": "code",
   "execution_count": 1513,
   "metadata": {},
   "outputs": [],
   "source": [
    "train_cat_dum.drop(['BsmtFinType1_No','BsmtFinType2_No','BsmtQual_No','BsmtCond_No',\n",
    "                    'GarageType_No','GarageQual_No','GarageCond_No','GarageFinish_No',\n",
    "                    'FireplaceQu_No','BsmtTotalBath_absent','BsmtFinSF_absent'],axis=1,inplace=True)\n",
    "# train_num_absent.drop(['Bsmt_absent','Garage_absent','Fireplaces_absent'],axis=1,inplace=True); ask Lasso to drop"
   ]
  },
  {
   "cell_type": "code",
   "execution_count": 1514,
   "metadata": {},
   "outputs": [
    {
     "name": "stdout",
     "output_type": "stream",
     "text": [
      "Number of numerical variables: 40\n",
      "Number of categorical dummies: 289\n",
      "Number of dummies for 0s: 25\n"
     ]
    }
   ],
   "source": [
    "pd.concat([target_var,train_num, train_cat_dum,train_num_absent],\n",
    "          axis = 1).to_csv('final_dataset_clean.csv',index=False) #it seems to be better in in-sample CV\n",
    "print(\"Number of numerical variables: {}\".format(len(train_num.columns)))\n",
    "print(\"Number of categorical dummies: {}\".format(len(train_cat_dum.columns)))\n",
    "print(\"Number of dummies for 0s: {}\".format(len(train_num_absent.columns)))"
   ]
  },
  {
   "cell_type": "code",
   "execution_count": null,
   "metadata": {},
   "outputs": [],
   "source": []
  },
  {
   "cell_type": "markdown",
   "metadata": {},
   "source": [
    "# categorical ordinal variables"
   ]
  },
  {
   "cell_type": "markdown",
   "metadata": {},
   "source": [
    "## Feature Engineering (Naive)\n",
    "#### see a separate file for initial exploration. The following transform is built on many trials and previous Kaggle blogs."
   ]
  },
  {
   "cell_type": "markdown",
   "metadata": {},
   "source": []
  },
  {
   "cell_type": "code",
   "execution_count": 40,
   "metadata": {},
   "outputs": [],
   "source": []
  },
  {
   "cell_type": "code",
   "execution_count": null,
   "metadata": {},
   "outputs": [],
   "source": []
  },
  {
   "cell_type": "code",
   "execution_count": 1328,
   "metadata": {},
   "outputs": [],
   "source": [
    "pickle_in=open('final_dataset.pickle','rb')\n",
    "[target_var,train_num, train_cat_dum,train_num_absent]=pickle.load(pickle_in)"
   ]
  },
  {
   "cell_type": "code",
   "execution_count": 1332,
   "metadata": {},
   "outputs": [],
   "source": []
  },
  {
   "cell_type": "code",
   "execution_count": 1333,
   "metadata": {},
   "outputs": [],
   "source": [
    "train.BsmtCond=train.BsmtCond.astype(int)\n",
    "categorical_features = train.select_dtypes(include = [\"object\"]).columns\n",
    "numerical_features = train.select_dtypes(exclude = [\"object\"]).columns\n",
    "train_num = train[numerical_features]\n",
    "train_cat = train[categorical_features]"
   ]
  },
  {
   "cell_type": "code",
   "execution_count": null,
   "metadata": {},
   "outputs": [],
   "source": []
  },
  {
   "cell_type": "code",
   "execution_count": null,
   "metadata": {},
   "outputs": [],
   "source": []
  },
  {
   "cell_type": "code",
   "execution_count": 1335,
   "metadata": {},
   "outputs": [
    {
     "name": "stdout",
     "output_type": "stream",
     "text": [
      "Number of numerical variables: 74\n",
      "Number of categorical dummies: 201\n",
      "Number of dummies for 0s: 26\n"
     ]
    }
   ],
   "source": [
    "train_cat_dum = pd.get_dummies(train_cat)\n",
    "pd.concat([train_num, train_cat_dum,train_num_absent],\n",
    "          axis = 1).to_csv('final_dataset_ordinal.csv',index=False) #it seems to be better in in-sample CV\n",
    "print(\"Number of numerical variables: {}\".format(len(train_num.columns)))\n",
    "print(\"Number of categorical dummies: {}\".format(len(train_cat_dum.columns)))\n",
    "print(\"Number of dummies for 0s: {}\".format(len(train_num_absent.columns)))\n",
    "\n",
    "#doesn't affect the performance much"
   ]
  },
  {
   "cell_type": "code",
   "execution_count": 589,
   "metadata": {},
   "outputs": [],
   "source": [
    "# Create new features\n",
    "# 1* Simplifications of existing features\n",
    "train.OverallQual.replace({1 : 1, 2 : 1, 3 : 1, # bad\n",
    "                   4 : 2, 5 : 2, 6 : 2, # average\n",
    "                   7 : 3, 8 : 3, 9 : 3, 10 : 3 # good\n",
    "                  }, inplace=True)\n",
    "train.OverallCond.replace({1 : 1, 2 : 1, 3 : 1, # bad\n",
    "                   4 : 2, 5 : 2, 6 : 2, # average\n",
    "                   7 : 3, 8 : 3, 9 : 3, 10 : 3 # good\n",
    "                  }, inplace=True)\n",
    "train.PoolQC.replace({1 : 1, 2 : 1, # average\n",
    "         3 : 2, 4 : 2 # good\n",
    "        }, inplace=True)\n",
    "train.GarageCond.replace({1 : 1, # bad\n",
    "                 2 : 1, 3 : 1, # average\n",
    "                 4 : 2, 5 : 2 # good\n",
    "                }, inplace=True)\n",
    "train.GarageQual.replace({1 : 1, # bad\n",
    "                 2 : 1, 3 : 1, # average\n",
    "                 4 : 2, 5 : 2 # good\n",
    "                }, inplace=True)\n",
    "train.FireplaceQu.replace({1 : 1, # bad\n",
    "                   2 : 1, 3 : 1, # average\n",
    "                   4 : 2, 5 : 2 # good\n",
    "                  }, inplace=True)\n",
    "train.FireplaceQu.replace({1 : 1, # bad\n",
    "                   2 : 1, 3 : 1, # average\n",
    "                   4 : 2, 5 : 2 # good\n",
    "                  }, inplace=True)\n",
    "train.Functional.replace({1 : 1, 2 : 1, # bad\n",
    "                 3 : 2, 4 : 2, # major\n",
    "                 5 : 3, 6 : 3, 7 : 3, # minor\n",
    "                 8 : 4 # typical\n",
    "                }, inplace=True)\n",
    "train.KitchenQual.replace({1 : 1, # bad\n",
    "                   2 : 1, 3 : 1, # average\n",
    "                   4 : 2, 5 : 2 # good\n",
    "                  }, inplace=True)\n",
    "train.HeatingQC.replace({1 : 1, # bad\n",
    "               2 : 1, 3 : 1, # average\n",
    "               4 : 2, 5 : 2 # good\n",
    "              }, inplace=True)\n",
    "train.BsmtFinType1.replace({1 : 1, # unfinished\n",
    "                     2 : 1, 3 : 1, # rec room\n",
    "                     4 : 2, 5 : 2, 6 : 2 # living quarters\n",
    "                    }, inplace=True)\n",
    "train.BsmtFinType2.replace({1 : 1, # unfinished\n",
    "                     2 : 1, 3 : 1, # rec room\n",
    "                     4 : 2, 5 : 2, 6 : 2 # living quarters\n",
    "                    }, inplace=True)\n",
    "train.BsmtCond.replace({1 : 1, # bad\n",
    "             2 : 1, 3 : 1, # average\n",
    "             4 : 2, 5 : 2 # good\n",
    "            }, inplace=True)\n",
    "train.BsmtQual.replace({1 : 1, # bad\n",
    "             2 : 1, 3 : 1, # average\n",
    "             4 : 2, 5 : 2 # good\n",
    "            }, inplace=True)\n",
    "train.ExterCond.replace({1 : 1, # bad\n",
    "               2 : 1, 3 : 1, # average\n",
    "               4 : 2, 5 : 2 # good\n",
    "              }, inplace=True)\n",
    "train.ExterQual.replace({1 : 1, # bad\n",
    "               2 : 1, 3 : 1, # average\n",
    "               4 : 2, 5 : 2 # good\n",
    "              }, inplace=True)\n",
    "\n",
    "# Has masonry veneer or not\n",
    "train.MasVnrType.replace({\"BrkCmn\" : 1, \"BrkFace\" : 1, \"CBlock\" : 1, \n",
    "                                               \"Stone\" : 1, \"None\" : 0}, inplace=True)\n",
    "\n",
    "\n",
    "# House completed before sale or not\n",
    "train.SaleCondition.replace({\"Abnorml\" : 0, \"Alloca\" : 0, \"AdjLand\" : 0, \n",
    "                                                      \"Family\" : 0, \"Normal\" : 0, \"Partial\" : 1}, inplace=True)"
   ]
  },
  {
   "cell_type": "code",
   "execution_count": 590,
   "metadata": {},
   "outputs": [
    {
     "data": {
      "text/plain": [
       "0    1420\n",
       "1    1268\n",
       "2     219\n",
       "3      11\n",
       "4       1\n",
       "Name: Fireplaces, dtype: int64"
      ]
     },
     "execution_count": 590,
     "metadata": {},
     "output_type": "execute_result"
    }
   ],
   "source": [
    "train[\"Fireplaces\"].value_counts()"
   ]
  },
  {
   "cell_type": "code",
   "execution_count": 591,
   "metadata": {},
   "outputs": [],
   "source": [
    "def comb_cols_add(col1,col2):\n",
    "    train[col1]=train[col1]/train[col1].max() + train[col2]/train[col2].max()\n",
    "    return (train.drop(col2,axis=1))\n",
    "def comb_cols_mul(col1,col2):\n",
    "    train[col2]=train[col1]*train[col2]\n",
    "    return (train)"
   ]
  },
  {
   "cell_type": "code",
   "execution_count": 592,
   "metadata": {},
   "outputs": [],
   "source": [
    "# 2* Combinations of existing features\n",
    "# Overall quality of the house\n",
    "train=comb_cols_add(\"OverallQual\",\"OverallCond\") #normalize ratings\n",
    "train=comb_cols_add(\"ExterQual\",\"ExterCond\")\n",
    "train=comb_cols_add(\"GarageQual\",\"GarageCond\")\n",
    "train.drop([\"FireplaceQu\"], inplace=True, axis=1) #litte difference from Fireplaces\n",
    "train['PoolQC']=train['PoolQC']*train[\"PoolArea\"]\n",
    "train.drop([\"PoolArea\"], inplace=True, axis=1) #litte difference from Pool Quality\n",
    "# Combine area variables\n",
    "train[\"BsmtTotalBath\"] = train[\"BsmtFullBath\"] + (0.5 * train[\"BsmtHalfBath\"]) \n",
    "train[\"TotalBath\"]=train[\"FullBath\"] + (0.5 * train[\"HalfBath\"])\n",
    "train['BsmtFinSF']=train.BsmtFinSF1+train.BsmtFinSF2\n",
    "train.drop(['BsmtFullBath',\"BsmtHalfBath\",\"FullBath\",\"HalfBath\",\"TotalBsmtSF\",\"1stFlrSF\",\"2ndFlrSF\",'BsmtFinSF2','BsmtFinSF1'], axis=1, inplace=True)\n",
    "\n",
    "# Total SF for porch\n",
    "train[\"AllPorchSF\"] = train[\"OpenPorchSF\"] + train[\"EnclosedPorch\"] + \\\n",
    "train[\"3SsnPorch\"] + train[\"ScreenPorch\"]\n",
    "train.drop(['OpenPorchSF',\"EnclosedPorch\",\"3SsnPorch\",\"ScreenPorch\"], axis=1, inplace=True)"
   ]
  },
  {
   "cell_type": "code",
   "execution_count": 593,
   "metadata": {},
   "outputs": [
    {
     "name": "stdout",
     "output_type": "stream",
     "text": [
      "['YearBuilt', 'YearRemodAdd']\n",
      "['GarageYrBlt', 'YrSold']\n"
     ]
    }
   ],
   "source": []
  },
  {
   "cell_type": "code",
   "execution_count": 594,
   "metadata": {},
   "outputs": [
    {
     "name": "stdout",
     "output_type": "stream",
     "text": [
      "Numerical features : 41\n",
      "Categorical features : 24\n",
      "NAs for numerical features in train : 0\n",
      "Remaining NAs for numerical features in train : 0\n"
     ]
    }
   ],
   "source": [
    "categorical_features = train.select_dtypes(include = [\"object\"]).columns\n",
    "numerical_features = train.select_dtypes(exclude = [\"object\"]).columns\n",
    "print(\"Numerical features : \" + str(len(numerical_features)))\n",
    "print(\"Categorical features : \" + str(len(categorical_features)))\n",
    "train_num = train[numerical_features]\n",
    "train_cat = train[categorical_features]\n",
    "print(\"NAs for numerical features in train : \" + str(train_num.isnull().values.sum()))\n",
    "train_num = train_num.fillna(train_num.median())\n",
    "print(\"Remaining NAs for numerical features in train : \" + str(train_num.isnull().values.sum()))"
   ]
  },
  {
   "cell_type": "code",
   "execution_count": 595,
   "metadata": {},
   "outputs": [
    {
     "data": {
      "text/plain": [
       "MSSubClass  BldgType\n",
       "SC120       1Fam           5\n",
       "            Twnhs         15\n",
       "            TwnhsE       162\n",
       "SC150       Twnhs          1\n",
       "SC160       1Fam           1\n",
       "            Twnhs         71\n",
       "            TwnhsE        56\n",
       "SC180       Twnhs          9\n",
       "            TwnhsE         8\n",
       "SC190       1Fam           1\n",
       "            2fmCon        60\n",
       "SC20        1Fam        1077\n",
       "            2fmCon         1\n",
       "            TwnhsE         1\n",
       "SC30        1Fam         139\n",
       "SC40        1Fam           6\n",
       "SC45        1Fam          18\n",
       "SC50        1Fam         287\n",
       "SC60        1Fam         574\n",
       "            2fmCon         1\n",
       "SC70        1Fam         128\n",
       "SC75        1Fam          23\n",
       "SC80        1Fam         118\n",
       "SC85        1Fam          48\n",
       "SC90        Duplex       109\n",
       "dtype: int64"
      ]
     },
     "execution_count": 595,
     "metadata": {},
     "output_type": "execute_result"
    }
   ],
   "source": [
    "train.groupby([\"MSSubClass\",\"BldgType\"]).size() #wait for peter to code up the hierachical grouping for MSSub"
   ]
  },
  {
   "cell_type": "markdown",
   "metadata": {},
   "source": [
    "## Dummy variables"
   ]
  },
  {
   "cell_type": "code",
   "execution_count": 596,
   "metadata": {},
   "outputs": [
    {
     "name": "stderr",
     "output_type": "stream",
     "text": [
      "/Users/zlu15/anaconda3/lib/python3.7/site-packages/pandas/core/frame.py:3940: SettingWithCopyWarning: \n",
      "A value is trying to be set on a copy of a slice from a DataFrame\n",
      "\n",
      "See the caveats in the documentation: http://pandas.pydata.org/pandas-docs/stable/indexing.html#indexing-view-versus-copy\n",
      "  errors=errors)\n"
     ]
    }
   ],
   "source": [
    "# generate dummy variables for categorical variables and numeric variables=0;\n",
    "train_cat.drop(['Exterior2nd','MSSubClass'],axis=1,inplace=True) #Exterior2nd and Exterior1st highly correlated\n",
    "train_cat_dum = pd.get_dummies(train_cat)"
   ]
  },
  {
   "cell_type": "code",
   "execution_count": 597,
   "metadata": {},
   "outputs": [
    {
     "name": "stdout",
     "output_type": "stream",
     "text": [
      "num vars ['BsmtCond', 'BsmtExposure', 'BsmtFinType1', 'BsmtFinType2', 'BsmtQual', 'BsmtUnfSF', 'BsmtTotalBath', 'BsmtFinSF']\n",
      "cat vars []\n",
      "cat var dummies, []\n",
      "num vars ['MasVnrArea', 'MasVnrType']\n",
      "cat vars []\n",
      "cat var dummies, []\n",
      "num vars ['LotArea', 'LotFrontage', 'LotShape']\n",
      "cat vars ['LotConfig']\n",
      "cat var dummies, ['LotConfig_Corner', 'LotConfig_CulDSac', 'LotConfig_FR2', 'LotConfig_FR3', 'LotConfig_Inside']\n",
      "num vars ['PoolQC']\n",
      "cat vars []\n",
      "cat var dummies, []\n",
      "num vars ['GarageArea', 'GarageCars', 'GarageQual', 'GarageYrBlt']\n",
      "cat vars ['GarageFinish', 'GarageType']\n",
      "cat var dummies, ['GarageFinish_Fin', 'GarageFinish_No', 'GarageFinish_RFn', 'GarageFinish_Unf', 'GarageType_2Types', 'GarageType_Attchd', 'GarageType_Basment', 'GarageType_BuiltIn', 'GarageType_CarPort', 'GarageType_Detchd', 'GarageType_No']\n",
      "num vars ['AllPorchSF']\n",
      "cat vars []\n",
      "cat var dummies, []\n",
      "num vars ['WoodDeckSF']\n",
      "cat vars []\n",
      "cat var dummies, []\n",
      "num vars ['KitchenAbvGr', 'KitchenQual']\n",
      "cat vars []\n",
      "cat var dummies, []\n"
     ]
    }
   ],
   "source": [
    "# NA dummies analysis\n",
    "def zero_means_no(s):\n",
    "    cols = [col for col in train_num.columns if s in col]\n",
    "    df=train_num[cols]==0 #akward\n",
    "    if any(df.any())>0:\n",
    "        print('num vars',cols)\n",
    "        cols = [col for col in train_cat.columns if s in col]\n",
    "        print('cat vars',cols)\n",
    "        cols = [col for col in train_cat_dum.columns if s in col]\n",
    "        print('cat var dummies,',cols)\n",
    "for s in ['Bsmt','Mas','Lot','Pool','Garage','Porch','Deck','Kitchen','Exter']:\n",
    "    zero_means_no(s)"
   ]
  },
  {
   "cell_type": "code",
   "execution_count": 598,
   "metadata": {},
   "outputs": [
    {
     "data": {
      "text/plain": [
       "1    1563\n",
       "2    1356\n",
       "Name: KitchenQual, dtype: int64"
      ]
     },
     "execution_count": 598,
     "metadata": {},
     "output_type": "execute_result"
    }
   ],
   "source": [
    "train_clean.KitchenQual.value_counts()"
   ]
  },
  {
   "cell_type": "code",
   "execution_count": 599,
   "metadata": {},
   "outputs": [],
   "source": [
    "for s in ['Bsmt','LotFrontage','Porch','Deck']:\n",
    "    cols = [col for col in train_num.columns if s in col]\n",
    "    train_num[s+'_absent']=0\n",
    "    train_num.loc[train_num[cols].sum(axis=1)==0,s+'_absent']=1"
   ]
  },
  {
   "cell_type": "code",
   "execution_count": 600,
   "metadata": {},
   "outputs": [
    {
     "name": "stdout",
     "output_type": "stream",
     "text": [
      "Number of numerical variables: 45\n",
      "Number of categorical dummies: 162\n",
      "Number of dummies for 0s: 4\n"
     ]
    }
   ],
   "source": [
    "print(\"Number of numerical variables: {}\".format(len(train_num.columns)))\n",
    "print(\"Number of categorical dummies: {}\".format(len(train_cat_dum.columns)))\n",
    "print(\"Number of dummies for 0s: {}\".format(len([col for col in train_num.columns if 'absent' in col])))\n",
    "# Join categorical and numerical features\n",
    "train_small=pd.concat([target_var,train_num, train_cat_dum], axis = 1)\n",
    "# data clean is done. Wrap the above into a .py file"
   ]
  },
  {
   "cell_type": "code",
   "execution_count": 601,
   "metadata": {},
   "outputs": [],
   "source": [
    "# check pair-wise high correlations\n",
    "import copy \n",
    "train_clean=copy.deepcopy(train_num)\n",
    "corr_mat=train_clean.corr()\n",
    "np.fill_diagonal(corr_mat.values, 0)\n",
    "for i, col in enumerate(train_clean.columns.values):\n",
    "    if corr_mat[[col]].abs().sort_values(col,ascending=False).iloc[0,0]>0.9:\n",
    "        print(corr_mat[[col]].abs().sort_values(col,ascending=False).iloc[:2,:])\n",
    "        print(train_clean[col].value_counts()[:5])"
   ]
  },
  {
   "cell_type": "code",
   "execution_count": 602,
   "metadata": {},
   "outputs": [],
   "source": [
    "# explore 0 value for numerical variables\n",
    "# cols=train_num.columns[train_num.apply(lambda x: x==0).sum()>len(target_var)*0.1]\n",
    "# fig, axes = plt.subplots(len(cols),1, figsize=(5,25))\n",
    "# for i in range(len(cols)):\n",
    "#     print(cols[i])\n",
    "#     train_clean[[cols[i]]].hist(ax=axes[i])"
   ]
  },
  {
   "cell_type": "code",
   "execution_count": 603,
   "metadata": {},
   "outputs": [
    {
     "data": {
      "text/html": [
       "<div>\n",
       "<style scoped>\n",
       "    .dataframe tbody tr th:only-of-type {\n",
       "        vertical-align: middle;\n",
       "    }\n",
       "\n",
       "    .dataframe tbody tr th {\n",
       "        vertical-align: top;\n",
       "    }\n",
       "\n",
       "    .dataframe thead th {\n",
       "        text-align: right;\n",
       "    }\n",
       "</style>\n",
       "<table border=\"1\" class=\"dataframe\">\n",
       "  <thead>\n",
       "    <tr style=\"text-align: right;\">\n",
       "      <th></th>\n",
       "      <th>BedroomAbvGr</th>\n",
       "      <th>BsmtCond</th>\n",
       "      <th>BsmtExposure</th>\n",
       "      <th>BsmtFinType1</th>\n",
       "      <th>BsmtFinType2</th>\n",
       "      <th>BsmtQual</th>\n",
       "      <th>BsmtUnfSF</th>\n",
       "      <th>ExterQual</th>\n",
       "      <th>Fireplaces</th>\n",
       "      <th>Functional</th>\n",
       "      <th>...</th>\n",
       "      <th>YearBuilt</th>\n",
       "      <th>YearRemodAdd</th>\n",
       "      <th>BsmtTotalBath</th>\n",
       "      <th>TotalBath</th>\n",
       "      <th>BsmtFinSF</th>\n",
       "      <th>AllPorchSF</th>\n",
       "      <th>Bsmt_absent</th>\n",
       "      <th>LotFrontage_absent</th>\n",
       "      <th>Porch_absent</th>\n",
       "      <th>Deck_absent</th>\n",
       "    </tr>\n",
       "  </thead>\n",
       "  <tbody>\n",
       "    <tr>\n",
       "      <th>count</th>\n",
       "      <td>2919.000000</td>\n",
       "      <td>2919.000000</td>\n",
       "      <td>2919.000000</td>\n",
       "      <td>2919.000000</td>\n",
       "      <td>2919.000000</td>\n",
       "      <td>2919.00000</td>\n",
       "      <td>2919.000000</td>\n",
       "      <td>2919.000000</td>\n",
       "      <td>2919.000000</td>\n",
       "      <td>2919.000000</td>\n",
       "      <td>...</td>\n",
       "      <td>2919.000000</td>\n",
       "      <td>2919.000000</td>\n",
       "      <td>2919.000000</td>\n",
       "      <td>2919.000000</td>\n",
       "      <td>2919.000000</td>\n",
       "      <td>2919.000000</td>\n",
       "      <td>2919.000000</td>\n",
       "      <td>2919.000000</td>\n",
       "      <td>2919.000000</td>\n",
       "      <td>2919.000000</td>\n",
       "    </tr>\n",
       "    <tr>\n",
       "      <th>mean</th>\n",
       "      <td>2.860226</td>\n",
       "      <td>1.013703</td>\n",
       "      <td>0.651936</td>\n",
       "      <td>1.502912</td>\n",
       "      <td>1.025351</td>\n",
       "      <td>1.47482</td>\n",
       "      <td>560.579993</td>\n",
       "      <td>1.239294</td>\n",
       "      <td>0.597122</td>\n",
       "      <td>3.920521</td>\n",
       "      <td>...</td>\n",
       "      <td>36.479959</td>\n",
       "      <td>23.528263</td>\n",
       "      <td>0.460260</td>\n",
       "      <td>1.758136</td>\n",
       "      <td>490.837273</td>\n",
       "      <td>89.249743</td>\n",
       "      <td>0.027064</td>\n",
       "      <td>0.166495</td>\n",
       "      <td>0.299075</td>\n",
       "      <td>0.521754</td>\n",
       "    </tr>\n",
       "    <tr>\n",
       "      <th>std</th>\n",
       "      <td>0.822693</td>\n",
       "      <td>0.264051</td>\n",
       "      <td>1.039713</td>\n",
       "      <td>0.551565</td>\n",
       "      <td>0.282044</td>\n",
       "      <td>0.55224</td>\n",
       "      <td>439.590889</td>\n",
       "      <td>0.277128</td>\n",
       "      <td>0.646129</td>\n",
       "      <td>0.310630</td>\n",
       "      <td>...</td>\n",
       "      <td>30.336182</td>\n",
       "      <td>20.892061</td>\n",
       "      <td>0.520778</td>\n",
       "      <td>0.642680</td>\n",
       "      <td>477.209821</td>\n",
       "      <td>107.902805</td>\n",
       "      <td>0.162298</td>\n",
       "      <td>0.372589</td>\n",
       "      <td>0.457931</td>\n",
       "      <td>0.499612</td>\n",
       "    </tr>\n",
       "    <tr>\n",
       "      <th>min</th>\n",
       "      <td>0.000000</td>\n",
       "      <td>0.000000</td>\n",
       "      <td>0.000000</td>\n",
       "      <td>0.000000</td>\n",
       "      <td>0.000000</td>\n",
       "      <td>0.00000</td>\n",
       "      <td>0.000000</td>\n",
       "      <td>1.000000</td>\n",
       "      <td>0.000000</td>\n",
       "      <td>1.000000</td>\n",
       "      <td>...</td>\n",
       "      <td>-1.000000</td>\n",
       "      <td>-2.000000</td>\n",
       "      <td>0.000000</td>\n",
       "      <td>0.000000</td>\n",
       "      <td>0.000000</td>\n",
       "      <td>0.000000</td>\n",
       "      <td>0.000000</td>\n",
       "      <td>0.000000</td>\n",
       "      <td>0.000000</td>\n",
       "      <td>0.000000</td>\n",
       "    </tr>\n",
       "    <tr>\n",
       "      <th>25%</th>\n",
       "      <td>2.000000</td>\n",
       "      <td>1.000000</td>\n",
       "      <td>0.000000</td>\n",
       "      <td>1.000000</td>\n",
       "      <td>1.000000</td>\n",
       "      <td>1.00000</td>\n",
       "      <td>220.000000</td>\n",
       "      <td>1.000000</td>\n",
       "      <td>0.000000</td>\n",
       "      <td>4.000000</td>\n",
       "      <td>...</td>\n",
       "      <td>7.000000</td>\n",
       "      <td>4.000000</td>\n",
       "      <td>0.000000</td>\n",
       "      <td>1.000000</td>\n",
       "      <td>0.000000</td>\n",
       "      <td>0.000000</td>\n",
       "      <td>0.000000</td>\n",
       "      <td>0.000000</td>\n",
       "      <td>0.000000</td>\n",
       "      <td>0.000000</td>\n",
       "    </tr>\n",
       "    <tr>\n",
       "      <th>50%</th>\n",
       "      <td>3.000000</td>\n",
       "      <td>1.000000</td>\n",
       "      <td>0.000000</td>\n",
       "      <td>2.000000</td>\n",
       "      <td>1.000000</td>\n",
       "      <td>2.00000</td>\n",
       "      <td>467.000000</td>\n",
       "      <td>1.000000</td>\n",
       "      <td>1.000000</td>\n",
       "      <td>4.000000</td>\n",
       "      <td>...</td>\n",
       "      <td>35.000000</td>\n",
       "      <td>15.000000</td>\n",
       "      <td>0.000000</td>\n",
       "      <td>2.000000</td>\n",
       "      <td>457.000000</td>\n",
       "      <td>50.000000</td>\n",
       "      <td>0.000000</td>\n",
       "      <td>0.000000</td>\n",
       "      <td>0.000000</td>\n",
       "      <td>1.000000</td>\n",
       "    </tr>\n",
       "    <tr>\n",
       "      <th>75%</th>\n",
       "      <td>3.000000</td>\n",
       "      <td>1.000000</td>\n",
       "      <td>1.000000</td>\n",
       "      <td>2.000000</td>\n",
       "      <td>1.000000</td>\n",
       "      <td>2.00000</td>\n",
       "      <td>805.000000</td>\n",
       "      <td>1.500000</td>\n",
       "      <td>1.000000</td>\n",
       "      <td>4.000000</td>\n",
       "      <td>...</td>\n",
       "      <td>54.500000</td>\n",
       "      <td>43.000000</td>\n",
       "      <td>1.000000</td>\n",
       "      <td>2.500000</td>\n",
       "      <td>805.500000</td>\n",
       "      <td>136.000000</td>\n",
       "      <td>0.000000</td>\n",
       "      <td>0.000000</td>\n",
       "      <td>1.000000</td>\n",
       "      <td>1.000000</td>\n",
       "    </tr>\n",
       "    <tr>\n",
       "      <th>max</th>\n",
       "      <td>8.000000</td>\n",
       "      <td>2.000000</td>\n",
       "      <td>3.000000</td>\n",
       "      <td>2.000000</td>\n",
       "      <td>2.000000</td>\n",
       "      <td>2.00000</td>\n",
       "      <td>2336.000000</td>\n",
       "      <td>2.000000</td>\n",
       "      <td>4.000000</td>\n",
       "      <td>4.000000</td>\n",
       "      <td>...</td>\n",
       "      <td>136.000000</td>\n",
       "      <td>60.000000</td>\n",
       "      <td>3.000000</td>\n",
       "      <td>5.000000</td>\n",
       "      <td>5644.000000</td>\n",
       "      <td>1207.000000</td>\n",
       "      <td>1.000000</td>\n",
       "      <td>1.000000</td>\n",
       "      <td>1.000000</td>\n",
       "      <td>1.000000</td>\n",
       "    </tr>\n",
       "  </tbody>\n",
       "</table>\n",
       "<p>8 rows × 45 columns</p>\n",
       "</div>"
      ],
      "text/plain": [
       "       BedroomAbvGr     BsmtCond  BsmtExposure  BsmtFinType1  BsmtFinType2  \\\n",
       "count   2919.000000  2919.000000   2919.000000   2919.000000   2919.000000   \n",
       "mean       2.860226     1.013703      0.651936      1.502912      1.025351   \n",
       "std        0.822693     0.264051      1.039713      0.551565      0.282044   \n",
       "min        0.000000     0.000000      0.000000      0.000000      0.000000   \n",
       "25%        2.000000     1.000000      0.000000      1.000000      1.000000   \n",
       "50%        3.000000     1.000000      0.000000      2.000000      1.000000   \n",
       "75%        3.000000     1.000000      1.000000      2.000000      1.000000   \n",
       "max        8.000000     2.000000      3.000000      2.000000      2.000000   \n",
       "\n",
       "         BsmtQual    BsmtUnfSF    ExterQual   Fireplaces   Functional  ...  \\\n",
       "count  2919.00000  2919.000000  2919.000000  2919.000000  2919.000000  ...   \n",
       "mean      1.47482   560.579993     1.239294     0.597122     3.920521  ...   \n",
       "std       0.55224   439.590889     0.277128     0.646129     0.310630  ...   \n",
       "min       0.00000     0.000000     1.000000     0.000000     1.000000  ...   \n",
       "25%       1.00000   220.000000     1.000000     0.000000     4.000000  ...   \n",
       "50%       2.00000   467.000000     1.000000     1.000000     4.000000  ...   \n",
       "75%       2.00000   805.000000     1.500000     1.000000     4.000000  ...   \n",
       "max       2.00000  2336.000000     2.000000     4.000000     4.000000  ...   \n",
       "\n",
       "         YearBuilt  YearRemodAdd  BsmtTotalBath    TotalBath    BsmtFinSF  \\\n",
       "count  2919.000000   2919.000000    2919.000000  2919.000000  2919.000000   \n",
       "mean     36.479959     23.528263       0.460260     1.758136   490.837273   \n",
       "std      30.336182     20.892061       0.520778     0.642680   477.209821   \n",
       "min      -1.000000     -2.000000       0.000000     0.000000     0.000000   \n",
       "25%       7.000000      4.000000       0.000000     1.000000     0.000000   \n",
       "50%      35.000000     15.000000       0.000000     2.000000   457.000000   \n",
       "75%      54.500000     43.000000       1.000000     2.500000   805.500000   \n",
       "max     136.000000     60.000000       3.000000     5.000000  5644.000000   \n",
       "\n",
       "        AllPorchSF  Bsmt_absent  LotFrontage_absent  Porch_absent  Deck_absent  \n",
       "count  2919.000000  2919.000000         2919.000000   2919.000000  2919.000000  \n",
       "mean     89.249743     0.027064            0.166495      0.299075     0.521754  \n",
       "std     107.902805     0.162298            0.372589      0.457931     0.499612  \n",
       "min       0.000000     0.000000            0.000000      0.000000     0.000000  \n",
       "25%       0.000000     0.000000            0.000000      0.000000     0.000000  \n",
       "50%      50.000000     0.000000            0.000000      0.000000     1.000000  \n",
       "75%     136.000000     0.000000            0.000000      1.000000     1.000000  \n",
       "max    1207.000000     1.000000            1.000000      1.000000     1.000000  \n",
       "\n",
       "[8 rows x 45 columns]"
      ]
     },
     "execution_count": 603,
     "metadata": {},
     "output_type": "execute_result"
    }
   ],
   "source": [
    "train_clean.describe()"
   ]
  },
  {
   "cell_type": "code",
   "execution_count": 604,
   "metadata": {},
   "outputs": [
    {
     "name": "stdout",
     "output_type": "stream",
     "text": [
      "['Alley_2', 'BldgType_2fmCon', 'CentralAir_N', 'Condition1_Norm', 'Condition2_Norm', 'Electrical_SBrkr', 'Exterior1st_Wd Sdng', 'Fence_No', 'Foundation_BrkTil', 'GarageFinish_Unf', 'GarageType_Detchd', 'Heating_GasA', 'HouseStyle_1.5Fin', 'LandContour_Lvl', 'LotConfig_Inside', 'MSZoning_RM', 'MiscFeature_No', 'MoSold_Apr', 'Neighborhood_OldTown', 'RoofMatl_CompShg', 'RoofStyle_Gable', 'SaleType_WD']\n"
     ]
    }
   ],
   "source": [
    "# set the dummy associated with  duplicated dummies;\n",
    "df_agg = pd.concat([target_var, train_cat.loc[train.Id<=idsTotal,:]], axis = 1).sort_values('SalePrice')\n",
    "drop_list=[]\n",
    "for i, col in enumerate(df_agg.columns[1:]):\n",
    "    s=df_agg.iloc[round(len(df_agg.SalePrice)/2),i+1]\n",
    "    drop_list.append(col+'_'+str(s))\n",
    "print(drop_list)"
   ]
  },
  {
   "cell_type": "code",
   "execution_count": 605,
   "metadata": {},
   "outputs": [],
   "source": [
    "train_clean=train_small.drop(drop_list,axis=1)"
   ]
  },
  {
   "cell_type": "code",
   "execution_count": 606,
   "metadata": {},
   "outputs": [
    {
     "name": "stdout",
     "output_type": "stream",
     "text": [
      "                 GarageQual\n",
      "GarageFinish_No    0.952651\n",
      "GarageType_No      0.946298\n",
      "              SaleCondition\n",
      "SaleType_New       0.986573\n",
      "SalePrice          0.352060\n",
      "               GarageFinish_No\n",
      "GarageType_No         0.993331\n",
      "GarageQual            0.952651\n",
      "                 GarageType_No\n",
      "GarageFinish_No       0.993331\n",
      "GarageQual            0.946298\n",
      "               SaleType_New\n",
      "SaleCondition      0.986573\n",
      "SalePrice          0.357509\n"
     ]
    }
   ],
   "source": [
    "# check pair-wise high correlations\n",
    "import copy \n",
    "corr_mat=train_clean.corr()\n",
    "np.fill_diagonal(corr_mat.values, 0)\n",
    "for i, col in enumerate(train_clean.columns.values):\n",
    "    if corr_mat[[col]].abs().sort_values(col,ascending=False).iloc[0,0]>0.9:\n",
    "        print(corr_mat[[col]].abs().sort_values(col,ascending=False).iloc[:2,:])"
   ]
  },
  {
   "cell_type": "code",
   "execution_count": 608,
   "metadata": {},
   "outputs": [],
   "source": [
    "train_clean.drop(['GarageFinish_No','SaleType_New'],axis=1,inplace=True) # highly similar to SaleCondition"
   ]
  },
  {
   "cell_type": "code",
   "execution_count": 609,
   "metadata": {},
   "outputs": [],
   "source": [
    "# check high R2 variables; all have been addressed by the feature engineering above\n",
    "from sklearn import linear_model\n",
    "ols = linear_model.LinearRegression()\n",
    "df=train_clean.drop(['SalePrice'],axis=1)\n",
    "for i, col in enumerate(df.columns.values):\n",
    "    x=df.iloc[:,df.columns!=col]\n",
    "    y=df.iloc[:,i]\n",
    "    ols.fit(x, y)   #### X needs to be 2-D array; X.reshape(-1,1) to shape 1-D array; x = df[[\"col1\"]]\n",
    "    if ols.score(x, y)>0.95:\n",
    "        print(col+' R^2: %.2f' % ols.score(x, y)) ## score: the R^2 of the fitted model"
   ]
  },
  {
   "cell_type": "code",
   "execution_count": 531,
   "metadata": {},
   "outputs": [],
   "source": [
    "# # check high R2 variables\n",
    "# import statsmodels.api as sm\n",
    "# col='MiscFeature_Gar2'\n",
    "# X=train_clean.iloc[:,train_clean.columns!=col]\n",
    "# Y=train_clean[col]\n",
    "# X_add_const = sm.add_constant(X) #now you need to add a constant to X\n",
    "# ols = sm.OLS(Y, X_add_const)\n",
    "# ans = ols.fit()\n",
    "# print(ans.summary())\n",
    "\n",
    "# # check pair-wise high correlations\n",
    "# train_clean=copy.deepcopy(train_test)\n",
    "# corr_mat=train_clean.corr()\n",
    "# np.fill_diagonal(corr_mat.values, 0)\n",
    "# for i, col in enumerate(train_clean.columns.values):\n",
    "#     if corr_mat[[col]].abs().sort_values(col,ascending=False).iloc[0,0]>0.9:\n",
    "#         print(col,corr_mat[[col]].abs().sort_values(col,ascending=False).iloc[:2,:])"
   ]
  },
  {
   "cell_type": "markdown",
   "metadata": {},
   "source": [
    "## Cleaner output dataset"
   ]
  },
  {
   "cell_type": "code",
   "execution_count": 610,
   "metadata": {},
   "outputs": [
    {
     "name": "stdout",
     "output_type": "stream",
     "text": [
      "Number of variables: 184\n"
     ]
    }
   ],
   "source": [
    "# generate dummy variables for categorical variables and numeric variables=0;\n",
    "print(\"Number of variables: {}\".format(len(train_clean.columns)))\n",
    "# Join categorical and numerical features\n",
    "train_clean.to_csv('clean_dataset.csv',index=False)"
   ]
  },
  {
   "cell_type": "code",
   "execution_count": null,
   "metadata": {},
   "outputs": [],
   "source": []
  },
  {
   "cell_type": "code",
   "execution_count": 612,
   "metadata": {},
   "outputs": [
    {
     "data": {
      "text/plain": [
       "(2919, 184)"
      ]
     },
     "execution_count": 612,
     "metadata": {},
     "output_type": "execute_result"
    }
   ],
   "source": [
    "np.shape(train_clean.T.drop_duplicates().T) #verify no duplicated columns"
   ]
  },
  {
   "cell_type": "markdown",
   "metadata": {},
   "source": [
    "## Model\n",
    "### Q1. More or fewer features?\n",
    "### Q2. Lasso vs. Boosted Regression Trees\n",
    "### Q3. Outliers matters?\n",
    "### Q4. Even simpler models?\n",
    "### Q5. Refleciton on the specification for the target variable, log or not"
   ]
  },
  {
   "cell_type": "code",
   "execution_count": 1036,
   "metadata": {},
   "outputs": [],
   "source": [
    "# full variable version\n",
    "train = pd.read_csv('final_dataset.csv')"
   ]
  },
  {
   "cell_type": "code",
   "execution_count": 1013,
   "metadata": {},
   "outputs": [],
   "source": [
    "# small set version\n",
    "train = pd.read_csv('clean_dataset.csv')"
   ]
  },
  {
   "cell_type": "code",
   "execution_count": 1037,
   "metadata": {},
   "outputs": [],
   "source": [
    "# test_final set\n",
    "test_final=train.loc[train.Id>idsTotal,:].drop(['SalePrice','Id'],axis=1)\n",
    "train=train.loc[train.Id<=idsTotal,:]\n",
    "y=train.SalePrice #log or not log; choice 1\n",
    "train=train.drop(['SalePrice','Id'],axis=1)"
   ]
  },
  {
   "cell_type": "code",
   "execution_count": 1038,
   "metadata": {},
   "outputs": [
    {
     "data": {
      "text/plain": [
       "Series([], dtype: float64)"
      ]
     },
     "execution_count": 1038,
     "metadata": {},
     "output_type": "execute_result"
    }
   ],
   "source": [
    "# make sure target variable is not in the Xs\n",
    "cor=train.apply(lambda x: x.corr(y,method='spearman'))\n",
    "cor[abs(cor)>0.95]"
   ]
  },
  {
   "cell_type": "code",
   "execution_count": 1039,
   "metadata": {},
   "outputs": [
    {
     "name": "stdout",
     "output_type": "stream",
     "text": [
      "['1stFlrSF', '2ndFlrSF', 'BsmtFinSF1', 'BsmtFinSF2', 'BsmtUnfSF', 'LowQualFinSF', 'OpenPorchSF', 'TotalBsmtSF', 'WoodDeckSF', '2ndFlrSF_absent', 'BsmtFinSF1_absent', 'BsmtFinSF2_absent', 'BsmtUnfSF_absent', 'LowQualFinSF_absent', 'OpenPorchSF_absent', 'TotalBsmtSF_absent', 'WoodDeckSF_absent']\n",
      "['GarageArea', 'GrLivArea', 'LotArea', 'MasVnrArea', 'PoolArea', 'GarageArea_absent', 'MasVnrArea_absent', 'PoolArea_absent']\n"
     ]
    }
   ],
   "source": [
    "# # to model logPrice, we have to log area variables;\n",
    "# Until we answer Q5, this specification is really just for convenience\n",
    "for s in ['SF','Area']:\n",
    "    cols=[col for col in train.columns if s in col and 'SFoyer' not in col]\n",
    "    print(cols)\n",
    "    for col in cols:\n",
    "        train[col]=np.log1p(train[col])\n",
    "        test_final[col]=np.log1p(test_final[col])\n",
    "y=np.log1p(y)"
   ]
  },
  {
   "cell_type": "code",
   "execution_count": 1040,
   "metadata": {},
   "outputs": [
    {
     "data": {
      "text/plain": [
       "<matplotlib.axes._subplots.AxesSubplot at 0x1c3552f0f0>"
      ]
     },
     "execution_count": 1040,
     "metadata": {},
     "output_type": "execute_result"
    },
    {
     "data": {
      "image/png": "[encoded data removed]",
      "text/plain": [
       "<Figure size 432x288 with 1 Axes>"
      ]
     },
     "metadata": {
      "needs_background": "light"
     },
     "output_type": "display_data"
    }
   ],
   "source": [
    "sns.distplot(y)"
   ]
  },
  {
   "cell_type": "code",
   "execution_count": 1041,
   "metadata": {},
   "outputs": [
    {
     "data": {
      "text/html": [
       "<div>\n",
       "<style scoped>\n",
       "    .dataframe tbody tr th:only-of-type {\n",
       "        vertical-align: middle;\n",
       "    }\n",
       "\n",
       "    .dataframe tbody tr th {\n",
       "        vertical-align: top;\n",
       "    }\n",
       "\n",
       "    .dataframe thead th {\n",
       "        text-align: right;\n",
       "    }\n",
       "</style>\n",
       "<table border=\"1\" class=\"dataframe\">\n",
       "  <thead>\n",
       "    <tr style=\"text-align: right;\">\n",
       "      <th></th>\n",
       "      <th>1stFlrSF</th>\n",
       "      <th>2ndFlrSF</th>\n",
       "      <th>3SsnPorch</th>\n",
       "      <th>BedroomAbvGr</th>\n",
       "      <th>BsmtFinSF1</th>\n",
       "      <th>BsmtFinSF2</th>\n",
       "      <th>BsmtFullBath</th>\n",
       "      <th>BsmtHalfBath</th>\n",
       "      <th>BsmtUnfSF</th>\n",
       "      <th>EnclosedPorch</th>\n",
       "      <th>...</th>\n",
       "      <th>KitchenAbvGr_absent</th>\n",
       "      <th>LotFrontage_absent</th>\n",
       "      <th>LowQualFinSF_absent</th>\n",
       "      <th>MasVnrArea_absent</th>\n",
       "      <th>MiscVal_absent</th>\n",
       "      <th>OpenPorchSF_absent</th>\n",
       "      <th>PoolArea_absent</th>\n",
       "      <th>ScreenPorch_absent</th>\n",
       "      <th>TotalBsmtSF_absent</th>\n",
       "      <th>WoodDeckSF_absent</th>\n",
       "    </tr>\n",
       "  </thead>\n",
       "  <tbody>\n",
       "    <tr>\n",
       "      <th>count</th>\n",
       "      <td>1460.000000</td>\n",
       "      <td>1460.000000</td>\n",
       "      <td>1460.000000</td>\n",
       "      <td>1460.000000</td>\n",
       "      <td>1460.000000</td>\n",
       "      <td>1460.000000</td>\n",
       "      <td>1460.000000</td>\n",
       "      <td>1460.000000</td>\n",
       "      <td>1460.000000</td>\n",
       "      <td>1460.000000</td>\n",
       "      <td>...</td>\n",
       "      <td>1460.000000</td>\n",
       "      <td>1460.000000</td>\n",
       "      <td>1460.000000</td>\n",
       "      <td>1460.000000</td>\n",
       "      <td>1460.000000</td>\n",
       "      <td>1460.000000</td>\n",
       "      <td>1460.000000</td>\n",
       "      <td>1460.000000</td>\n",
       "      <td>1460.000000</td>\n",
       "      <td>1460.000000</td>\n",
       "    </tr>\n",
       "    <tr>\n",
       "      <th>mean</th>\n",
       "      <td>7.008452</td>\n",
       "      <td>2.864586</td>\n",
       "      <td>3.409589</td>\n",
       "      <td>2.866438</td>\n",
       "      <td>4.229731</td>\n",
       "      <td>0.655398</td>\n",
       "      <td>0.425342</td>\n",
       "      <td>0.057534</td>\n",
       "      <td>5.648378</td>\n",
       "      <td>21.954110</td>\n",
       "      <td>...</td>\n",
       "      <td>0.000685</td>\n",
       "      <td>0.177397</td>\n",
       "      <td>0.680803</td>\n",
       "      <td>0.412565</td>\n",
       "      <td>0.964384</td>\n",
       "      <td>0.311441</td>\n",
       "      <td>0.689824</td>\n",
       "      <td>0.920548</td>\n",
       "      <td>0.017566</td>\n",
       "      <td>0.361291</td>\n",
       "    </tr>\n",
       "    <tr>\n",
       "      <th>std</th>\n",
       "      <td>0.317431</td>\n",
       "      <td>3.293311</td>\n",
       "      <td>29.317331</td>\n",
       "      <td>0.815778</td>\n",
       "      <td>2.992052</td>\n",
       "      <td>1.845045</td>\n",
       "      <td>0.518911</td>\n",
       "      <td>0.238753</td>\n",
       "      <td>1.854020</td>\n",
       "      <td>61.119149</td>\n",
       "      <td>...</td>\n",
       "      <td>0.026171</td>\n",
       "      <td>0.382135</td>\n",
       "      <td>0.091703</td>\n",
       "      <td>0.340349</td>\n",
       "      <td>0.185395</td>\n",
       "      <td>0.344906</td>\n",
       "      <td>0.047896</td>\n",
       "      <td>0.270536</td>\n",
       "      <td>0.108974</td>\n",
       "      <td>0.346380</td>\n",
       "    </tr>\n",
       "    <tr>\n",
       "      <th>min</th>\n",
       "      <td>5.814131</td>\n",
       "      <td>0.000000</td>\n",
       "      <td>0.000000</td>\n",
       "      <td>0.000000</td>\n",
       "      <td>0.000000</td>\n",
       "      <td>0.000000</td>\n",
       "      <td>0.000000</td>\n",
       "      <td>0.000000</td>\n",
       "      <td>0.000000</td>\n",
       "      <td>0.000000</td>\n",
       "      <td>...</td>\n",
       "      <td>0.000000</td>\n",
       "      <td>0.000000</td>\n",
       "      <td>0.000000</td>\n",
       "      <td>0.000000</td>\n",
       "      <td>0.000000</td>\n",
       "      <td>0.000000</td>\n",
       "      <td>0.000000</td>\n",
       "      <td>0.000000</td>\n",
       "      <td>0.000000</td>\n",
       "      <td>0.000000</td>\n",
       "    </tr>\n",
       "    <tr>\n",
       "      <th>25%</th>\n",
       "      <td>6.783325</td>\n",
       "      <td>0.000000</td>\n",
       "      <td>0.000000</td>\n",
       "      <td>2.000000</td>\n",
       "      <td>0.000000</td>\n",
       "      <td>0.000000</td>\n",
       "      <td>0.000000</td>\n",
       "      <td>0.000000</td>\n",
       "      <td>5.411646</td>\n",
       "      <td>0.000000</td>\n",
       "      <td>...</td>\n",
       "      <td>0.000000</td>\n",
       "      <td>0.000000</td>\n",
       "      <td>0.693147</td>\n",
       "      <td>0.000000</td>\n",
       "      <td>1.000000</td>\n",
       "      <td>0.000000</td>\n",
       "      <td>0.693147</td>\n",
       "      <td>1.000000</td>\n",
       "      <td>0.000000</td>\n",
       "      <td>0.000000</td>\n",
       "    </tr>\n",
       "    <tr>\n",
       "      <th>50%</th>\n",
       "      <td>6.992096</td>\n",
       "      <td>0.000000</td>\n",
       "      <td>0.000000</td>\n",
       "      <td>3.000000</td>\n",
       "      <td>5.951943</td>\n",
       "      <td>0.000000</td>\n",
       "      <td>0.000000</td>\n",
       "      <td>0.000000</td>\n",
       "      <td>6.170651</td>\n",
       "      <td>0.000000</td>\n",
       "      <td>...</td>\n",
       "      <td>0.000000</td>\n",
       "      <td>0.000000</td>\n",
       "      <td>0.693147</td>\n",
       "      <td>0.693147</td>\n",
       "      <td>1.000000</td>\n",
       "      <td>0.000000</td>\n",
       "      <td>0.693147</td>\n",
       "      <td>1.000000</td>\n",
       "      <td>0.000000</td>\n",
       "      <td>0.693147</td>\n",
       "    </tr>\n",
       "    <tr>\n",
       "      <th>75%</th>\n",
       "      <td>7.238676</td>\n",
       "      <td>6.591674</td>\n",
       "      <td>0.000000</td>\n",
       "      <td>3.000000</td>\n",
       "      <td>6.569832</td>\n",
       "      <td>0.000000</td>\n",
       "      <td>1.000000</td>\n",
       "      <td>0.000000</td>\n",
       "      <td>6.695799</td>\n",
       "      <td>0.000000</td>\n",
       "      <td>...</td>\n",
       "      <td>0.000000</td>\n",
       "      <td>0.000000</td>\n",
       "      <td>0.693147</td>\n",
       "      <td>0.693147</td>\n",
       "      <td>1.000000</td>\n",
       "      <td>0.693147</td>\n",
       "      <td>0.693147</td>\n",
       "      <td>1.000000</td>\n",
       "      <td>0.000000</td>\n",
       "      <td>0.693147</td>\n",
       "    </tr>\n",
       "    <tr>\n",
       "      <th>max</th>\n",
       "      <td>8.453827</td>\n",
       "      <td>7.633370</td>\n",
       "      <td>508.000000</td>\n",
       "      <td>8.000000</td>\n",
       "      <td>8.638525</td>\n",
       "      <td>7.296413</td>\n",
       "      <td>3.000000</td>\n",
       "      <td>2.000000</td>\n",
       "      <td>7.756623</td>\n",
       "      <td>552.000000</td>\n",
       "      <td>...</td>\n",
       "      <td>1.000000</td>\n",
       "      <td>1.000000</td>\n",
       "      <td>0.693147</td>\n",
       "      <td>0.693147</td>\n",
       "      <td>1.000000</td>\n",
       "      <td>0.693147</td>\n",
       "      <td>0.693147</td>\n",
       "      <td>1.000000</td>\n",
       "      <td>0.693147</td>\n",
       "      <td>0.693147</td>\n",
       "    </tr>\n",
       "  </tbody>\n",
       "</table>\n",
       "<p>8 rows × 351 columns</p>\n",
       "</div>"
      ],
      "text/plain": [
       "          1stFlrSF     2ndFlrSF    3SsnPorch  BedroomAbvGr   BsmtFinSF1  \\\n",
       "count  1460.000000  1460.000000  1460.000000   1460.000000  1460.000000   \n",
       "mean      7.008452     2.864586     3.409589      2.866438     4.229731   \n",
       "std       0.317431     3.293311    29.317331      0.815778     2.992052   \n",
       "min       5.814131     0.000000     0.000000      0.000000     0.000000   \n",
       "25%       6.783325     0.000000     0.000000      2.000000     0.000000   \n",
       "50%       6.992096     0.000000     0.000000      3.000000     5.951943   \n",
       "75%       7.238676     6.591674     0.000000      3.000000     6.569832   \n",
       "max       8.453827     7.633370   508.000000      8.000000     8.638525   \n",
       "\n",
       "        BsmtFinSF2  BsmtFullBath  BsmtHalfBath    BsmtUnfSF  EnclosedPorch  \\\n",
       "count  1460.000000   1460.000000   1460.000000  1460.000000    1460.000000   \n",
       "mean      0.655398      0.425342      0.057534     5.648378      21.954110   \n",
       "std       1.845045      0.518911      0.238753     1.854020      61.119149   \n",
       "min       0.000000      0.000000      0.000000     0.000000       0.000000   \n",
       "25%       0.000000      0.000000      0.000000     5.411646       0.000000   \n",
       "50%       0.000000      0.000000      0.000000     6.170651       0.000000   \n",
       "75%       0.000000      1.000000      0.000000     6.695799       0.000000   \n",
       "max       7.296413      3.000000      2.000000     7.756623     552.000000   \n",
       "\n",
       "       ...  KitchenAbvGr_absent  LotFrontage_absent  LowQualFinSF_absent  \\\n",
       "count  ...          1460.000000         1460.000000          1460.000000   \n",
       "mean   ...             0.000685            0.177397             0.680803   \n",
       "std    ...             0.026171            0.382135             0.091703   \n",
       "min    ...             0.000000            0.000000             0.000000   \n",
       "25%    ...             0.000000            0.000000             0.693147   \n",
       "50%    ...             0.000000            0.000000             0.693147   \n",
       "75%    ...             0.000000            0.000000             0.693147   \n",
       "max    ...             1.000000            1.000000             0.693147   \n",
       "\n",
       "       MasVnrArea_absent  MiscVal_absent  OpenPorchSF_absent  PoolArea_absent  \\\n",
       "count        1460.000000     1460.000000         1460.000000      1460.000000   \n",
       "mean            0.412565        0.964384            0.311441         0.689824   \n",
       "std             0.340349        0.185395            0.344906         0.047896   \n",
       "min             0.000000        0.000000            0.000000         0.000000   \n",
       "25%             0.000000        1.000000            0.000000         0.693147   \n",
       "50%             0.693147        1.000000            0.000000         0.693147   \n",
       "75%             0.693147        1.000000            0.693147         0.693147   \n",
       "max             0.693147        1.000000            0.693147         0.693147   \n",
       "\n",
       "       ScreenPorch_absent  TotalBsmtSF_absent  WoodDeckSF_absent  \n",
       "count         1460.000000         1460.000000        1460.000000  \n",
       "mean             0.920548            0.017566           0.361291  \n",
       "std              0.270536            0.108974           0.346380  \n",
       "min              0.000000            0.000000           0.000000  \n",
       "25%              1.000000            0.000000           0.000000  \n",
       "50%              1.000000            0.000000           0.693147  \n",
       "75%              1.000000            0.000000           0.693147  \n",
       "max              1.000000            0.693147           0.693147  \n",
       "\n",
       "[8 rows x 351 columns]"
      ]
     },
     "execution_count": 1041,
     "metadata": {},
     "output_type": "execute_result"
    }
   ],
   "source": [
    "train.describe()"
   ]
  },
  {
   "cell_type": "code",
   "execution_count": 1042,
   "metadata": {},
   "outputs": [
    {
     "name": "stdout",
     "output_type": "stream",
     "text": [
      "Training Sample : (1460, 351)\n"
     ]
    }
   ],
   "source": [
    "print(\"Training Sample : \" + str(train.shape))"
   ]
  },
  {
   "cell_type": "code",
   "execution_count": null,
   "metadata": {},
   "outputs": [],
   "source": []
  },
  {
   "cell_type": "markdown",
   "metadata": {},
   "source": [
    "## benchmark models"
   ]
  },
  {
   "cell_type": "code",
   "execution_count": 1043,
   "metadata": {},
   "outputs": [
    {
     "name": "stdout",
     "output_type": "stream",
     "text": [
      "Best lambda for LASSO = 0.003751794958357854\n",
      "Score for LASSO = 0.935612285319018\n"
     ]
    }
   ],
   "source": [
    "stdSc = StandardScaler()\n",
    "X=stdSc.fit_transform(train)\n",
    "lassocv = LassoCV(n_alphas=100,cv=5,max_iter=3000)\n",
    "lassocv.fit(X,y)\n",
    "print('Best lambda for LASSO = {}'.format(lassocv.alpha_))\n",
    "print('Score for LASSO = {}'.format(lassocv.score(X,y)))\n",
    "best_lambda=lassocv.alpha_\n"
   ]
  },
  {
   "cell_type": "code",
   "execution_count": 1048,
   "metadata": {},
   "outputs": [],
   "source": [
    "# CV for the best hyperparameter\n",
    "def lasy():\n",
    "    lasso=Lasso(max_iter=5000)\n",
    "    tuned_parameters = [{'alpha': best_lambda*np.append(np.logspace(-2,2,30),1)}]\n",
    "    lassocv = GridSearchCV(lasso, tuned_parameters, cv=5, scoring=None)\n",
    "    lassocv.fit(X, y)\n",
    "    print('Best pars for LASSO = {} Default Scoring'.format(lassocv.best_params_))\n",
    "    print('Best rmse for LASSO = {} Default Scoring'.format(lassocv.best_score_))\n",
    "    lassocv = GridSearchCV(lasso, tuned_parameters, cv=5, scoring='neg_mean_squared_error')\n",
    "    lassocv.fit(X, y)\n",
    "    print('Best pars for LASSO = {}'.format(lassocv.best_params_))\n",
    "    print('Best rmse for LASSO = {} '.format(np.sqrt(-lassocv.best_score_)))\n",
    "\n",
    "\n",
    "    knn=KNeighborsRegressor()\n",
    "    tuned_parameters = [{'weights': ['uniform', 'distance'],\n",
    "                         'n_neighbors': range(1,20,2)}]\n",
    "    knncv = GridSearchCV(knn, tuned_parameters, cv=5, scoring='neg_mean_squared_error')\n",
    "    knncv.fit(X, y)\n",
    "    print('Best pars for KNN = {}'.format(knncv.best_params_))\n",
    "    print('Best rmse for KNN = {}'.format(np.sqrt(-knncv.best_score_)))\n",
    "\n",
    "    \n",
    "    xgb=XGB.XGBRegressor(learning_rate=0.1,n_estimators=1000,nthread=-1,early_stopping_rounds=30,\n",
    "                         objective='reg:squarederror') #nthread=-1 use all gpu\n",
    "    tuned_parameters = [{'max_depth':[2,3], 'gamma':[0.1,0.2,0.5] ,'subsample':[0.5,0.8]}]\n",
    "    xgbcv = GridSearchCV(xgb, tuned_parameters, cv=5, scoring='neg_mean_squared_error')\n",
    "    xgbcv.fit(X,y)\n",
    "    print('Best pars for XGB = {}'.format(xgbcv.best_params_))\n",
    "    print('Best rmse for XGB = {}'.format(np.sqrt(-xgbcv.best_score_)))\n",
    "    return lassocv, knncv, xgbcv"
   ]
  },
  {
   "cell_type": "code",
   "execution_count": 1049,
   "metadata": {},
   "outputs": [
    {
     "name": "stdout",
     "output_type": "stream",
     "text": [
      "Best pars for LASSO = {'alpha': 0.003751794958357854} Default Scoring\n",
      "Best rmse for LASSO = 0.902915836290247 Default Scoring\n",
      "Best pars for LASSO = {'alpha': 0.003751794958357854}\n",
      "Best rmse for LASSO = 0.124604173379133 \n",
      "Best pars for KNN = {'n_neighbors': 13, 'weights': 'distance'}\n",
      "Best rmse for KNN = 0.1985360200937113\n",
      "Best pars for XGB = {'gamma': 0.1, 'max_depth': 3, 'subsample': 0.5}\n",
      "Best rmse for XGB = 0.12530017936152735\n"
     ]
    }
   ],
   "source": [
    "lassocv, knncv, xgbcv = lasy()\n",
    "import pickle\n",
    "pickle_out=open('CV_output_logy_full.pickle','wb')\n",
    "pickle.dump([lassocv, knncv, xgbcv],pickle_out)\n",
    "pickle_out.close()"
   ]
  },
  {
   "cell_type": "code",
   "execution_count": 1022,
   "metadata": {},
   "outputs": [],
   "source": [
    "# preliminary verification\n",
    "X=stdSc.fit_transform(train)\n",
    "X_test=stdSc.transform(test_final)\n",
    "knn_bst=KNeighborsRegressor(**knncv.best_params_)\n",
    "lasso_bst = Lasso(**lassocv.best_params_)\n",
    "xgb_bst = XGB.XGBRegressor(**xgbcv.best_params_)"
   ]
  },
  {
   "cell_type": "code",
   "execution_count": 1023,
   "metadata": {},
   "outputs": [],
   "source": [
    "def pred_y(model):\n",
    "    model.fit(X,y)\n",
    "    y_pred=model.predict(X_test)\n",
    "    return (np.exp(y_pred))\n",
    "y_true=np.exp(y)"
   ]
  },
  {
   "cell_type": "code",
   "execution_count": 1024,
   "metadata": {},
   "outputs": [
    {
     "name": "stdout",
     "output_type": "stream",
     "text": [
      "[17:05:41] WARNING: src/objective/regression_obj.cu:152: reg:linear is now deprecated in favor of reg:squarederror.\n"
     ]
    },
    {
     "data": {
      "image/png": "[encoded data removed]",
      "text/plain": [
       "<Figure size 1080x360 with 3 Axes>"
      ]
     },
     "metadata": {
      "needs_background": "light"
     },
     "output_type": "display_data"
    }
   ],
   "source": [
    "model_lst=[knn_bst,lasso_bst,xgb_bst]\n",
    "fig, axes = plt.subplots(1,len(model_lst), sharey=True,figsize=(15,5))\n",
    "for i in range(len(model_lst)):\n",
    "    y_pred=pred_y(model_lst[i])\n",
    "    sns.distplot(y_true,ax=axes[i],color='purple')\n",
    "    sns.distplot(y_pred,ax=axes[i])"
   ]
  },
  {
   "cell_type": "code",
   "execution_count": 1025,
   "metadata": {},
   "outputs": [
    {
     "name": "stdout",
     "output_type": "stream",
     "text": [
      "[17:05:42] WARNING: src/objective/regression_obj.cu:152: reg:linear is now deprecated in favor of reg:squarederror.\n",
      "['BsmtExposure', 'BsmtFinSF', 'BsmtFinType1', 'BsmtQual', 'CentralAir_Y', 'ExterQual', 'Fireplaces', 'GarageArea', 'GarageCars', 'GarageType_Attchd', 'GrLivArea', 'HeatingQC', 'KitchenQual', 'LotArea', 'MSZoning_C (all)', 'MSZoning_RL', 'OverallQual', 'RoofStyle_Hip', 'TotalBath', 'YearBuilt']\n"
     ]
    },
    {
     "data": {
      "image/png": "[encoded data removed]",
      "text/plain": [
       "<Figure size 432x288 with 1 Axes>"
      ]
     },
     "metadata": {
      "needs_background": "light"
     },
     "output_type": "display_data"
    }
   ],
   "source": [
    "#feature importance under log model\n",
    "X_colnames=pd.DataFrame(X,columns=train.columns)\n",
    "xgb_bst = XGB.XGBRegressor(**xgbcv.best_params_)\n",
    "xgb_bst.fit(X_colnames,y)\n",
    "XGB.plot_importance(xgb_bst,max_num_features=20, importance_type='gain')\n",
    "key_value=xgb_bst.get_booster().get_score(importance_type='gain')\n",
    "pars=[*sorted(key_value.items(), key = \n",
    "             lambda kv:(kv[1], kv[0]),reverse=True)[:20]]\n",
    "col=[par[0] for par in pars]\n",
    "print(sorted(col))"
   ]
  },
  {
   "cell_type": "code",
   "execution_count": 1026,
   "metadata": {},
   "outputs": [],
   "source": [
    "## Repeated K-fold train-test-validation\n",
    "def rmse_cv(model):\n",
    "    rkf = RepeatedKFold(n_splits=10, n_repeats=10)\n",
    "    rmse_lst=[]\n",
    "    iteration = 1\n",
    "    for train_index, test_index in rkf.split(X):\n",
    "        if iteration%10==0: print('iteration {}'.format(iteration))\n",
    "        X_train, X_test = X[train_index], X[test_index]\n",
    "        y_train, y_test = y[train_index], y[test_index]\n",
    "        X_train = stdSc.fit_transform(X_train)\n",
    "        X_test = stdSc.transform(X_test)\n",
    "        model.fit(X_train,y_train)\n",
    "        y_pred=model.predict(X_test)\n",
    "        rmse= np.sqrt(np.mean((y_test-y_pred)**2))\n",
    "        iteration+=1\n",
    "        rmse_lst.append(rmse)\n",
    "    print('mean:',np.mean(rmse_lst),'std',np.std(rmse_lst))\n",
    "    return (rmse_lst)"
   ]
  },
  {
   "cell_type": "code",
   "execution_count": 1027,
   "metadata": {},
   "outputs": [
    {
     "name": "stdout",
     "output_type": "stream",
     "text": [
      "-----KNN----\n",
      "iteration 10\n",
      "iteration 20\n",
      "iteration 30\n",
      "iteration 40\n",
      "iteration 50\n",
      "iteration 60\n",
      "iteration 70\n",
      "iteration 80\n",
      "iteration 90\n",
      "iteration 100\n",
      "mean: 0.20107353728409275 std 0.0195520368420617\n",
      "-----LASSO----\n",
      "iteration 10\n",
      "iteration 20\n",
      "iteration 30\n",
      "iteration 40\n",
      "iteration 50\n",
      "iteration 60\n",
      "iteration 70\n",
      "iteration 80\n",
      "iteration 90\n",
      "iteration 100\n",
      "mean: 0.1302521058674252 std 0.020408314211694097\n",
      "-----XGB----\n",
      "iteration 10\n",
      "iteration 20\n",
      "iteration 30\n",
      "iteration 40\n",
      "iteration 50\n",
      "iteration 60\n",
      "iteration 70\n",
      "iteration 80\n",
      "iteration 90\n",
      "iteration 100\n",
      "mean: 0.12923127276852855 std 0.021011214390813347\n"
     ]
    }
   ],
   "source": [
    "pickle_in=open('CV_output_logy_clean.pickle','rb')\n",
    "[lassocv, knncv, xgbcv]=pickle.load(pickle_in)\n",
    "knn_bst=KNeighborsRegressor(**knncv.best_params_)\n",
    "lasso_bst = Lasso(**lassocv.best_params_)\n",
    "xgb_bst = XGB.XGBRegressor(**xgbcv.best_params_,learning_rate=0.1,n_estimators=1000,nthread=-1,early_stopping_rounds=30,\n",
    "                         objective='reg:squarederror')\n",
    "print('-----KNN----')\n",
    "rmse_lst=rmse_cv(knn_bst)\n",
    "print('-----LASSO----')\n",
    "rmse_lst=rmse_cv(lasso_bst)\n",
    "print('-----XGB----') #Fine tuning for XGB is important; this is done somewhere below\n",
    "rmse_lst=rmse_cv(xgb_bst)"
   ]
  },
  {
   "cell_type": "code",
   "execution_count": 1028,
   "metadata": {},
   "outputs": [
    {
     "name": "stdout",
     "output_type": "stream",
     "text": [
      "Best lambda for LASSO = 0.001668639100169254\n",
      "Score for LASSO = 0.8679783115203433\n",
      "Best pars for LASSO = {'alpha': 0.001668639100169254} Default Scoring\n",
      "Best rmse for LASSO = 0.8643071839961365 Default Scoring\n",
      "Best pars for LASSO = {'alpha': 0.001668639100169254}\n",
      "Best rmse for LASSO = 0.14704831605406535 \n",
      "Best pars for KNN = {'n_neighbors': 15, 'weights': 'distance'}\n",
      "Best rmse for KNN = 0.16914445392863367\n",
      "Best pars for XGB = {'gamma': 0.1, 'max_depth': 2, 'subsample': 0.5}\n",
      "Best rmse for XGB = 0.13344511429677824\n"
     ]
    }
   ],
   "source": [
    "train_subset=train[col]\n",
    "test_final_subset=test_final[col]\n",
    "X=stdSc.fit_transform(train_subset)\n",
    "\n",
    "lassocv = LassoCV(n_alphas=100,cv=5,max_iter=3000)\n",
    "lassocv.fit(X,y)\n",
    "print('Best lambda for LASSO = {}'.format(lassocv.alpha_))\n",
    "print('Score for LASSO = {}'.format(lassocv.score(X,y)))\n",
    "best_lambda=lassocv.alpha_\n",
    "\n",
    "lassocv, knncv, xgbcv = lasy()\n",
    "import pickle\n",
    "pickle_out=open('CV_output_logy_sub.pickle','wb')\n",
    "pickle.dump([lassocv, knncv, xgbcv],pickle_out)\n",
    "pickle_out.close()"
   ]
  },
  {
   "cell_type": "code",
   "execution_count": 1029,
   "metadata": {},
   "outputs": [
    {
     "name": "stdout",
     "output_type": "stream",
     "text": [
      "-----KNN----\n",
      "iteration 10\n",
      "iteration 20\n",
      "iteration 30\n",
      "iteration 40\n",
      "iteration 50\n",
      "iteration 60\n",
      "iteration 70\n",
      "iteration 80\n",
      "iteration 90\n",
      "iteration 100\n",
      "mean: 0.16959562660457653 std 0.015182241185019275\n",
      "-----LASSO----\n",
      "iteration 10\n",
      "iteration 20\n",
      "iteration 30\n",
      "iteration 40\n",
      "iteration 50\n",
      "iteration 60\n",
      "iteration 70\n",
      "iteration 80\n",
      "iteration 90\n",
      "iteration 100\n",
      "mean: 0.1466701325137287 std 0.016895234058276257\n",
      "-----XGB----\n",
      "iteration 10\n",
      "iteration 20\n",
      "iteration 30\n",
      "iteration 40\n",
      "iteration 50\n",
      "iteration 60\n",
      "iteration 70\n",
      "iteration 80\n",
      "iteration 90\n",
      "iteration 100\n",
      "mean: 0.1349477087476687 std 0.01822549930083909\n"
     ]
    }
   ],
   "source": [
    "knn_bst=KNeighborsRegressor(**knncv.best_params_)\n",
    "lasso_bst = Lasso(**lassocv.best_params_)\n",
    "xgb_bst = XGB.XGBRegressor(**xgbcv.best_params_,learning_rate=0.1,n_estimators=1000,nthread=-1,early_stopping_rounds=30,\n",
    "                         objective='reg:squarederror')\n",
    "print('-----KNN----')\n",
    "rmse_lst=rmse_cv(knn_bst)\n",
    "print('-----LASSO----')\n",
    "rmse_lst=rmse_cv(lasso_bst)\n",
    "print('-----XGB----') #Fine tuning for XGB is important; this is done somewhere below\n",
    "rmse_lst=rmse_cv(xgb_bst)"
   ]
  },
  {
   "cell_type": "code",
   "execution_count": 1050,
   "metadata": {},
   "outputs": [],
   "source": [
    "#potential models\n",
    "pickle_in=open('CV_output_logy_full.pickle','rb')\n",
    "[lassocv, knncv, xgbcv]=pickle.load(pickle_in)\n",
    "knn_bst=KNeighborsRegressor(**knncv.best_params_)\n",
    "lasso_bst = Lasso(**lassocv.best_params_)\n",
    "xgb_bst = XGB.XGBRegressor(**xgbcv.best_params_,learning_rate=0.1,n_estimators=1000,nthread=-1,early_stopping_rounds=30,\n",
    "                         objective='reg:squarederror')"
   ]
  },
  {
   "cell_type": "code",
   "execution_count": 1056,
   "metadata": {},
   "outputs": [],
   "source": [
    "#submission\n",
    "#standardize the data\n",
    "X=stdSc.fit_transform(train)\n",
    "X_test=stdSc.transform(test_final)\n",
    "#import the best model\n",
    "\n",
    "best_model= lasso_bst\n",
    "best_model.fit(X,y)\n",
    "submission['SalePrice'] = np.exp(best_model.predict(X_test))-1\n",
    "submission.to_csv(\"submission_lasso_full.csv\", index=False)"
   ]
  },
  {
   "cell_type": "code",
   "execution_count": 1054,
   "metadata": {},
   "outputs": [
    {
     "data": {
      "text/plain": [
       "<matplotlib.axes._subplots.AxesSubplot at 0x1c38f94668>"
      ]
     },
     "execution_count": 1054,
     "metadata": {},
     "output_type": "execute_result"
    },
    {
     "data": {
      "image/png": "[encoded data removed]",
      "text/plain": [
       "<Figure size 432x288 with 1 Axes>"
      ]
     },
     "metadata": {
      "needs_background": "light"
     },
     "output_type": "display_data"
    }
   ],
   "source": [
    "sns.distplot(submission['SalePrice'])"
   ]
  },
  {
   "cell_type": "code",
   "execution_count": null,
   "metadata": {},
   "outputs": [],
   "source": []
  }
 ],
 "metadata": {
  "kernelspec": {
   "display_name": "Python 3",
   "language": "python",
   "name": "python3"
  },
  "language_info": {
   "codemirror_mode": {
    "name": "ipython",
    "version": 3
   },
   "file_extension": ".py",
   "mimetype": "text/x-python",
   "name": "python",
   "nbconvert_exporter": "python",
   "pygments_lexer": "ipython3",
   "version": "3.7.3"
  }
 },
 "nbformat": 4,
 "nbformat_minor": 2
}
