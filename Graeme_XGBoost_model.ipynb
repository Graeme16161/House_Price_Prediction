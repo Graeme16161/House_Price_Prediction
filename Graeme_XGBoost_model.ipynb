{
 "cells": [
  {
   "cell_type": "markdown",
   "metadata": {},
   "source": [
    "# Housing Prices Model\n",
    "\n",
    "### Graeme Keleher 20190722\n",
    "\n",
    "<p><a name=\"sections\"></a></p>\n",
    "\n",
    "## Sections\n",
    "\n",
    "* [Load Packages](#1)\n",
    "* [Import Data](#2)\n",
    "* [Transform Target Variable](#3)\n",
    "* [Seperate into Numeric and Categorical Features](#4)\n",
    "* [Deal with Missing Categorical Data](#5)\n",
    "* [Deal with Missing Numeric Data](#6)\n",
    "* [Combine Feature Types, Dummify and Split](#7)\n",
    "* [Baseline RandomForest Model](#8)\n"
   ]
  },
  {
   "cell_type": "markdown",
   "metadata": {},
   "source": [
    "## Load Packages <a id=\"1\"></a>"
   ]
  },
  {
   "cell_type": "code",
   "execution_count": 19,
   "metadata": {},
   "outputs": [],
   "source": [
    "import numpy as np\n",
    "import pandas as pd\n",
    "from xgboost import XGBRegressor\n",
    "#from sklearn.model_selection import RepeatedKFold\n",
    "import matplotlib.pyplot as plt\n",
    "import math\n",
    "from sklearn.model_selection import RandomizedSearchCV\n",
    "from xgboost import plot_importance"
   ]
  },
  {
   "cell_type": "markdown",
   "metadata": {},
   "source": [
    "## Import Data <a id=\"2\"></a>\n",
    "\n",
    "Import training and test data from their respective files. "
   ]
  },
  {
   "cell_type": "code",
   "execution_count": 20,
   "metadata": {},
   "outputs": [],
   "source": [
    "#Load training data\n",
    "X_train = pd.read_csv('train.csv', index_col = 'Id')\n",
    "\n",
    "#load training data\n",
    "X_test = pd.read_csv('test.csv', index_col = 'Id')\n"
   ]
  },
  {
   "cell_type": "markdown",
   "metadata": {},
   "source": [
    "## Drop Outliers <a id=\"20\"></a>\n",
    "\n",
    "Drop outliers from training data then combine with test for processing"
   ]
  },
  {
   "cell_type": "code",
   "execution_count": 21,
   "metadata": {},
   "outputs": [],
   "source": [
    "X_train = X_train.drop(X_train[(X_train['GrLivArea']>4000) & (X_train['SalePrice']<300000)].index)\n",
    "\n",
    "#set target feature to y\n",
    "y = X_train['SalePrice']\n",
    "\n",
    "# drop target feature from training data\n",
    "X_train.drop('SalePrice',axis=1,inplace=True)\n",
    "\n",
    "#store end of training data index for future splitting\n",
    "end_train_index = X_train.shape[0]\n",
    "\n",
    "#Combine test and training predictive features for preprocessing\n",
    "X = pd.concat([X_train,X_test])"
   ]
  },
  {
   "cell_type": "code",
   "execution_count": null,
   "metadata": {},
   "outputs": [],
   "source": []
  },
  {
   "cell_type": "markdown",
   "metadata": {},
   "source": [
    "## Transform Target Variable <a id=\"3\"></a>\n",
    "\n",
    "The distribution of sale prices is highly skewed. This transformation brings it closer to a normal distribution. "
   ]
  },
  {
   "cell_type": "code",
   "execution_count": 22,
   "metadata": {},
   "outputs": [],
   "source": [
    "\n",
    "y_log = y.apply(math.log)\n"
   ]
  },
  {
   "cell_type": "markdown",
   "metadata": {},
   "source": [
    "## Seperate Into Numeric and Categorical Features <a id=\"4\"></a>\n",
    "\n",
    "This is needed because the way we will deal with missing data depends on the type of feature. \n"
   ]
  },
  {
   "cell_type": "code",
   "execution_count": 23,
   "metadata": {},
   "outputs": [],
   "source": [
    "# list of all training features\n",
    "X_all_feature_names = X.columns.tolist()\n",
    "\n",
    "# data frame of just numeric training data, note that MSSubClass is \n",
    "#also dropped becuase it is actually categorical\n",
    "X_numeric_features = X._get_numeric_data().drop('MSSubClass',axis=1).drop('GarageCars',axis=1)\n",
    "\n",
    "# list of only numeric training data features\n",
    "X_numeric_feature_names = X_numeric_features.columns.tolist()\n",
    "\n",
    "# list of only categoric training data features\n",
    "X_categoric_feature_names = list(set(X_all_feature_names)-set(X_numeric_feature_names))\n",
    "\n",
    "# categoric data\n",
    "X_categoric_features = X[X_categoric_feature_names]"
   ]
  },
  {
   "cell_type": "markdown",
   "metadata": {},
   "source": [
    "## Deal With Missing Categorical Data <a id=\"5\"></a>\n",
    "\n",
    "Here we replace all instances of 'nan' with 'Missing' then convert the data type to category."
   ]
  },
  {
   "cell_type": "code",
   "execution_count": 24,
   "metadata": {},
   "outputs": [
    {
     "name": "stderr",
     "output_type": "stream",
     "text": [
      "C:\\Users\\gakel\\Anaconda3\\lib\\site-packages\\pandas\\core\\frame.py:4034: SettingWithCopyWarning: \n",
      "A value is trying to be set on a copy of a slice from a DataFrame\n",
      "\n",
      "See the caveats in the documentation: http://pandas.pydata.org/pandas-docs/stable/indexing.html#indexing-view-versus-copy\n",
      "  downcast=downcast, **kwargs)\n",
      "C:\\Users\\gakel\\Anaconda3\\lib\\site-packages\\ipykernel_launcher.py:5: SettingWithCopyWarning: \n",
      "A value is trying to be set on a copy of a slice from a DataFrame.\n",
      "Try using .loc[row_indexer,col_indexer] = value instead\n",
      "\n",
      "See the caveats in the documentation: http://pandas.pydata.org/pandas-docs/stable/indexing.html#indexing-view-versus-copy\n",
      "  \"\"\"\n"
     ]
    }
   ],
   "source": [
    "X_categoric_features.fillna('Missing', inplace = True)\n",
    "    \n",
    "    \n",
    "for name in X_categoric_feature_names:\n",
    "    X_categoric_features[name] = X_categoric_features[name].astype('category')"
   ]
  },
  {
   "cell_type": "markdown",
   "metadata": {},
   "source": [
    "## Deal With Missing Numeric Data <a id=\"6\"></a>\n",
    "\n",
    "Here we replace all instances of 'nan' with 0 then create dummy variables for all numeric data with a zero. "
   ]
  },
  {
   "cell_type": "code",
   "execution_count": 25,
   "metadata": {},
   "outputs": [],
   "source": [
    "X_numeric_features.fillna(0, inplace = True)\n",
    "\n",
    "\n",
    "for name in X_numeric_feature_names:\n",
    "    new_name = name + \"_is_Zero\"\n",
    "    \n",
    "    X_numeric_features[new_name] = X_numeric_features[name].apply(lambda x: \"Zero\" if x == 0 else \"Non_Zero\").astype('category')"
   ]
  },
  {
   "cell_type": "markdown",
   "metadata": {},
   "source": [
    "## Feature Engineering\n",
    "\n",
    "Total square footage of home could prove predictive\n",
    "transform year built to age"
   ]
  },
  {
   "cell_type": "code",
   "execution_count": 26,
   "metadata": {},
   "outputs": [],
   "source": [
    "X_numeric_features['TotalSF'] = X_numeric_features['TotalBsmtSF'] + X_numeric_features['1stFlrSF'] + X_numeric_features['2ndFlrSF']\n",
    "X_numeric_features['HomeAge'] = X_numeric_features['YearBuilt'].max() - X_numeric_features['YearBuilt']\n",
    "X_numeric_features['OverallQual_log'] = np.log(X_numeric_features['OverallQual'])\n",
    "\n",
    "#idea from peter\n",
    "X_numeric_features['GrLivArea_log'] = np.log1p(X_numeric_features['GrLivArea'])\n",
    "X_numeric_features['TotalSF_log'] = np.log(X_numeric_features['TotalSF'])"
   ]
  },
  {
   "cell_type": "markdown",
   "metadata": {},
   "source": [
    "## Combine Feature Types, Dummify and Split <a id=\"7\"></a>"
   ]
  },
  {
   "cell_type": "code",
   "execution_count": 27,
   "metadata": {},
   "outputs": [],
   "source": [
    "X_processed = X_numeric_features.join(X_categoric_features,how = 'inner')\n",
    "   \n",
    "X_processed = pd.get_dummies(X_processed)\n",
    "\n",
    "X_train_processed = X_processed[:end_train_index]\n",
    "\n",
    "X_test_processed = X_processed[end_train_index:]"
   ]
  },
  {
   "cell_type": "markdown",
   "metadata": {},
   "source": [
    "## XGBoost Model <a id=\"8\"></a>\n",
    "\n",
    "explore concentrate on max features, sqrt(d) a decent rule but will affect a lot\n",
    "for n_estimators more is better but takes more time\n",
    "for max_depth, the larger this number the more likely it overfits\n",
    "\n",
    "\n",
    "\n",
    "\n",
    "first - .141\n",
    "\n",
    "{'colsample_bytree': 0.8,\n",
    " 'gamma': 0.5,\n",
    " 'max_depth': 3,\n",
    " 'min_child_weight': 5,\n",
    " 'subsample': 0.8}\n",
    "\n",
    "second - .127\n",
    "\n",
    "{'colsample_bytree': 0.8,\n",
    " 'gamma': 0.03,\n",
    " 'learning_rate': 0.1,\n",
    " 'max_depth': 5,\n",
    " 'min_child_weight': 2.5,\n",
    " 'subsample': 0.6}\n"
   ]
  },
  {
   "cell_type": "code",
   "execution_count": 34,
   "metadata": {},
   "outputs": [
    {
     "name": "stdout",
     "output_type": "stream",
     "text": [
      "Fitting 3 folds for each of 216 candidates, totalling 648 fits\n"
     ]
    },
    {
     "name": "stderr",
     "output_type": "stream",
     "text": [
      "[Parallel(n_jobs=6)]: Using backend LokyBackend with 6 concurrent workers.\n",
      "[Parallel(n_jobs=6)]: Done   1 tasks      | elapsed:    2.9s\n",
      "[Parallel(n_jobs=6)]: Done   6 tasks      | elapsed:    3.0s\n",
      "[Parallel(n_jobs=6)]: Done  13 tasks      | elapsed:    4.2s\n",
      "[Parallel(n_jobs=6)]: Done  20 tasks      | elapsed:    5.2s\n",
      "[Parallel(n_jobs=6)]: Done  29 tasks      | elapsed:    6.2s\n",
      "[Parallel(n_jobs=6)]: Done  38 tasks      | elapsed:    7.7s\n",
      "[Parallel(n_jobs=6)]: Done  49 tasks      | elapsed:    9.0s\n",
      "[Parallel(n_jobs=6)]: Done  60 tasks      | elapsed:   10.1s\n",
      "[Parallel(n_jobs=6)]: Done  73 tasks      | elapsed:   12.5s\n",
      "[Parallel(n_jobs=6)]: Done  86 tasks      | elapsed:   13.8s\n",
      "[Parallel(n_jobs=6)]: Done 101 tasks      | elapsed:   15.7s\n",
      "[Parallel(n_jobs=6)]: Done 116 tasks      | elapsed:   18.3s\n",
      "[Parallel(n_jobs=6)]: Done 133 tasks      | elapsed:   21.1s\n",
      "[Parallel(n_jobs=6)]: Done 150 tasks      | elapsed:   22.7s\n",
      "[Parallel(n_jobs=6)]: Done 169 tasks      | elapsed:   25.7s\n",
      "[Parallel(n_jobs=6)]: Done 188 tasks      | elapsed:   27.9s\n",
      "[Parallel(n_jobs=6)]: Done 209 tasks      | elapsed:   30.5s\n",
      "[Parallel(n_jobs=6)]: Done 230 tasks      | elapsed:   34.1s\n",
      "[Parallel(n_jobs=6)]: Done 253 tasks      | elapsed:   38.9s\n",
      "[Parallel(n_jobs=6)]: Done 276 tasks      | elapsed:   42.2s\n",
      "[Parallel(n_jobs=6)]: Done 301 tasks      | elapsed:   47.3s\n",
      "[Parallel(n_jobs=6)]: Done 326 tasks      | elapsed:   51.9s\n",
      "[Parallel(n_jobs=6)]: Done 353 tasks      | elapsed:   58.8s\n",
      "[Parallel(n_jobs=6)]: Done 380 tasks      | elapsed:  1.1min\n",
      "[Parallel(n_jobs=6)]: Done 409 tasks      | elapsed:  1.2min\n",
      "[Parallel(n_jobs=6)]: Done 438 tasks      | elapsed:  1.3min\n",
      "[Parallel(n_jobs=6)]: Done 469 tasks      | elapsed:  1.4min\n",
      "[Parallel(n_jobs=6)]: Done 500 tasks      | elapsed:  1.6min\n",
      "[Parallel(n_jobs=6)]: Done 533 tasks      | elapsed:  1.7min\n",
      "[Parallel(n_jobs=6)]: Done 566 tasks      | elapsed:  1.8min\n",
      "[Parallel(n_jobs=6)]: Done 601 tasks      | elapsed:  1.9min\n",
      "[Parallel(n_jobs=6)]: Done 636 tasks      | elapsed:  2.0min\n",
      "[Parallel(n_jobs=6)]: Done 648 out of 648 | elapsed:  2.1min finished\n"
     ]
    }
   ],
   "source": [
    "\n",
    "\n",
    "#Define model\n",
    "xgb_model = XGBRegressor()\n",
    "\n",
    "#Define hyperparameter tune grid\n",
    "param_grid = {\n",
    "        'min_child_weight': [1, 2.5, 5],\n",
    "        'gamma':[0,0.03,0.1],\n",
    "        'subsample': [0.6, 0.8],\n",
    "        'colsample_bytree': [0.6, 0.8, 1.0],\n",
    "        'learning_rate':[0.1,0.07],\n",
    "        'max_depth': [3, 5]\n",
    "        }\n",
    "\n",
    "#parameters_for_testing = {\n",
    "#    'colsample_bytree':[0.4,0.6,0.8],\n",
    "#    'gamma':[0,0.03,0.1,0.3],\n",
    "#    'min_child_weight':[1.5,6,10],\n",
    "#    'learning_rate':[0.1,0.07],\n",
    "#    'max_depth':[3,5],\n",
    "#    'n_estimators':[10000],\n",
    "#    'reg_alpha':[1e-5, 1e-2,  0.75],\n",
    "#    'reg_lambda':[1e-5, 1e-2, 0.45],\n",
    "#    'subsample':[0.6,0.95]  \n",
    "#}\n",
    "\n",
    "grid_xgb = GridSearchCV(estimator = xgb_model,\n",
    "                        param_grid = param_grid,\n",
    "                        n_jobs=6,\n",
    "                        iid=False,\n",
    "                        verbose=10,\n",
    "                        scoring='neg_mean_squared_log_error')\n",
    "\n",
    "#Search for best model with 10 fold CV\n",
    "grid_xgb.fit(X_train_processed,y_log)\n",
    "\n",
    "#define best model\n",
    "best_model = grid_xgb.best_estimator_\n",
    "\n",
    "#make predictions on test data with best model\n",
    "y_hat = best_model.predict(X_test_processed)\n",
    "\n",
    "#create data frame of results\n",
    "test_result = pd.DataFrame({'Id':X_test_processed.index, 'SalePrice' : y_hat})\n",
    "\n",
    "#Transform predicted values back from log values\n",
    "test_result['SalePrice'] = test_result['SalePrice'] .apply(math.exp)\n",
    "\n",
    "#Save to csv file in submission format\n",
    "test_result.to_csv('graeme_housing_submissing.csv',index=False)"
   ]
  },
  {
   "cell_type": "code",
   "execution_count": 36,
   "metadata": {},
   "outputs": [
    {
     "data": {
      "image/png": "[encoded data removed]",
      "text/plain": [
       "<Figure size 432x288 with 1 Axes>"
      ]
     },
     "metadata": {
      "needs_background": "light"
     },
     "output_type": "display_data"
    }
   ],
   "source": [
    "#feat_importances = pd.Series(best_model.feature_importances_, index=X_test_processed.columns)\n",
    "#feat_importances.nlargest(20).plot(kind='barh')\n",
    "\n",
    "\n",
    "\n",
    "plot_importance(best_model, max_num_features=20) # top 10 most important features\n",
    "plt.show()"
   ]
  },
  {
   "cell_type": "code",
   "execution_count": 35,
   "metadata": {},
   "outputs": [
    {
     "data": {
      "text/plain": [
       "{'colsample_bytree': 0.8,\n",
       " 'gamma': 0.03,\n",
       " 'learning_rate': 0.1,\n",
       " 'max_depth': 5,\n",
       " 'min_child_weight': 2.5,\n",
       " 'subsample': 0.6}"
      ]
     },
     "execution_count": 35,
     "metadata": {},
     "output_type": "execute_result"
    }
   ],
   "source": [
    "grid_xgb.best_params_\n"
   ]
  },
  {
   "cell_type": "code",
   "execution_count": null,
   "metadata": {},
   "outputs": [],
   "source": []
  }
 ],
 "metadata": {
  "kernelspec": {
   "display_name": "Python 3",
   "language": "python",
   "name": "python3"
  },
  "language_info": {
   "codemirror_mode": {
    "name": "ipython",
    "version": 3
   },
   "file_extension": ".py",
   "mimetype": "text/x-python",
   "name": "python",
   "nbconvert_exporter": "python",
   "pygments_lexer": "ipython3",
   "version": "3.7.3"
  }
 },
 "nbformat": 4,
 "nbformat_minor": 2
}
