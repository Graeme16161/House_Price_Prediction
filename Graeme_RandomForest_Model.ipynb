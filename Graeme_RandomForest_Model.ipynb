{
 "cells": [
  {
   "cell_type": "markdown",
   "metadata": {},
   "source": [
    "# Housing Prices Model\n",
    "\n",
    "### Graeme Keleher 20190722\n",
    "\n",
    "<p><a name=\"sections\"></a></p>\n",
    "\n",
    "## Sections\n",
    "\n",
    "* [Load Packages](#1)\n",
    "* [Import Data](#2)\n",
    "* [Transform Target Variable](#3)\n",
    "* [Seperate into Numeric and Categorical Features](#4)\n",
    "* [Deal with Missing Categorical Data](#5)\n",
    "* [Deal with Missing Numeric Data](#6)\n",
    "* [Combine Feature Types, Dummify and Split](#7)\n",
    "* [Baseline RandomForest Model](#8)\n"
   ]
  },
  {
   "cell_type": "markdown",
   "metadata": {},
   "source": [
    "## Load Packages <a id=\"1\"></a>"
   ]
  },
  {
   "cell_type": "code",
   "execution_count": 1,
   "metadata": {},
   "outputs": [],
   "source": [
    "import numpy as np\n",
    "import pandas as pd\n",
    "from sklearn.ensemble import RandomForestRegressor\n",
    "#from sklearn.model_selection import RepeatedKFold\n",
    "import matplotlib.pyplot as plt\n",
    "import math\n",
    "from sklearn.model_selection import GridSearchCV"
   ]
  },
  {
   "cell_type": "markdown",
   "metadata": {},
   "source": [
    "## Import Data <a id=\"2\"></a>\n",
    "\n",
    "Import training and test data from their respective files. "
   ]
  },
  {
   "cell_type": "code",
   "execution_count": 2,
   "metadata": {},
   "outputs": [],
   "source": [
    "#Load training data\n",
    "X_train = pd.read_csv('train.csv', index_col = 'Id')\n",
    "\n",
    "#load training data\n",
    "X_test = pd.read_csv('test.csv', index_col = 'Id')\n"
   ]
  },
  {
   "cell_type": "markdown",
   "metadata": {},
   "source": [
    "## Drop Outliers <a id=\"20\"></a>\n",
    "\n",
    "Drop outliers from training data then combine with test for processing"
   ]
  },
  {
   "cell_type": "code",
   "execution_count": 3,
   "metadata": {},
   "outputs": [],
   "source": [
    "X_train = X_train.drop(X_train[(X_train['GrLivArea']>4000) & (X_train['SalePrice']<300000)].index)\n",
    "\n",
    "#set target feature to y\n",
    "y = X_train['SalePrice']\n",
    "\n",
    "# drop target feature from training data\n",
    "X_train.drop('SalePrice',axis=1,inplace=True)\n",
    "\n",
    "#store end of training data index for future splitting\n",
    "end_train_index = X_train.shape[0]\n",
    "\n",
    "#Combine test and training predictive features for preprocessing\n",
    "X = pd.concat([X_train,X_test])"
   ]
  },
  {
   "cell_type": "markdown",
   "metadata": {},
   "source": [
    "## Transform Target Variable <a id=\"3\"></a>\n",
    "\n",
    "The distribution of sale prices is highly skewed. This transformation brings it closer to a normal distribution. "
   ]
  },
  {
   "cell_type": "code",
   "execution_count": 4,
   "metadata": {},
   "outputs": [],
   "source": [
    "\n",
    "y_log = y.apply(math.log)\n"
   ]
  },
  {
   "cell_type": "markdown",
   "metadata": {},
   "source": [
    "## Seperate Into Numeric and Categorical Features <a id=\"4\"></a>\n",
    "\n",
    "This is needed because the way we will deal with missing data depends on the type of feature. \n"
   ]
  },
  {
   "cell_type": "code",
   "execution_count": 5,
   "metadata": {},
   "outputs": [],
   "source": [
    "# list of all training features\n",
    "X_all_feature_names = X.columns.tolist()\n",
    "\n",
    "# data frame of just numeric training data, note that MSSubClass is \n",
    "#also dropped becuase it is actually categorical\n",
    "X_numeric_features = X._get_numeric_data().drop('MSSubClass',axis=1)\n",
    "\n",
    "# list of only numeric training data features\n",
    "X_numeric_feature_names = X_numeric_features.columns.tolist()\n",
    "\n",
    "# list of only categoric training data features\n",
    "X_categoric_feature_names = list(set(X_all_feature_names)-set(X_numeric_feature_names))\n",
    "\n",
    "# categoric data\n",
    "X_categoric_features = X[X_categoric_feature_names]"
   ]
  },
  {
   "cell_type": "markdown",
   "metadata": {},
   "source": [
    "## Deal With Missing Categorical Data <a id=\"5\"></a>\n",
    "\n",
    "Here we replace all instances of 'nan' with 'Missing' then convert the data type to category."
   ]
  },
  {
   "cell_type": "code",
   "execution_count": 6,
   "metadata": {},
   "outputs": [
    {
     "name": "stderr",
     "output_type": "stream",
     "text": [
      "C:\\Users\\gakel\\Anaconda3\\lib\\site-packages\\pandas\\core\\frame.py:4034: SettingWithCopyWarning: \n",
      "A value is trying to be set on a copy of a slice from a DataFrame\n",
      "\n",
      "See the caveats in the documentation: http://pandas.pydata.org/pandas-docs/stable/indexing.html#indexing-view-versus-copy\n",
      "  downcast=downcast, **kwargs)\n",
      "C:\\Users\\gakel\\Anaconda3\\lib\\site-packages\\ipykernel_launcher.py:5: SettingWithCopyWarning: \n",
      "A value is trying to be set on a copy of a slice from a DataFrame.\n",
      "Try using .loc[row_indexer,col_indexer] = value instead\n",
      "\n",
      "See the caveats in the documentation: http://pandas.pydata.org/pandas-docs/stable/indexing.html#indexing-view-versus-copy\n",
      "  \"\"\"\n"
     ]
    }
   ],
   "source": [
    "X_categoric_features.fillna('Missing', inplace = True)\n",
    "    \n",
    "    \n",
    "for name in X_categoric_feature_names:\n",
    "    X_categoric_features[name] = X_categoric_features[name].astype('category')"
   ]
  },
  {
   "cell_type": "markdown",
   "metadata": {},
   "source": [
    "## Deal With Missing Numeric Data <a id=\"6\"></a>\n",
    "\n",
    "Here we replace all instances of 'nan' with 0 then create dummy variables for all numeric data with a zero. "
   ]
  },
  {
   "cell_type": "code",
   "execution_count": 7,
   "metadata": {},
   "outputs": [],
   "source": [
    "X_numeric_features.fillna(0, inplace = True)\n",
    "\n",
    "\n",
    "for name in X_numeric_feature_names:\n",
    "    new_name = name + \"_is_Zero\"\n",
    "    \n",
    "    X_numeric_features[new_name] = X_numeric_features[name].apply(lambda x: \"Zero\" if x == 0 else \"Non_Zero\").astype('category')"
   ]
  },
  {
   "cell_type": "markdown",
   "metadata": {},
   "source": [
    "## Feature Engineering\n",
    "\n",
    "Total square footage of home could prove predictive\n",
    "transform year built to age"
   ]
  },
  {
   "cell_type": "code",
   "execution_count": 8,
   "metadata": {},
   "outputs": [],
   "source": [
    "X_numeric_features['TotalSF'] = X_numeric_features['TotalBsmtSF'] + X_numeric_features['1stFlrSF'] + X_numeric_features['2ndFlrSF']\n",
    "\n",
    "X_numeric_features['HomeAge'] = X_numeric_features['YearBuilt'].max() - X_numeric_features['YearBuilt']"
   ]
  },
  {
   "cell_type": "markdown",
   "metadata": {},
   "source": [
    "## Combine Feature Types, Dummify and Split <a id=\"7\"></a>"
   ]
  },
  {
   "cell_type": "code",
   "execution_count": 9,
   "metadata": {},
   "outputs": [],
   "source": [
    "X_processed = X_numeric_features.join(X_categoric_features,how = 'inner')\n",
    "   \n",
    "X_processed = pd.get_dummies(X_processed)\n",
    "\n",
    "X_train_processed = X_processed[:end_train_index]\n",
    "\n",
    "X_test_processed = X_processed[end_train_index:]"
   ]
  },
  {
   "cell_type": "markdown",
   "metadata": {},
   "source": [
    "## Baseline RandomForest Model <a id=\"8\"></a>\n",
    "\n",
    "explore concentrate on max features, sqrt(d) a decent rule but will affect a lot\n",
    "for n_estimators more is better but takes more time\n",
    "for max_depth, the larger this number the more likely it overfits\n",
    "\n",
    "decent results\n",
    "{'max_depth': 9, 'n_estimators': 20}\n",
    "better\n",
    "{'max_depth': 50, 'n_estimators': 1000}\n",
    "more better\n",
    "{'max_depth': 40, 'max_features': 50, 'n_estimators': 500}\n",
    "Even better\n",
    "{'max_depth': 40, 'max_features': 70, 'n_estimators': 1000}"
   ]
  },
  {
   "cell_type": "code",
   "execution_count": null,
   "metadata": {},
   "outputs": [],
   "source": [
    "#Define model\n",
    "rfr = RandomForestRegressor()\n",
    "\n",
    "#Define hyperparameter tune grid\n",
    "param_grid = {\n",
    "                 'n_estimators': [1000],\n",
    "                 'max_depth': [30,40,50],\n",
    "                 'max_features' : [70,100,130,150]\n",
    "             }\n",
    "'''\n",
    "param_grid = {\n",
    "    'bootstrap': [True],\n",
    "    'max_depth': [80, 90, 100, 110],\n",
    "    'max_features': [2, 3],\n",
    "    'min_samples_leaf': [3, 4, 5],\n",
    "    'min_samples_split': [8, 10, 12],\n",
    "    'n_estimators': [100, 200, 300, 1000]\n",
    "}\n",
    "'''\n",
    "#define grid search object\n",
    "grid_rfr = GridSearchCV(rfr, param_grid, cv=10)\n",
    "\n",
    "#Search for best model with 10 fold CV\n",
    "grid_rfr.fit(X_train_processed,y_log)\n",
    "\n",
    "#define best model\n",
    "best_model = grid_rfr.best_estimator_\n",
    "\n",
    "#make predictions on test data with best model\n",
    "y_hat = best_model.predict(X_test_processed)\n",
    "\n",
    "#create data frame of results\n",
    "test_result = pd.DataFrame({'Id':X_test_processed.index, 'SalePrice' : y_hat})\n",
    "\n",
    "#Transform predicted values back from log values\n",
    "test_result['SalePrice'] = test_result['SalePrice'] .apply(math.exp)\n",
    "\n",
    "#Save to csv file in submission format\n",
    "test_result.to_csv('graeme_housing_submissing.csv',index=False)"
   ]
  },
  {
   "cell_type": "code",
   "execution_count": 14,
   "metadata": {},
   "outputs": [
    {
     "data": {
      "text/plain": [
       "<matplotlib.axes._subplots.AxesSubplot at 0x1a9289dbb70>"
      ]
     },
     "execution_count": 14,
     "metadata": {},
     "output_type": "execute_result"
    },
    {
     "data": {
      "image/png": "[encoded data removed]",
      "text/plain": [
       "<Figure size 432x288 with 1 Axes>"
      ]
     },
     "metadata": {
      "needs_background": "light"
     },
     "output_type": "display_data"
    }
   ],
   "source": [
    "feat_importances = pd.Series(best_model.feature_importances_, index=X_test_processed.columns)\n",
    "feat_importances.nlargest(20).plot(kind='barh')"
   ]
  },
  {
   "cell_type": "code",
   "execution_count": 19,
   "metadata": {},
   "outputs": [
    {
     "data": {
      "text/plain": [
       "{'max_depth': 40, 'max_features': 70, 'n_estimators': 1000}"
      ]
     },
     "execution_count": 19,
     "metadata": {},
     "output_type": "execute_result"
    }
   ],
   "source": [
    "grid_rfr.best_params_\n"
   ]
  },
  {
   "cell_type": "code",
   "execution_count": null,
   "metadata": {},
   "outputs": [],
   "source": [
    "X_train.plot.scatter(x = \"\", y = \"\")"
   ]
  }
 ],
 "metadata": {
  "kernelspec": {
   "display_name": "Python 3",
   "language": "python",
   "name": "python3"
  },
  "language_info": {
   "codemirror_mode": {
    "name": "ipython",
    "version": 3
   },
   "file_extension": ".py",
   "mimetype": "text/x-python",
   "name": "python",
   "nbconvert_exporter": "python",
   "pygments_lexer": "ipython3",
   "version": "3.7.3"
  }
 },
 "nbformat": 4,
 "nbformat_minor": 2
}
