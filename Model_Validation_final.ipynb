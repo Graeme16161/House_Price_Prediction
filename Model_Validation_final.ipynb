{
 "cells": [
  {
   "cell_type": "markdown",
   "metadata": {},
   "source": [
    "## Load Packages"
   ]
  },
  {
   "cell_type": "code",
   "execution_count": null,
   "metadata": {},
   "outputs": [],
   "source": [
    "import numpy as np\n",
    "import pandas as pd\n",
    "import matplotlib.pyplot as plt\n",
    "import seaborn as sns\n",
    "from sklearn.preprocessing import PolynomialFeatures\n",
    "from sklearn.linear_model import LinearRegression\n",
    "from sklearn.pipeline import make_pipeline\n",
    "from scipy.stats import skew\n",
    "from sklearn.model_selection import cross_val_score, train_test_split,GridSearchCV\n",
    "from sklearn.linear_model import LinearRegression, RidgeCV, LassoCV, ElasticNetCV,ElasticNet, Lasso\n",
    "from sklearn.preprocessing import StandardScaler\n",
    "from sklearn.metrics import mean_squared_error, make_scorer, mean_squared_log_error\n",
    "from sklearn.model_selection import RepeatedKFold\n",
    "import xgboost as XGB"
   ]
  },
  {
   "cell_type": "markdown",
   "metadata": {},
   "source": [
    "## Read in Data Function"
   ]
  },
  {
   "cell_type": "code",
   "execution_count": null,
   "metadata": {},
   "outputs": [],
   "source": [
    "def read_process_data(filename):\n",
    "    \n",
    "    #read data from csv\n",
    "    train = pd.read_csv(filename, index_col = 'Id')\n",
    "    \n",
    "    #get dummies\n",
    "    train = pd.get_dummies(train)\n",
    "    \n",
    "    #the first 1460 data points are training data\n",
    "    end_test_data = 1460\n",
    "    \n",
    "    # all zeros in which messes with standardization\n",
    "    if 'MSSubClass_SC150' in train.columns:\n",
    "        train = train.drop('MSSubClass_SC150',axis=1)\n",
    "    \n",
    "    #get test dataset and drop (test) target feature\n",
    "    test = train.loc[train.index>end_test_data,:].drop(['SalePrice'],axis=1)\n",
    "    \n",
    "    #split training data into predictor and target variable\n",
    "    train = train.loc[train.index<=end_test_data,:]\n",
    "    \n",
    "    #do log transform on target variable\n",
    "    y=np.log1p(train.SalePrice)\n",
    "    X=train.drop(['SalePrice'],axis=1)\n",
    "    \n",
    "    #standardize\n",
    "    X = (X - X.mean())/X.std()\n",
    "    \n",
    "    return(X,y, test)\n",
    "\n",
    "\n"
   ]
  },
  {
   "cell_type": "markdown",
   "metadata": {},
   "source": [
    "## Model Validation Module"
   ]
  },
  {
   "cell_type": "code",
   "execution_count": null,
   "metadata": {},
   "outputs": [],
   "source": []
  },
  {
   "cell_type": "code",
   "execution_count": null,
   "metadata": {},
   "outputs": [],
   "source": [
    "def model_validation_score(X,y,model=None,n_split=10,n_repeats=10,msg=True):\n",
    "    if model == None: model = LassoCV(cv=10,n_jobs=-1)\n",
    "    rkf = RepeatedKFold(n_splits=n_split, n_repeats=n_repeats, random_state=2652124)\n",
    "    train_score = []\n",
    "    test_score = []\n",
    "    y_train_lst = []\n",
    "    y_train_estimated_lst = []\n",
    "    y_test_lst = []\n",
    "    y_test_estimated_lst = []\n",
    "    iteration = 1\n",
    "    for train_index, test_index in rkf.split(y):\n",
    "        if (msg==True): print('iteration {}'.format(iteration))\n",
    "        X_train, X_test = X.iloc[train_index], X.iloc[test_index]\n",
    "        y_train, y_test = y[train_index], y[test_index]\n",
    "        reg = model.fit(X_train,y_train)                \n",
    "        y_train_lst += y_train.tolist()\n",
    "        y_test_lst += y_test.tolist()\n",
    "        y_train_estimated_lst += model.predict(X_train).tolist()\n",
    "        y_test_estimated_lst += model.predict(X_test).tolist()\n",
    "        iteration += 1\n",
    "    train_score = np.sqrt(mean_squared_error(y_train_lst,y_train_estimated_lst))\n",
    "    test_score = np.sqrt(mean_squared_error(y_test_lst,y_test_estimated_lst))\n",
    "    if (msg==True):\n",
    "        print('train root_mean_squared_log_error: {}'.format(train_score))\n",
    "        print('test root_mean_squared_log_error: {}'.format(test_score))\n",
    "    return(train_score,test_score)"
   ]
  },
  {
   "cell_type": "markdown",
   "metadata": {},
   "source": [
    "## List of Datasets to Build Models"
   ]
  },
  {
   "cell_type": "code",
   "execution_count": null,
   "metadata": {},
   "outputs": [],
   "source": [
    "# list of dataset names\n",
    "\n",
    "data_set_names = [\n",
    "                  \"dataset2_addfeatures\",\n",
    "                  \n",
    "                  \"dataset3_2\"]"
   ]
  },
  {
   "cell_type": "markdown",
   "metadata": {},
   "source": [
    "## Lasso"
   ]
  },
  {
   "cell_type": "code",
   "execution_count": null,
   "metadata": {},
   "outputs": [],
   "source": [
    "for name in data_set_names:\n",
    "    X,y,test = read_process_data(name+'.csv')\n",
    "    print(name)\n",
    "    print(np.shape(X))\n",
    "    \n",
    "    #Define model\n",
    "    lasso_model=Lasso(max_iter=10000)\n",
    "\n",
    "    #Define hyperparameter tune grid\n",
    "    #coarser grid\n",
    "    lassocv = LassoCV(n_alphas=100,cv=10,max_iter=10000)\n",
    "    lassocv.fit(X,y)\n",
    "    best_lambda=lassocv.alpha_\n",
    "    #finer grid\n",
    "    param_grid = {\n",
    "    'alpha': best_lambda*np.append(np.logspace(-2,2,30),1)\n",
    "    }\n",
    "\n",
    "\n",
    "    CV_object = GridSearchCV(estimator = lasso_model,\n",
    "                param_grid = param_grid,\n",
    "                n_jobs=-1,\n",
    "                cv = 10,\n",
    "                iid=False,\n",
    "                verbose=False)\n",
    "    model_validation_score(X.reset_index(drop=True),y.reset_index(drop=True),model=CV_object,msg=True)\n",
    "    "
   ]
  },
  {
   "cell_type": "markdown",
   "metadata": {},
   "source": [
    "## XGBoost"
   ]
  },
  {
   "cell_type": "code",
   "execution_count": null,
   "metadata": {},
   "outputs": [],
   "source": [
    "#Define model\n",
    "xgb_model = XGB.XGBRegressor()\n",
    "\n",
    "#Define hyperparameter tune grid\n",
    "param_grid = {\n",
    "        'min_child_weight': [1, 3, 5],\n",
    "        'gamma':[0,0.03,0.1],\n",
    "        'subsample': [0.6, 0.8],\n",
    "        'learning_rate':[0.1,0.07],\n",
    "        'max_depth': [1, 3, 5]\n",
    "        }\n"
   ]
  },
  {
   "cell_type": "code",
   "execution_count": null,
   "metadata": {},
   "outputs": [],
   "source": [
    "for name in data_set_names:\n",
    "    X,y,test = read_process_data(name+'.csv')\n",
    "    print(name)\n",
    "    print(np.shape(X))\n",
    "    CV_object = GridSearchCV(estimator = xgb_model,\n",
    "                param_grid = param_grid,\n",
    "                n_jobs=-1,\n",
    "                cv = 10,\n",
    "                iid=False,\n",
    "                verbose=False)\n",
    "    model_validation_score(X.reset_index(drop=True),y.reset_index(drop=True),model=CV_object,msg=True)"
   ]
  },
  {
   "cell_type": "code",
   "execution_count": null,
   "metadata": {},
   "outputs": [],
   "source": []
  }
 ],
 "metadata": {
  "kernelspec": {
   "display_name": "Python 3",
   "language": "python",
   "name": "python3"
  },
  "language_info": {
   "codemirror_mode": {
    "name": "ipython",
    "version": 3
   },
   "file_extension": ".py",
   "mimetype": "text/x-python",
   "name": "python",
   "nbconvert_exporter": "python",
   "pygments_lexer": "ipython3",
   "version": "3.7.3"
  }
 },
 "nbformat": 4,
 "nbformat_minor": 2
}
