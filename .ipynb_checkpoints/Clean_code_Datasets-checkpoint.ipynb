{
 "cells": [
  {
   "cell_type": "markdown",
   "metadata": {},
   "source": [
    "# House Prices: Advanced Regression Techniques\n",
    "\n",
    "<p><a name=\"sections\"></a></p>\n",
    "\n",
    "\n",
    "## Sections\n",
    "\n",
    "- <a href=\"#description\">Description</a><br>\n",
    "- <a href=\"#executive_summary\">Executive Summary</a><br>\n",
    "- <a href=\"#data_import\">Data Import</a><br>\n",
    "- <a href=\"#Feature Engineering (Advanced)\">Feature Engineering (Advanced)</a><br>\n",
    "- <a href=\"#data_cleaning_and_eda\">Data Cleaning and EDA</a><br>\n",
    "- <a href=\"#models\">Models</a><br>\n",
    "    - <a href=\"#lasso\">Lasso</a><br>\n",
    "    - <a href=\"#decision_tree\">Decision Tree</a><br>\n",
    "    - <a href=\"#bagging\">Bagging</a><br>\n",
    "    - <a href=\"#random_forest\">Random Forest</a><br>\n",
    "    - <a href=\"#boosting\">Boosting</a><br>\n",
    "    - <a href=\"#xgboost\">XGBoost</a><br>\n",
    "- <a href=\"#submission\">Submission</a><br>"
   ]
  },
  {
   "cell_type": "markdown",
   "metadata": {},
   "source": [
    "<p><a name=\"description\"></a></p>"
   ]
  },
  {
   "cell_type": "markdown",
   "metadata": {},
   "source": [
    "## Description"
   ]
  },
  {
   "cell_type": "markdown",
   "metadata": {},
   "source": [
    "<p><a name=\"executive_summary\"></a></p>"
   ]
  },
  {
   "cell_type": "markdown",
   "metadata": {},
   "source": [
    "## Executive Summary"
   ]
  },
  {
   "cell_type": "markdown",
   "metadata": {},
   "source": [
    "<p><a name=\"data_import_and_cleaning\"></a></p>"
   ]
  },
  {
   "cell_type": "markdown",
   "metadata": {},
   "source": [
    "## Data Import and Cleaning"
   ]
  },
  {
   "cell_type": "markdown",
   "metadata": {},
   "source": [
    "**import libaries**"
   ]
  },
  {
   "cell_type": "code",
   "execution_count": 1,
   "metadata": {},
   "outputs": [],
   "source": [
    "import numpy as np\n",
    "import pandas as pd\n",
    "import matplotlib.pyplot as plt\n",
    "import seaborn as sns\n",
    "from sklearn.preprocessing import PolynomialFeatures\n",
    "from sklearn.linear_model import LinearRegression\n",
    "from sklearn.pipeline import make_pipeline\n",
    "from scipy.stats import skew\n",
    "from sklearn.model_selection import cross_val_score, train_test_split,GridSearchCV\n",
    "from sklearn.linear_model import LinearRegression, RidgeCV, LassoCV, ElasticNetCV,ElasticNet, Lasso\n",
    "from sklearn.preprocessing import StandardScaler\n",
    "from sklearn.metrics import mean_squared_error, make_scorer, mean_squared_log_error\n",
    "# from sklearn.model_selection import RepeatedKFold\n",
    "# from sklearn.neighbors import KNeighborsRegressor\n",
    "# import xgboost as XGB\n",
    "# from sklearn.model_selection import RepeatedKFold #why it doesn't work???\n",
    "# from feature_selection import VarianceReduction"
   ]
  },
  {
   "cell_type": "code",
   "execution_count": 2,
   "metadata": {},
   "outputs": [
    {
     "name": "stdout",
     "output_type": "stream",
     "text": [
      "3.7.3 (default, Apr 24 2019, 15:29:51) [MSC v.1915 64 bit (AMD64)]\n"
     ]
    }
   ],
   "source": [
    "import sys\n",
    "print(sys.version)"
   ]
  },
  {
   "cell_type": "markdown",
   "metadata": {},
   "source": [
    "Note: ImportError: cannot import name 'RepeatedKFold'\n",
    "\n",
    "Solution (Windows):\n",
    "\n",
    "conda config --append channels conda-forge\n",
    "\n",
    "conda install scikit-learn=0.19.2"
   ]
  },
  {
   "cell_type": "markdown",
   "metadata": {},
   "source": [
    "**read training data**"
   ]
  },
  {
   "cell_type": "code",
   "execution_count": 3,
   "metadata": {
    "scrolled": true
   },
   "outputs": [
    {
     "name": "stdout",
     "output_type": "stream",
     "text": [
      "train : (1460, 81)\n"
     ]
    },
    {
     "data": {
      "text/html": [
       "<div>\n",
       "<style scoped>\n",
       "    .dataframe tbody tr th:only-of-type {\n",
       "        vertical-align: middle;\n",
       "    }\n",
       "\n",
       "    .dataframe tbody tr th {\n",
       "        vertical-align: top;\n",
       "    }\n",
       "\n",
       "    .dataframe thead th {\n",
       "        text-align: right;\n",
       "    }\n",
       "</style>\n",
       "<table border=\"1\" class=\"dataframe\">\n",
       "  <thead>\n",
       "    <tr style=\"text-align: right;\">\n",
       "      <th></th>\n",
       "      <th>1stFlrSF</th>\n",
       "      <th>2ndFlrSF</th>\n",
       "      <th>3SsnPorch</th>\n",
       "      <th>Alley</th>\n",
       "      <th>BedroomAbvGr</th>\n",
       "      <th>BldgType</th>\n",
       "      <th>BsmtCond</th>\n",
       "      <th>BsmtExposure</th>\n",
       "      <th>BsmtFinSF1</th>\n",
       "      <th>BsmtFinSF2</th>\n",
       "      <th>...</th>\n",
       "      <th>SaleType</th>\n",
       "      <th>ScreenPorch</th>\n",
       "      <th>Street</th>\n",
       "      <th>TotRmsAbvGrd</th>\n",
       "      <th>TotalBsmtSF</th>\n",
       "      <th>Utilities</th>\n",
       "      <th>WoodDeckSF</th>\n",
       "      <th>YearBuilt</th>\n",
       "      <th>YearRemodAdd</th>\n",
       "      <th>YrSold</th>\n",
       "    </tr>\n",
       "  </thead>\n",
       "  <tbody>\n",
       "    <tr>\n",
       "      <th>0</th>\n",
       "      <td>856</td>\n",
       "      <td>854</td>\n",
       "      <td>0</td>\n",
       "      <td>NaN</td>\n",
       "      <td>3</td>\n",
       "      <td>1Fam</td>\n",
       "      <td>TA</td>\n",
       "      <td>No</td>\n",
       "      <td>706</td>\n",
       "      <td>0</td>\n",
       "      <td>...</td>\n",
       "      <td>WD</td>\n",
       "      <td>0</td>\n",
       "      <td>Pave</td>\n",
       "      <td>8</td>\n",
       "      <td>856</td>\n",
       "      <td>AllPub</td>\n",
       "      <td>0</td>\n",
       "      <td>2003</td>\n",
       "      <td>2003</td>\n",
       "      <td>2008</td>\n",
       "    </tr>\n",
       "  </tbody>\n",
       "</table>\n",
       "<p>1 rows × 81 columns</p>\n",
       "</div>"
      ],
      "text/plain": [
       "   1stFlrSF  2ndFlrSF  3SsnPorch Alley  BedroomAbvGr BldgType BsmtCond  \\\n",
       "0       856       854          0   NaN             3     1Fam       TA   \n",
       "\n",
       "  BsmtExposure  BsmtFinSF1  BsmtFinSF2  ... SaleType ScreenPorch  Street  \\\n",
       "0           No         706           0  ...       WD           0    Pave   \n",
       "\n",
       "   TotRmsAbvGrd TotalBsmtSF  Utilities WoodDeckSF YearBuilt YearRemodAdd  \\\n",
       "0             8         856     AllPub          0      2003         2003   \n",
       "\n",
       "  YrSold  \n",
       "0   2008  \n",
       "\n",
       "[1 rows x 81 columns]"
      ]
     },
     "execution_count": 3,
     "metadata": {},
     "output_type": "execute_result"
    }
   ],
   "source": [
    "train = pd.read_csv('train.csv')\n",
    "print(\"train : \" + str(train.shape))\n",
    "train = train.reindex(columns=sorted(train.columns))\n",
    "train.head(1)"
   ]
  },
  {
   "cell_type": "code",
   "execution_count": 4,
   "metadata": {},
   "outputs": [
    {
     "name": "stdout",
     "output_type": "stream",
     "text": [
      "test : (1459, 80)\n"
     ]
    },
    {
     "data": {
      "text/html": [
       "<div>\n",
       "<style scoped>\n",
       "    .dataframe tbody tr th:only-of-type {\n",
       "        vertical-align: middle;\n",
       "    }\n",
       "\n",
       "    .dataframe tbody tr th {\n",
       "        vertical-align: top;\n",
       "    }\n",
       "\n",
       "    .dataframe thead th {\n",
       "        text-align: right;\n",
       "    }\n",
       "</style>\n",
       "<table border=\"1\" class=\"dataframe\">\n",
       "  <thead>\n",
       "    <tr style=\"text-align: right;\">\n",
       "      <th></th>\n",
       "      <th>1stFlrSF</th>\n",
       "      <th>2ndFlrSF</th>\n",
       "      <th>3SsnPorch</th>\n",
       "      <th>Alley</th>\n",
       "      <th>BedroomAbvGr</th>\n",
       "      <th>BldgType</th>\n",
       "      <th>BsmtCond</th>\n",
       "      <th>BsmtExposure</th>\n",
       "      <th>BsmtFinSF1</th>\n",
       "      <th>BsmtFinSF2</th>\n",
       "      <th>...</th>\n",
       "      <th>SaleType</th>\n",
       "      <th>ScreenPorch</th>\n",
       "      <th>Street</th>\n",
       "      <th>TotRmsAbvGrd</th>\n",
       "      <th>TotalBsmtSF</th>\n",
       "      <th>Utilities</th>\n",
       "      <th>WoodDeckSF</th>\n",
       "      <th>YearBuilt</th>\n",
       "      <th>YearRemodAdd</th>\n",
       "      <th>YrSold</th>\n",
       "    </tr>\n",
       "  </thead>\n",
       "  <tbody>\n",
       "    <tr>\n",
       "      <th>0</th>\n",
       "      <td>896</td>\n",
       "      <td>0</td>\n",
       "      <td>0</td>\n",
       "      <td>NaN</td>\n",
       "      <td>2</td>\n",
       "      <td>1Fam</td>\n",
       "      <td>TA</td>\n",
       "      <td>No</td>\n",
       "      <td>468.0</td>\n",
       "      <td>144.0</td>\n",
       "      <td>...</td>\n",
       "      <td>WD</td>\n",
       "      <td>120</td>\n",
       "      <td>Pave</td>\n",
       "      <td>5</td>\n",
       "      <td>882.0</td>\n",
       "      <td>AllPub</td>\n",
       "      <td>140</td>\n",
       "      <td>1961</td>\n",
       "      <td>1961</td>\n",
       "      <td>2010</td>\n",
       "    </tr>\n",
       "  </tbody>\n",
       "</table>\n",
       "<p>1 rows × 81 columns</p>\n",
       "</div>"
      ],
      "text/plain": [
       "   1stFlrSF  2ndFlrSF  3SsnPorch Alley  BedroomAbvGr BldgType BsmtCond  \\\n",
       "0       896         0          0   NaN             2     1Fam       TA   \n",
       "\n",
       "  BsmtExposure  BsmtFinSF1  BsmtFinSF2  ... SaleType ScreenPorch  Street  \\\n",
       "0           No       468.0       144.0  ...       WD         120    Pave   \n",
       "\n",
       "   TotRmsAbvGrd TotalBsmtSF  Utilities WoodDeckSF YearBuilt YearRemodAdd  \\\n",
       "0             5       882.0     AllPub        140      1961         1961   \n",
       "\n",
       "  YrSold  \n",
       "0   2010  \n",
       "\n",
       "[1 rows x 81 columns]"
      ]
     },
     "execution_count": 4,
     "metadata": {},
     "output_type": "execute_result"
    }
   ],
   "source": [
    "test = pd.read_csv('test.csv')\n",
    "print(\"test : \" + str(test.shape))\n",
    "test = test.reindex(columns=sorted(train.columns))\n",
    "test.head(1)"
   ]
  },
  {
   "cell_type": "code",
   "execution_count": 5,
   "metadata": {},
   "outputs": [
    {
     "name": "stdout",
     "output_type": "stream",
     "text": [
      "There are 0 duplicate IDs for 1460 total entries\n"
     ]
    }
   ],
   "source": [
    "# Check for duplicates \n",
    "idsUnique = len(set(train.Id))\n",
    "idsTotal = train.shape[0]\n",
    "idsDupli = idsTotal - idsUnique\n",
    "print(\"There are \" + str(idsDupli) + \" duplicate IDs for \" + str(idsTotal) + \" total entries\")\n",
    "target_var=train[['SalePrice']]"
   ]
  },
  {
   "cell_type": "code",
   "execution_count": 6,
   "metadata": {},
   "outputs": [
    {
     "name": "stdout",
     "output_type": "stream",
     "text": [
      "0          1\n",
      "2000    2001\n",
      "Name: Id, dtype: int64 (2919, 81)\n"
     ]
    }
   ],
   "source": [
    "# combine train and test sets\n",
    "data = pd.concat([train,test],axis=0)\n",
    "data.reset_index(inplace=True,drop=True)\n",
    "print(data.loc[[0,2000],'Id'], data.shape)"
   ]
  },
  {
   "cell_type": "code",
   "execution_count": 7,
   "metadata": {},
   "outputs": [],
   "source": [
    "train=data.drop(['SalePrice'],axis=1)"
   ]
  },
  {
   "cell_type": "markdown",
   "metadata": {},
   "source": [
    "## Data Types"
   ]
  },
  {
   "cell_type": "code",
   "execution_count": 8,
   "metadata": {},
   "outputs": [
    {
     "name": "stdout",
     "output_type": "stream",
     "text": [
      "Numerical features : 37\n",
      "Categorical features : 43\n"
     ]
    }
   ],
   "source": [
    "# Differentiate numerical features (minus the target) and categorical features\n",
    "categorical_features = train.select_dtypes(include = [\"object\"]).columns\n",
    "numerical_features = train.select_dtypes(exclude = [\"object\"]).columns\n",
    "print(\"Numerical features : \" + str(len(numerical_features)))\n",
    "print(\"Categorical features : \" + str(len(categorical_features)))\n",
    "train_num = train[numerical_features]\n",
    "train_cat = train[categorical_features]"
   ]
  },
  {
   "cell_type": "code",
   "execution_count": 9,
   "metadata": {},
   "outputs": [
    {
     "name": "stdout",
     "output_type": "stream",
     "text": [
      "Numerical features w/ NAs: ['BsmtFinSF1' 'BsmtFinSF2' 'BsmtFullBath' 'BsmtHalfBath' 'BsmtUnfSF'\n",
      " 'GarageArea' 'GarageCars' 'GarageYrBlt' 'LotFrontage' 'MasVnrArea'\n",
      " 'TotalBsmtSF']\n",
      "Categorical features w/ NAs: ['Alley' 'BsmtCond' 'BsmtExposure' 'BsmtFinType1' 'BsmtFinType2'\n",
      " 'BsmtQual' 'Electrical' 'Exterior1st' 'Exterior2nd' 'Fence' 'FireplaceQu'\n",
      " 'Functional' 'GarageCond' 'GarageFinish' 'GarageQual' 'GarageType'\n",
      " 'KitchenQual' 'MSZoning' 'MasVnrType' 'MiscFeature' 'PoolQC' 'SaleType'\n",
      " 'Utilities']\n"
     ]
    }
   ],
   "source": [
    "df=train_num\n",
    "print(\"Numerical features w/ NAs: \" +str(df.columns[df.isnull().any()].values))\n",
    "df=train_cat\n",
    "print(\"Categorical features w/ NAs: \" +str(df.columns[df.isnull().any()].values))"
   ]
  },
  {
   "cell_type": "markdown",
   "metadata": {},
   "source": [
    "## Missing value imputation"
   ]
  },
  {
   "cell_type": "code",
   "execution_count": 10,
   "metadata": {},
   "outputs": [],
   "source": [
    "# Handle missing values for features where median/mean or most common value doesn't make sense\n",
    "# some of the following are redundant\n",
    "# Alley : data description says NA means \"no alley access\"\n",
    "train.loc[:, \"Alley\"] = train.loc[:, \"Alley\"].fillna(\"None\")\n",
    "\n",
    "# BsmtQual etc : data description says NA for basement features is \"no basement\"\n",
    "for col in [\"BsmtCond\",\"BsmtExposure\",\"BsmtFinType1\",\"BsmtFinType2\",'BsmtQual']:\n",
    "    train.loc[:, col] = train.loc[:, col].fillna(\"No\")\n",
    "\n",
    "# NA Bsmt means 0\n",
    "for col in ['BsmtFinSF1','BsmtFinSF2','TotalBsmtSF','BsmtUnfSF','BsmtHalfBath','BsmtFullBath']:\n",
    "    train[col].fillna(0,inplace=True)   \n",
    "    \n",
    "# EnclosedPorch : NA most likely means no enclosed porch\n",
    "train.loc[:, \"EnclosedPorch\"] = train.loc[:, \"EnclosedPorch\"].fillna(0)\n",
    "# Fence : data description says NA means \"no fence\"\n",
    "train.loc[:, \"Fence\"] = train.loc[:, \"Fence\"].fillna(\"No\")\n",
    "# FireplaceQu : data description says NA means \"no fireplace\"\n",
    "train.loc[:, \"FireplaceQu\"] = train.loc[:, \"FireplaceQu\"].fillna(\"No\")\n",
    "train.loc[:, \"Fireplaces\"] = train.loc[:, \"Fireplaces\"].fillna(0)\n",
    "# Functional : data description says NA means typical\n",
    "train.loc[:, \"Functional\"] = train.loc[:, \"Functional\"].fillna(\"Typ\")\n",
    "# GarageType etc : data description says NA for garage features is \"no garage\"\n",
    "train.loc[:, \"GarageType\"] = train.loc[:, \"GarageType\"].fillna(\"No\")\n",
    "train.loc[:, \"GarageFinish\"] = train.loc[:, \"GarageFinish\"].fillna(\"No\")\n",
    "train.loc[:, \"GarageQual\"] = train.loc[:, \"GarageQual\"].fillna(\"No\")\n",
    "train.loc[:, \"GarageCond\"] = train.loc[:, \"GarageCond\"].fillna(\"No\")\n",
    "train.loc[:, \"GarageArea\"] = train.loc[:, \"GarageArea\"].fillna(0)\n",
    "train.loc[:, \"GarageCars\"] = train.loc[:, \"GarageCars\"].fillna(0)\n",
    "# HalfBath : NA most likely means no half baths above grade\n",
    "train.loc[:, \"HalfBath\"] = train.loc[:, \"HalfBath\"].fillna(0)\n",
    "# HeatingQC : NA most likely means typical\n",
    "train.loc[:, \"HeatingQC\"] = train.loc[:, \"HeatingQC\"].fillna(\"TA\")\n",
    "# KitchenAbvGr : NA most likely means 0\n",
    "train.loc[:, \"KitchenAbvGr\"] = train.loc[:, \"KitchenAbvGr\"].fillna(0)\n",
    "# KitchenQual : NA most likely means typical\n",
    "train.loc[:, \"KitchenQual\"] = train.loc[:, \"KitchenQual\"].fillna(\"TA\")\n",
    "# LotFrontage : NA most likely means no lot frontage\n",
    "train.loc[:, \"LotFrontage\"] = train.loc[:, \"LotFrontage\"].fillna(0)\n",
    "# LotShape : NA most likely means regular\n",
    "train.loc[:, \"LotShape\"] = train.loc[:, \"LotShape\"].fillna(\"Reg\")\n",
    "# MasVnrType : NA most likely means no veneer\n",
    "train.loc[:, \"MasVnrType\"] = train.loc[:, \"MasVnrType\"].fillna(\"None\")\n",
    "train.loc[:, \"MasVnrArea\"] = train.loc[:, \"MasVnrArea\"].fillna(0)\n",
    "# MiscFeature : data description says NA means \"no misc feature\"\n",
    "train.loc[:, \"MiscFeature\"] = train.loc[:, \"MiscFeature\"].fillna(\"No\")\n",
    "train.loc[:, \"MiscVal\"] = train.loc[:, \"MiscVal\"].fillna(0)\n",
    "# OpenPorchSF : NA most likely means no open porch\n",
    "train.loc[:, \"OpenPorchSF\"] = train.loc[:, \"OpenPorchSF\"].fillna(0)\n",
    "# PavedDrive : NA most likely means not paved\n",
    "train.loc[:, \"PavedDrive\"] = train.loc[:, \"PavedDrive\"].fillna(\"N\")\n",
    "# PoolQC : data description says NA means \"no pool\"\n",
    "train.loc[:, \"PoolQC\"] = train.loc[:, \"PoolQC\"].fillna(\"No\")\n",
    "train.loc[:, \"PoolArea\"] = train.loc[:, \"PoolArea\"].fillna(0)\n",
    "# SaleCondition : NA most likely means normal sale\n",
    "train.loc[:, \"SaleCondition\"] = train.loc[:, \"SaleCondition\"].fillna(\"Normal\")\n",
    "# ScreenPorch : NA most likely means no screen porch\n",
    "train.loc[:, \"ScreenPorch\"] = train.loc[:, \"ScreenPorch\"].fillna(0)\n",
    "# TotRmsAbvGrd : NA most likely means 0\n",
    "train.loc[:, \"TotRmsAbvGrd\"] = train.loc[:, \"TotRmsAbvGrd\"].fillna(0)\n",
    "# Utilities : NA most likely means all public utilities\n",
    "train.loc[:, \"Utilities\"] = train.loc[:, \"Utilities\"].fillna(\"AllPub\")\n",
    "# Electrical : NA most likely means SBrkr\n",
    "train.loc[:, \"Electrical\"] = train.loc[:, \"Electrical\"].fillna(\"SBrkr\")\n",
    "# GarageYrBlt: NA same as \n",
    "train.loc[train.GarageYrBlt.isnull(), \"GarageYrBlt\"] = train.loc[train.GarageYrBlt.isnull(), \"YearBuilt\"]\n",
    "train.loc[train.GarageYrBlt>2020,'GarageYrBlt']=train.loc[train.GarageYrBlt>2020,'YearBuilt']\n",
    "# fill w/ mode\n",
    "for col in ['Exterior1st','Exterior2nd','SaleType']:\n",
    "    train[col].fillna(data[col].mode()[0],inplace=True)    \n",
    "train['MSZoning'] =  train.groupby('Neighborhood')['MSZoning'].transform(lambda x: x.fillna(x.mode()[0]))"
   ]
  },
  {
   "cell_type": "code",
   "execution_count": 11,
   "metadata": {},
   "outputs": [],
   "source": [
    "# Some numerical features are actually really categories\n",
    "train = train.replace({\"MSSubClass\" : {20 : \"SC20\", 30 : \"SC30\", 40 : \"SC40\", 45 : \"SC45\", \n",
    "                                       50 : \"SC50\", 60 : \"SC60\", 70 : \"SC70\", 75 : \"SC75\", \n",
    "                                       80 : \"SC80\", 85 : \"SC85\", 90 : \"SC90\", 120 : \"SC120\", \n",
    "                                       150 : \"SC150\", 160 : \"SC160\", 180 : \"SC180\", 190 : \"SC190\"},\n",
    "                       \"MoSold\" : {1 : \"Jan\", 2 : \"Feb\", 3 : \"Mar\", 4 : \"Apr\", 5 : \"May\", 6 : \"Jun\",\n",
    "                                   7 : \"Jul\", 8 : \"Aug\", 9 : \"Sep\", 10 : \"Oct\", 11 : \"Nov\", 12 : \"Dec\"}\n",
    "                      })\n"
   ]
  },
  {
   "cell_type": "code",
   "execution_count": 12,
   "metadata": {},
   "outputs": [
    {
     "name": "stdout",
     "output_type": "stream",
     "text": [
      "Numerical features : 35\n",
      "Categorical features : 45\n",
      "NAs for numerical features in train : 0\n",
      "Remaining NAs for numerical features in train : 0\n"
     ]
    }
   ],
   "source": [
    "# non-missing dataset\n",
    "categorical_features = train.select_dtypes(include = [\"object\"]).columns\n",
    "numerical_features = train.select_dtypes(exclude = [\"object\"]).columns\n",
    "print(\"Numerical features : \" + str(len(numerical_features)))\n",
    "print(\"Categorical features : \" + str(len(categorical_features)))\n",
    "train_num = train[numerical_features]\n",
    "train_cat = train[categorical_features]\n",
    "print(\"NAs for numerical features in train : \" + str(train_num.isnull().values.sum()))\n",
    "print(\"Remaining NAs for numerical features in train : \" + str(train_num.isnull().values.sum()))"
   ]
  },
  {
   "cell_type": "code",
   "execution_count": 13,
   "metadata": {},
   "outputs": [],
   "source": [
    "pd.concat([target_var,train_num, train_cat], axis = 1).to_csv('dataset_1_0.csv',index=False)"
   ]
  },
  {
   "cell_type": "code",
   "execution_count": 14,
   "metadata": {},
   "outputs": [
    {
     "name": "stdout",
     "output_type": "stream",
     "text": [
      "(2916, 81)\n"
     ]
    }
   ],
   "source": [
    "train=pd.read_csv('dataset_1_0.csv',)\n",
    "train=train[train.GrLivArea < 4500].reset_index(drop=True)\n",
    "print(np.shape(train))\n",
    "train.to_csv('dataset1_1_delete_outliers.csv',index=False)"
   ]
  },
  {
   "cell_type": "code",
   "execution_count": 15,
   "metadata": {},
   "outputs": [
    {
     "name": "stdout",
     "output_type": "stream",
     "text": [
      "Numerical features : 35\n",
      "Categorical features : 45\n",
      "NAs for numerical features in train : 0\n",
      "Remaining NAs for numerical features in train : 0\n"
     ]
    }
   ],
   "source": [
    "#2 add features\n",
    "train=pd.read_csv('dataset1_1_delete_outliers.csv')\n",
    "target_var=train.loc[train.Id<=idsTotal,['SalePrice']]\n",
    "train=train.drop(['SalePrice'],axis=1)\n",
    "categorical_features = train.select_dtypes(include = [\"object\"]).columns\n",
    "numerical_features = train.select_dtypes(exclude = [\"object\"]).columns\n",
    "print(\"Numerical features : \" + str(len(numerical_features)))\n",
    "print(\"Categorical features : \" + str(len(categorical_features)))\n",
    "train_num = train[numerical_features]\n",
    "train_cat = train[categorical_features]\n",
    "print(\"NAs for numerical features in train : \" + str(train_num.isnull().values.sum()))\n",
    "print(\"Remaining NAs for numerical features in train : \" + str(train_num.isnull().values.sum()))"
   ]
  },
  {
   "cell_type": "code",
   "execution_count": 16,
   "metadata": {},
   "outputs": [
    {
     "name": "stdout",
     "output_type": "stream",
     "text": [
      "['YearBuilt', 'YearRemodAdd']\n",
      "['GarageYrBlt']\n"
     ]
    }
   ],
   "source": [
    "#Add features\n",
    "# Transform Time variables\n",
    "for s in ['Year','Yr']:\n",
    "    cols = [col for col in train_num.columns if s in col and 'YrSold' not in col]\n",
    "    print(cols)\n",
    "    for col in cols:\n",
    "        train[col+'Age']=train.YrSold-train[col]\n",
    "train['YrSold'] = train['YrSold'].astype(str)"
   ]
  },
  {
   "cell_type": "code",
   "execution_count": 17,
   "metadata": {},
   "outputs": [],
   "source": [
    "#add total; not redundant when taking log\n",
    "#From Peter\n",
    "train['TotalBsmtSF'] = train['BsmtFinSF1'] + train['BsmtFinSF2'] + train['BsmtUnfSF']\n",
    "train['TotalSF'] = train['TotalBsmtSF'] + train['1stFlrSF'] + train['2ndFlrSF']\n",
    "#From Zhongjin (Gene)\n",
    "train[\"BsmtTotalBath\"] = train[\"BsmtFullBath\"] + (0.5 * train[\"BsmtHalfBath\"]) \n",
    "train[\"TotalBath\"]=train[\"FullBath\"] + (0.5 * train[\"HalfBath\"])\n",
    "train['BsmtFinSF']=train.BsmtFinSF1+train.BsmtFinSF2\n",
    "# Total SF for porch\n",
    "train[\"AllPorchSF\"] = train[\"OpenPorchSF\"] + train[\"EnclosedPorch\"] + \\\n",
    "train[\"3SsnPorch\"] + train[\"ScreenPorch\"]"
   ]
  },
  {
   "cell_type": "code",
   "execution_count": 18,
   "metadata": {},
   "outputs": [
    {
     "name": "stdout",
     "output_type": "stream",
     "text": [
      "['1stFlrSF', '2ndFlrSF', 'BsmtFinSF1', 'BsmtFinSF2', 'BsmtUnfSF', 'LowQualFinSF', 'OpenPorchSF', 'TotalBsmtSF', 'WoodDeckSF', 'TotalSF', 'BsmtFinSF', 'AllPorchSF']\n",
      "['GarageArea', 'GrLivArea', 'LotArea', 'MasVnrArea', 'PoolArea']\n",
      "['MiscVal']\n",
      "['3SsnPorch']\n",
      "['EnclosedPorch']\n",
      "['ScreenPorch']\n",
      "['LotFrontage']\n"
     ]
    }
   ],
   "source": [
    "logvar_list=[]\n",
    "for s in ['SF','Area','Val','3SsnPorch', 'EnclosedPorch', 'ScreenPorch','LotFrontage']:\n",
    "    cols=[col for col in train.columns if s in col and 'SFoyer' not in col and '_absent' not in col]\n",
    "    print(cols)\n",
    "    logvar_list=logvar_list+cols\n",
    "    for col in cols:\n",
    "        train[col+'_log']=np.log1p(train[col])"
   ]
  },
  {
   "cell_type": "code",
   "execution_count": 19,
   "metadata": {},
   "outputs": [],
   "source": [
    "train.to_csv('dataset2_log.csv',index=False)"
   ]
  },
  {
   "cell_type": "code",
   "execution_count": 20,
   "metadata": {},
   "outputs": [
    {
     "name": "stdout",
     "output_type": "stream",
     "text": [
      "Number of numerical variables: 35\n",
      "Number of dummies for 0s: 24\n"
     ]
    }
   ],
   "source": [
    "# add dummies for numeric values=0\n",
    "cols=train_num.columns[train_num.apply(lambda x: x==0).sum()>0]\n",
    "train_num_absent = train_num.loc[:,cols].apply(lambda x: x==0).astype(int).add_suffix('_absent')\n",
    "print(\"Number of numerical variables: {}\".format(len(train_num.columns)))\n",
    "print(\"Number of dummies for 0s: {}\".format(len(train_num_absent.columns)))"
   ]
  },
  {
   "cell_type": "code",
   "execution_count": 21,
   "metadata": {},
   "outputs": [
    {
     "data": {
      "text/html": [
       "<div>\n",
       "<style scoped>\n",
       "    .dataframe tbody tr th:only-of-type {\n",
       "        vertical-align: middle;\n",
       "    }\n",
       "\n",
       "    .dataframe tbody tr th {\n",
       "        vertical-align: top;\n",
       "    }\n",
       "\n",
       "    .dataframe thead th {\n",
       "        text-align: right;\n",
       "    }\n",
       "</style>\n",
       "<table border=\"1\" class=\"dataframe\">\n",
       "  <thead>\n",
       "    <tr style=\"text-align: right;\">\n",
       "      <th></th>\n",
       "      <th>12_rooms_plus_dummy</th>\n",
       "      <th>2_kitchens_plus_dummy</th>\n",
       "      <th>5_bedroom_plus_dummy</th>\n",
       "      <th>1_bedroom_less_dummy</th>\n",
       "      <th>4_garage_more_dummy</th>\n",
       "    </tr>\n",
       "  </thead>\n",
       "  <tbody>\n",
       "    <tr>\n",
       "      <th>0</th>\n",
       "      <td>0</td>\n",
       "      <td>0</td>\n",
       "      <td>0</td>\n",
       "      <td>0</td>\n",
       "      <td>0</td>\n",
       "    </tr>\n",
       "    <tr>\n",
       "      <th>1</th>\n",
       "      <td>0</td>\n",
       "      <td>0</td>\n",
       "      <td>0</td>\n",
       "      <td>0</td>\n",
       "      <td>0</td>\n",
       "    </tr>\n",
       "    <tr>\n",
       "      <th>2</th>\n",
       "      <td>0</td>\n",
       "      <td>0</td>\n",
       "      <td>0</td>\n",
       "      <td>0</td>\n",
       "      <td>0</td>\n",
       "    </tr>\n",
       "    <tr>\n",
       "      <th>3</th>\n",
       "      <td>0</td>\n",
       "      <td>0</td>\n",
       "      <td>0</td>\n",
       "      <td>0</td>\n",
       "      <td>0</td>\n",
       "    </tr>\n",
       "    <tr>\n",
       "      <th>4</th>\n",
       "      <td>0</td>\n",
       "      <td>0</td>\n",
       "      <td>0</td>\n",
       "      <td>0</td>\n",
       "      <td>0</td>\n",
       "    </tr>\n",
       "    <tr>\n",
       "      <th>5</th>\n",
       "      <td>0</td>\n",
       "      <td>0</td>\n",
       "      <td>0</td>\n",
       "      <td>1</td>\n",
       "      <td>0</td>\n",
       "    </tr>\n",
       "    <tr>\n",
       "      <th>6</th>\n",
       "      <td>0</td>\n",
       "      <td>0</td>\n",
       "      <td>0</td>\n",
       "      <td>0</td>\n",
       "      <td>0</td>\n",
       "    </tr>\n",
       "    <tr>\n",
       "      <th>7</th>\n",
       "      <td>0</td>\n",
       "      <td>0</td>\n",
       "      <td>0</td>\n",
       "      <td>0</td>\n",
       "      <td>0</td>\n",
       "    </tr>\n",
       "    <tr>\n",
       "      <th>8</th>\n",
       "      <td>0</td>\n",
       "      <td>1</td>\n",
       "      <td>0</td>\n",
       "      <td>0</td>\n",
       "      <td>0</td>\n",
       "    </tr>\n",
       "    <tr>\n",
       "      <th>9</th>\n",
       "      <td>0</td>\n",
       "      <td>1</td>\n",
       "      <td>0</td>\n",
       "      <td>0</td>\n",
       "      <td>0</td>\n",
       "    </tr>\n",
       "  </tbody>\n",
       "</table>\n",
       "</div>"
      ],
      "text/plain": [
       "   12_rooms_plus_dummy  2_kitchens_plus_dummy  5_bedroom_plus_dummy  \\\n",
       "0                    0                      0                     0   \n",
       "1                    0                      0                     0   \n",
       "2                    0                      0                     0   \n",
       "3                    0                      0                     0   \n",
       "4                    0                      0                     0   \n",
       "5                    0                      0                     0   \n",
       "6                    0                      0                     0   \n",
       "7                    0                      0                     0   \n",
       "8                    0                      1                     0   \n",
       "9                    0                      1                     0   \n",
       "\n",
       "   1_bedroom_less_dummy  4_garage_more_dummy  \n",
       "0                     0                    0  \n",
       "1                     0                    0  \n",
       "2                     0                    0  \n",
       "3                     0                    0  \n",
       "4                     0                    0  \n",
       "5                     1                    0  \n",
       "6                     0                    0  \n",
       "7                     0                    0  \n",
       "8                     0                    0  \n",
       "9                     0                    0  "
      ]
     },
     "execution_count": 21,
     "metadata": {},
     "output_type": "execute_result"
    }
   ],
   "source": [
    "# add dummies for extreme numeric values\n",
    "#initialize empty data frame with same dimensions and ID as train\n",
    "df_dummy=pd.DataFrame(index=train.index)\n",
    "#create dummy for rooms 12 or above\n",
    "def More_Than_12_Rooms(q):\n",
    "    if(q >=12):\n",
    "        return(1)\n",
    "    else:\n",
    "        return(0)\n",
    "    \n",
    "df_dummy[\"12_rooms_plus_dummy\"] = train[\"TotRmsAbvGrd\"].apply(More_Than_12_Rooms)\n",
    "\n",
    "#create dummy for 2 or more kitchens above ground\n",
    "def More_Than_2_kitchen(q):\n",
    "    if(q >=2):\n",
    "        return(1)\n",
    "    else:\n",
    "        return(0)\n",
    "    \n",
    "df_dummy[\"2_kitchens_plus_dummy\"] = train[\"KitchenAbvGr\"].apply(More_Than_2_kitchen)\n",
    "\n",
    "#create dummy for 5 or more bedrooms above ground\n",
    "def More_Than_5_bedroom(q):\n",
    "    if(q >=5):\n",
    "        return(1)\n",
    "    else:\n",
    "        return(0)\n",
    "    \n",
    "df_dummy[\"5_bedroom_plus_dummy\"] = train[\"BedroomAbvGr\"].apply(More_Than_5_bedroom)\n",
    "\n",
    "#create dummy for 2 or fewwer bedrooms above ground\n",
    "def Less_Than_1_bedroom(q):\n",
    "    if(q <=1):\n",
    "        return(1)\n",
    "    else:\n",
    "        return(0)\n",
    "    \n",
    "df_dummy[\"1_bedroom_less_dummy\"] = train[\"BedroomAbvGr\"].apply(Less_Than_1_bedroom)\n",
    "\n",
    "def More_Than_4_car(q):\n",
    "    if(q >=4):\n",
    "        return(1)\n",
    "    else:\n",
    "        return(0)\n",
    "df_dummy[\"4_garage_more_dummy\"] = train[\"GarageCars\"].apply(More_Than_4_car)\n",
    "df_dummy.head(10)"
   ]
  },
  {
   "cell_type": "code",
   "execution_count": 22,
   "metadata": {},
   "outputs": [],
   "source": [
    "train=pd.concat([target_var,train, df_dummy,train_num_absent], axis = 1)\n",
    "train.to_csv('dataset2_numeric_dummy.csv',index=False)"
   ]
  },
  {
   "cell_type": "code",
   "execution_count": 23,
   "metadata": {},
   "outputs": [
    {
     "data": {
      "text/html": [
       "<div>\n",
       "<style scoped>\n",
       "    .dataframe tbody tr th:only-of-type {\n",
       "        vertical-align: middle;\n",
       "    }\n",
       "\n",
       "    .dataframe tbody tr th {\n",
       "        vertical-align: top;\n",
       "    }\n",
       "\n",
       "    .dataframe thead th {\n",
       "        text-align: right;\n",
       "    }\n",
       "</style>\n",
       "<table border=\"1\" class=\"dataframe\">\n",
       "  <thead>\n",
       "    <tr style=\"text-align: right;\">\n",
       "      <th></th>\n",
       "      <th>SalePrice</th>\n",
       "      <th>1stFlrSF</th>\n",
       "      <th>2ndFlrSF</th>\n",
       "      <th>3SsnPorch</th>\n",
       "      <th>BedroomAbvGr</th>\n",
       "      <th>BsmtFinSF1</th>\n",
       "      <th>BsmtFinSF2</th>\n",
       "      <th>BsmtFullBath</th>\n",
       "      <th>BsmtHalfBath</th>\n",
       "      <th>BsmtUnfSF</th>\n",
       "      <th>...</th>\n",
       "      <th>KitchenAbvGr_absent</th>\n",
       "      <th>LotFrontage_absent</th>\n",
       "      <th>LowQualFinSF_absent</th>\n",
       "      <th>MasVnrArea_absent</th>\n",
       "      <th>MiscVal_absent</th>\n",
       "      <th>OpenPorchSF_absent</th>\n",
       "      <th>PoolArea_absent</th>\n",
       "      <th>ScreenPorch_absent</th>\n",
       "      <th>TotalBsmtSF_absent</th>\n",
       "      <th>WoodDeckSF_absent</th>\n",
       "    </tr>\n",
       "  </thead>\n",
       "  <tbody>\n",
       "    <tr>\n",
       "      <th>0</th>\n",
       "      <td>208500.0</td>\n",
       "      <td>856</td>\n",
       "      <td>854</td>\n",
       "      <td>0</td>\n",
       "      <td>3</td>\n",
       "      <td>706.0</td>\n",
       "      <td>0.0</td>\n",
       "      <td>1.0</td>\n",
       "      <td>0.0</td>\n",
       "      <td>150.0</td>\n",
       "      <td>...</td>\n",
       "      <td>0</td>\n",
       "      <td>0</td>\n",
       "      <td>1</td>\n",
       "      <td>0</td>\n",
       "      <td>1</td>\n",
       "      <td>0</td>\n",
       "      <td>1</td>\n",
       "      <td>1</td>\n",
       "      <td>0</td>\n",
       "      <td>1</td>\n",
       "    </tr>\n",
       "    <tr>\n",
       "      <th>1</th>\n",
       "      <td>181500.0</td>\n",
       "      <td>1262</td>\n",
       "      <td>0</td>\n",
       "      <td>0</td>\n",
       "      <td>3</td>\n",
       "      <td>978.0</td>\n",
       "      <td>0.0</td>\n",
       "      <td>0.0</td>\n",
       "      <td>1.0</td>\n",
       "      <td>284.0</td>\n",
       "      <td>...</td>\n",
       "      <td>0</td>\n",
       "      <td>0</td>\n",
       "      <td>1</td>\n",
       "      <td>1</td>\n",
       "      <td>1</td>\n",
       "      <td>1</td>\n",
       "      <td>1</td>\n",
       "      <td>1</td>\n",
       "      <td>0</td>\n",
       "      <td>0</td>\n",
       "    </tr>\n",
       "    <tr>\n",
       "      <th>2</th>\n",
       "      <td>223500.0</td>\n",
       "      <td>920</td>\n",
       "      <td>866</td>\n",
       "      <td>0</td>\n",
       "      <td>3</td>\n",
       "      <td>486.0</td>\n",
       "      <td>0.0</td>\n",
       "      <td>1.0</td>\n",
       "      <td>0.0</td>\n",
       "      <td>434.0</td>\n",
       "      <td>...</td>\n",
       "      <td>0</td>\n",
       "      <td>0</td>\n",
       "      <td>1</td>\n",
       "      <td>0</td>\n",
       "      <td>1</td>\n",
       "      <td>0</td>\n",
       "      <td>1</td>\n",
       "      <td>1</td>\n",
       "      <td>0</td>\n",
       "      <td>1</td>\n",
       "    </tr>\n",
       "    <tr>\n",
       "      <th>3</th>\n",
       "      <td>140000.0</td>\n",
       "      <td>961</td>\n",
       "      <td>756</td>\n",
       "      <td>0</td>\n",
       "      <td>3</td>\n",
       "      <td>216.0</td>\n",
       "      <td>0.0</td>\n",
       "      <td>1.0</td>\n",
       "      <td>0.0</td>\n",
       "      <td>540.0</td>\n",
       "      <td>...</td>\n",
       "      <td>0</td>\n",
       "      <td>0</td>\n",
       "      <td>1</td>\n",
       "      <td>1</td>\n",
       "      <td>1</td>\n",
       "      <td>0</td>\n",
       "      <td>1</td>\n",
       "      <td>1</td>\n",
       "      <td>0</td>\n",
       "      <td>1</td>\n",
       "    </tr>\n",
       "    <tr>\n",
       "      <th>4</th>\n",
       "      <td>250000.0</td>\n",
       "      <td>1145</td>\n",
       "      <td>1053</td>\n",
       "      <td>0</td>\n",
       "      <td>4</td>\n",
       "      <td>655.0</td>\n",
       "      <td>0.0</td>\n",
       "      <td>1.0</td>\n",
       "      <td>0.0</td>\n",
       "      <td>490.0</td>\n",
       "      <td>...</td>\n",
       "      <td>0</td>\n",
       "      <td>0</td>\n",
       "      <td>1</td>\n",
       "      <td>0</td>\n",
       "      <td>1</td>\n",
       "      <td>0</td>\n",
       "      <td>1</td>\n",
       "      <td>1</td>\n",
       "      <td>0</td>\n",
       "      <td>0</td>\n",
       "    </tr>\n",
       "  </tbody>\n",
       "</table>\n",
       "<p>5 rows × 140 columns</p>\n",
       "</div>"
      ],
      "text/plain": [
       "   SalePrice  1stFlrSF  2ndFlrSF  3SsnPorch  BedroomAbvGr  BsmtFinSF1  \\\n",
       "0   208500.0       856       854          0             3       706.0   \n",
       "1   181500.0      1262         0          0             3       978.0   \n",
       "2   223500.0       920       866          0             3       486.0   \n",
       "3   140000.0       961       756          0             3       216.0   \n",
       "4   250000.0      1145      1053          0             4       655.0   \n",
       "\n",
       "   BsmtFinSF2  BsmtFullBath  BsmtHalfBath  BsmtUnfSF  ...  \\\n",
       "0         0.0           1.0           0.0      150.0  ...   \n",
       "1         0.0           0.0           1.0      284.0  ...   \n",
       "2         0.0           1.0           0.0      434.0  ...   \n",
       "3         0.0           1.0           0.0      540.0  ...   \n",
       "4         0.0           1.0           0.0      490.0  ...   \n",
       "\n",
       "   KitchenAbvGr_absent  LotFrontage_absent  LowQualFinSF_absent  \\\n",
       "0                    0                   0                    1   \n",
       "1                    0                   0                    1   \n",
       "2                    0                   0                    1   \n",
       "3                    0                   0                    1   \n",
       "4                    0                   0                    1   \n",
       "\n",
       "   MasVnrArea_absent  MiscVal_absent  OpenPorchSF_absent  PoolArea_absent  \\\n",
       "0                  0               1                   0                1   \n",
       "1                  1               1                   1                1   \n",
       "2                  0               1                   0                1   \n",
       "3                  1               1                   0                1   \n",
       "4                  0               1                   0                1   \n",
       "\n",
       "   ScreenPorch_absent  TotalBsmtSF_absent  WoodDeckSF_absent  \n",
       "0                   1                   0                  1  \n",
       "1                   1                   0                  0  \n",
       "2                   1                   0                  1  \n",
       "3                   1                   0                  1  \n",
       "4                   1                   0                  0  \n",
       "\n",
       "[5 rows x 140 columns]"
      ]
     },
     "execution_count": 23,
     "metadata": {},
     "output_type": "execute_result"
    }
   ],
   "source": [
    "train.head()"
   ]
  },
  {
   "cell_type": "code",
   "execution_count": 24,
   "metadata": {},
   "outputs": [
    {
     "data": {
      "text/html": [
       "<div>\n",
       "<style scoped>\n",
       "    .dataframe tbody tr th:only-of-type {\n",
       "        vertical-align: middle;\n",
       "    }\n",
       "\n",
       "    .dataframe tbody tr th {\n",
       "        vertical-align: top;\n",
       "    }\n",
       "\n",
       "    .dataframe thead th {\n",
       "        text-align: right;\n",
       "    }\n",
       "</style>\n",
       "<table border=\"1\" class=\"dataframe\">\n",
       "  <thead>\n",
       "    <tr style=\"text-align: right;\">\n",
       "      <th></th>\n",
       "      <th>Id</th>\n",
       "      <th>compPrice</th>\n",
       "      <th>compIndex</th>\n",
       "      <th>compPriceXcompIndex</th>\n",
       "    </tr>\n",
       "  </thead>\n",
       "  <tbody>\n",
       "    <tr>\n",
       "      <th>0</th>\n",
       "      <td>1</td>\n",
       "      <td>202980.0</td>\n",
       "      <td>37.2</td>\n",
       "      <td>7550856.00</td>\n",
       "    </tr>\n",
       "    <tr>\n",
       "      <th>1</th>\n",
       "      <td>2</td>\n",
       "      <td>206791.8</td>\n",
       "      <td>32.4</td>\n",
       "      <td>6700054.32</td>\n",
       "    </tr>\n",
       "    <tr>\n",
       "      <th>2</th>\n",
       "      <td>3</td>\n",
       "      <td>180480.0</td>\n",
       "      <td>37.2</td>\n",
       "      <td>6713856.00</td>\n",
       "    </tr>\n",
       "    <tr>\n",
       "      <th>3</th>\n",
       "      <td>4</td>\n",
       "      <td>189220.0</td>\n",
       "      <td>31.0</td>\n",
       "      <td>5865820.00</td>\n",
       "    </tr>\n",
       "    <tr>\n",
       "      <th>4</th>\n",
       "      <td>5</td>\n",
       "      <td>206150.0</td>\n",
       "      <td>36.4</td>\n",
       "      <td>7503860.00</td>\n",
       "    </tr>\n",
       "  </tbody>\n",
       "</table>\n",
       "</div>"
      ],
      "text/plain": [
       "   Id  compPrice  compIndex  compPriceXcompIndex\n",
       "0   1   202980.0       37.2           7550856.00\n",
       "1   2   206791.8       32.4           6700054.32\n",
       "2   3   180480.0       37.2           6713856.00\n",
       "3   4   189220.0       31.0           5865820.00\n",
       "4   5   206150.0       36.4           7503860.00"
      ]
     },
     "execution_count": 24,
     "metadata": {},
     "output_type": "execute_result"
    }
   ],
   "source": [
    "comp=pd.read_csv('dataset2_compPrice.csv')\n",
    "comp['compPriceXcompIndex']=comp['compPrice']*comp['compIndex']\n",
    "comp.head()"
   ]
  },
  {
   "cell_type": "code",
   "execution_count": 25,
   "metadata": {},
   "outputs": [],
   "source": [
    "train=pd.merge(train,comp,on='Id')\n",
    "train.to_csv('dataset2_addfeatures.csv',index=False)"
   ]
  },
  {
   "cell_type": "code",
   "execution_count": 26,
   "metadata": {},
   "outputs": [
    {
     "data": {
      "text/plain": [
       "(2916, 143)"
      ]
     },
     "execution_count": 26,
     "metadata": {},
     "output_type": "execute_result"
    }
   ],
   "source": [
    "train.shape"
   ]
  },
  {
   "cell_type": "code",
   "execution_count": 250,
   "metadata": {},
   "outputs": [
    {
     "name": "stdout",
     "output_type": "stream",
     "text": [
      "Numerical features : 96\n",
      "Categorical features : 46\n",
      "NAs for numerical features in train : 0\n",
      "Remaining NAs for numerical features in train : 0\n"
     ]
    }
   ],
   "source": [
    "#3.1, 3.2, and 3.3 are independent of each other; use the same following input!!!\n",
    "train=pd.read_csv('dataset2_addfeatures.csv')\n",
    "train['YrSold'] = train['YrSold'].astype(str)\n",
    "target_var=train.loc[train.Id<=idsTotal,['SalePrice']]\n",
    "train=train.drop(['SalePrice'],axis=1)\n",
    "categorical_features = train.select_dtypes(include = [\"object\"]).columns\n",
    "numerical_features = train.select_dtypes(exclude = [\"object\"]).columns\n",
    "print(\"Numerical features : \" + str(len(numerical_features)))\n",
    "print(\"Categorical features : \" + str(len(categorical_features)))\n",
    "train_num = train[numerical_features]\n",
    "train_cat = train[categorical_features]\n",
    "print(\"NAs for numerical features in train : \" + str(train_num.isnull().values.sum()))\n",
    "print(\"Remaining NAs for numerical features in train : \" + str(train_num.isnull().values.sum()))"
   ]
  },
  {
   "cell_type": "code",
   "execution_count": 251,
   "metadata": {},
   "outputs": [
    {
     "data": {
      "text/plain": [
       "(2916, 297)"
      ]
     },
     "execution_count": 251,
     "metadata": {},
     "output_type": "execute_result"
    }
   ],
   "source": [
    "train_cat_dum=pd.get_dummies(train_cat)\n",
    "np.shape(train_cat_dum)"
   ]
  },
  {
   "cell_type": "code",
   "execution_count": 232,
   "metadata": {},
   "outputs": [],
   "source": [
    "#3.1 encode categorical variable to numeric\n",
    "# Graeme has edited this to reflect the data visualizations!!!\n",
    "#\n",
    "train = train.replace({\n",
    "                       \"BsmtCond\" : {\"No\" : 2, \"Po\" : 1, \"Fa\" : 2, \"TA\" : 3, \"Gd\" : 4, \"Ex\" : 5},\n",
    "                       \"BsmtExposure\" : {\"No\" : 0, \"Mn\" : 1, \"Av\": 2, \"Gd\" : 3},\n",
    "                       \"BsmtFinType1\" : {\"No\" : 0, \"Unf\" : 1, \"LwQ\": 1, \"Rec\" : 1, \"BLQ\" : 1, \n",
    "                                        \"ALQ\" : 1, \"GLQ\" : 2},\n",
    "                       #\"BsmtFinType2\" : {\"No\" : 0, \"Unf\" : 1, \"LwQ\": 2, \"Rec\" : 3, \"BLQ\" : 4, \n",
    "                       #                  \"ALQ\" : 5, \"GLQ\" : 6},\n",
    "                       \"BsmtQual\" : {\"No\" : 2, \"Po\" : 1, \"Fa\" : 2, \"TA\": 3, \"Gd\" : 4, \"Ex\" : 5},\n",
    "                       \"ExterCond\" : {\"Po\" : 1, \"Fa\" : 2, \"TA\": 3, \"Gd\": 4, \"Ex\" : 5},\n",
    "                       \"ExterQual\" : {\"Po\" : 1, \"Fa\" : 2, \"TA\": 3, \"Gd\": 4, \"Ex\" : 5},\n",
    "                       \"FireplaceQu\" : {\"No\" : 1, \"Po\" : 1, \"Fa\" : 2, \"TA\" : 3, \"Gd\" : 4, \"Ex\" : 5},\n",
    "                       #\"Functional\" : {\"Sal\" : 1, \"Sev\" : 2, \"Maj2\" : 3, \"Maj1\" : 4, \"Mod\": 5, \n",
    "                        #               \"Min2\" : 6, \"Min1\" : 7, \"Typ\" : 8},\n",
    "                       \"GarageCond\" : {\"No\" : 0, \"Po\" : 1, \"Fa\" : 2, \"TA\" : 3, \"Gd\" : 4, \"Ex\" : 5},\n",
    "                       \"GarageQual\" : {\"No\" : 2, \"Po\" : 1, \"Fa\" : 2, \"TA\" : 3, \"Gd\" : 4, \"Ex\" : 5},\n",
    "                       \"HeatingQC\" : {\"Po\" : 1, \"Fa\" : 2, \"TA\" : 3, \"Gd\" : 4, \"Ex\" : 5},\n",
    "                       \"KitchenQual\" : {\"Po\" : 1, \"Fa\" : 2, \"TA\" : 3, \"Gd\" : 4, \"Ex\" : 5},\n",
    "                       #\"LandSlope\" : {\"Sev\" : 1, \"Mod\" : 2, \"Gtl\" : 3},\n",
    "                       \"LandContour\" : {\"Bnk\" : 0, \"Lvl\" : 1, \"Low\" : 2,\"HLS\" : 2},\n",
    "                       \"LotShape\" : {\"IR3\" : 1, \"IR2\" : 1, \"IR1\" : 1, \"Reg\" : 2},\n",
    "                       \"PavedDrive\" : {\"N\" : 0, \"P\" : 1, \"Y\" : 2},\n",
    "                       \"PoolQC\" : {\"No\" : 0, \"Fa\" : 1, \"TA\" : 2, \"Gd\" : 3, \"Ex\" : 4}})\n",
    "\n",
    "pd.concat([target_var,train], axis = 1).to_csv('dataset3_1.csv',index=False)\n"
   ]
  },
  {
   "cell_type": "code",
   "execution_count": 233,
   "metadata": {},
   "outputs": [],
   "source": [
    "X=pd.get_dummies(train)"
   ]
  },
  {
   "cell_type": "code",
   "execution_count": 234,
   "metadata": {},
   "outputs": [
    {
     "data": {
      "text/plain": [
       "0       0\n",
       "1       0\n",
       "2       0\n",
       "3       0\n",
       "4       0\n",
       "5       0\n",
       "6       0\n",
       "7       0\n",
       "8       0\n",
       "9       0\n",
       "10      0\n",
       "11      0\n",
       "12      0\n",
       "13      0\n",
       "14      0\n",
       "15      0\n",
       "16      0\n",
       "17      0\n",
       "18      0\n",
       "19      0\n",
       "20      0\n",
       "21      0\n",
       "22      0\n",
       "23      0\n",
       "24      0\n",
       "25      0\n",
       "26      0\n",
       "27      0\n",
       "28      0\n",
       "29      0\n",
       "       ..\n",
       "2886    0\n",
       "2887    0\n",
       "2888    0\n",
       "2889    0\n",
       "2890    0\n",
       "2891    0\n",
       "2892    0\n",
       "2893    0\n",
       "2894    0\n",
       "2895    0\n",
       "2896    0\n",
       "2897    0\n",
       "2898    0\n",
       "2899    0\n",
       "2900    0\n",
       "2901    0\n",
       "2902    0\n",
       "2903    0\n",
       "2904    0\n",
       "2905    0\n",
       "2906    0\n",
       "2907    0\n",
       "2908    0\n",
       "2909    0\n",
       "2910    0\n",
       "2911    0\n",
       "2912    0\n",
       "2913    0\n",
       "2914    0\n",
       "2915    0\n",
       "Name: MSSubClass_SC150, Length: 2916, dtype: uint8"
      ]
     },
     "execution_count": 234,
     "metadata": {},
     "output_type": "execute_result"
    }
   ],
   "source": [
    "X.MSSubClass_SC150"
   ]
  },
  {
   "cell_type": "code",
   "execution_count": null,
   "metadata": {},
   "outputs": [],
   "source": [
    "# 3.2 Peter's code for clustering of categories\n",
    "train.to_csv('dataset3_2.csv',index=False)\n"
   ]
  },
  {
   "cell_type": "code",
   "execution_count": 181,
   "metadata": {},
   "outputs": [],
   "source": [
    "# 3.3 Zhongjin(Gene)'s code for removing duplicates and variables causing multicollinearity (done)"
   ]
  },
  {
   "cell_type": "code",
   "execution_count": 201,
   "metadata": {},
   "outputs": [
    {
     "name": "stdout",
     "output_type": "stream",
     "text": [
      "Duplicates                 Fireplaces_absent\n",
      "FireplaceQu_No           1.000000\n",
      "Fireplaces               0.900818\n",
      "Duplicates                    GarageArea_absent\n",
      "GarageCars_absent            1.00000\n",
      "GarageFinish_No              0.99667\n",
      "Duplicates                    GarageCars_absent\n",
      "GarageArea_absent            1.00000\n",
      "GarageFinish_No              0.99667\n",
      "Duplicates                  TotalBsmtSF_absent\n",
      "BsmtFinType1_No            1.000000\n",
      "BsmtFinType2_No            0.993555\n"
     ]
    }
   ],
   "source": [
    "# check pair-wise high correlations\n",
    "train_cat_dum = pd.get_dummies(train_cat)\n",
    "corr_mat=pd.concat([train[numerical_features],train_cat_dum],axis=1).corr()\n",
    "np.fill_diagonal(corr_mat.values, 0)\n",
    "for i, col in enumerate(numerical_features):\n",
    "    if corr_mat[[col]].abs().sort_values(col,ascending=False).iloc[0,0]==1:\n",
    "        print('Duplicates',corr_mat[[col]].abs().sort_values(col,ascending=False).iloc[:2,:])"
   ]
  },
  {
   "cell_type": "code",
   "execution_count": 202,
   "metadata": {},
   "outputs": [],
   "source": [
    "# drop duplicates\n",
    "train.drop(['Fireplaces_absent','GarageArea_absent','GarageCars_absent','TotalBsmtSF_absent'],axis=1,inplace=True)"
   ]
  },
  {
   "cell_type": "code",
   "execution_count": 203,
   "metadata": {},
   "outputs": [],
   "source": [
    "pd.concat([target_var,train], axis = 1).to_csv('dataset4_nodup.csv',index=False)"
   ]
  },
  {
   "cell_type": "code",
   "execution_count": 204,
   "metadata": {},
   "outputs": [
    {
     "name": "stdout",
     "output_type": "stream",
     "text": [
      "BsmtFullBath R^2: 1.00\n",
      "BsmtHalfBath R^2: 1.00\n",
      "YearBuiltAge R^2: 1.00\n",
      "YearBuilt R^2: 1.00\n",
      "FullBath R^2: 1.00\n",
      "GarageYrBlt R^2: 1.00\n",
      "BsmtTotalBath R^2: 1.00\n",
      "GarageYrBltAge R^2: 1.00\n",
      "YearRemodAdd R^2: 1.00\n",
      "YearRemodAddAge R^2: 1.00\n",
      "TotalBath R^2: 1.00\n",
      "HalfBath R^2: 1.00\n"
     ]
    }
   ],
   "source": [
    "# check high R2 variables; all have been addressed by the feature engineering above\n",
    "from sklearn import linear_model\n",
    "ols = linear_model.LinearRegression()\n",
    "df=pd.concat([train[set(train.columns)-set(logvar_list)-set(categorical_features)]],axis=1)\n",
    "for i, col in enumerate(df.columns.values):\n",
    "    x=df.iloc[:,df.columns!=col]\n",
    "    y=df.iloc[:,i]\n",
    "    ols.fit(x, y)   #### X needs to be 2-D array; X.reshape(-1,1) to shape 1-D array; x = df[[\"col1\"]]\n",
    "    if ols.score(x, y)==1:\n",
    "        print(col+' R^2: %.2f' % ols.score(x, y)) ## score: the R^2 of the fitted model"
   ]
  },
  {
   "cell_type": "code",
   "execution_count": 205,
   "metadata": {},
   "outputs": [],
   "source": [
    "train.drop(['BsmtHalfBath','HalfBath','YearBuilt','GarageYrBlt','YearRemodAdd'],axis=1,inplace=True)\n",
    "#verify multicolinearity is addressed\n",
    "df=pd.concat([train[set(train.columns)-set(logvar_list)-set(categorical_features)]],axis=1)\n",
    "for i, col in enumerate(df.columns.values):\n",
    "    x=df.iloc[:,df.columns!=col]\n",
    "    y=df.iloc[:,i]\n",
    "    ols.fit(x, y)   #### X needs to be 2-D array; X.reshape(-1,1) to shape 1-D array; x = df[[\"col1\"]]\n",
    "    if ols.score(x, y)==1:\n",
    "        print(col+' R^2: %.2f' % ols.score(x, y)) ## score: the R^2 of the fitted model\n",
    "        \n",
    "pd.concat([target_var,train], axis = 1).to_csv('dataset4_nodup_nomulcol.csv',index=False)"
   ]
  }
 ],
 "metadata": {
  "kernelspec": {
   "display_name": "Python 3",
   "language": "python",
   "name": "python3"
  },
  "language_info": {
   "codemirror_mode": {
    "name": "ipython",
    "version": 3
   },
   "file_extension": ".py",
   "mimetype": "text/x-python",
   "name": "python",
   "nbconvert_exporter": "python",
   "pygments_lexer": "ipython3",
   "version": "3.7.3"
  }
 },
 "nbformat": 4,
 "nbformat_minor": 2
}
